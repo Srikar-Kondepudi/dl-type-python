{
 "cells": [
  {
   "cell_type": "markdown",
   "metadata": {},
   "source": [
    "### TypeWriter\n",
    "This notebook runs the TypeWriter method for predicting types of Python methods. "
   ]
  },
  {
   "cell_type": "code",
   "execution_count": 2,
   "metadata": {},
   "outputs": [],
   "source": [
    "from gh_query import load_json, gen_json_file, find_current_repos\n",
    "from typewriter import config_TW\n",
    "from os.path import join, exists, isdir\n",
    "import os\n",
    "import re\n",
    "import pickle\n",
    "import pandas as pd\n",
    "import numpy as np\n",
    "import result_proc\n",
    "import ast\n",
    "import random\n",
    "from importlib import reload"
   ]
  },
  {
   "cell_type": "code",
   "execution_count": 3,
   "metadata": {},
   "outputs": [
    {
     "data": {
      "text/plain": [
       "'3.6.9'"
      ]
     },
     "execution_count": 3,
     "metadata": {},
     "output_type": "execute_result"
    }
   ],
   "source": [
    "import platform\n",
    "platform.python_version()"
   ]
  },
  {
   "cell_type": "markdown",
   "metadata": {},
   "source": [
    "### Cleaning"
   ]
  },
  {
   "cell_type": "code",
   "execution_count": null,
   "metadata": {},
   "outputs": [],
   "source": [
    "from result_proc import copy_results, clean_output\n",
    "# Copying the results and cleaning the output of last run\n",
    "#copy_results('./output/reports/', './results/')\n",
    "\n",
    "# Delete all the files in the output folder\n",
    "#clean_output('./output/')"
   ]
  },
  {
   "cell_type": "markdown",
   "metadata": {},
   "source": [
    "### Select Python projects"
   ]
  },
  {
   "cell_type": "markdown",
   "metadata": {},
   "source": [
    "The path to the data files including Python repositories"
   ]
  },
  {
   "cell_type": "code",
   "execution_count": 4,
   "metadata": {},
   "outputs": [],
   "source": [
    "DATA_DIR = '/home/amir/projects/ML4SE/data'"
   ]
  },
  {
   "cell_type": "markdown",
   "metadata": {},
   "source": [
    "Here, we only select Python projects that has `mypy` as one of its dependencies"
   ]
  },
  {
   "cell_type": "code",
   "execution_count": 5,
   "metadata": {},
   "outputs": [],
   "source": [
    "repos = load_json(join(DATA_DIR, 'mypy-dependents-by-stars.json'))\n",
    " \n",
    "gen_json_file('./data/py_projects_all.json', repos,\n",
    "              find_current_repos(join(DATA_DIR, 'full_dataset/'), True))"
   ]
  },
  {
   "cell_type": "markdown",
   "metadata": {},
   "source": [
    "Loads selected repos"
   ]
  },
  {
   "cell_type": "code",
   "execution_count": 6,
   "metadata": {},
   "outputs": [
    {
     "name": "stdout",
     "output_type": "stream",
     "text": [
      "number of projects: 4910\n"
     ]
    }
   ],
   "source": [
    "repos = load_json('./data/py_projects_all.json')\n",
    "print(\"number of projects:\", len(repos))"
   ]
  },
  {
   "cell_type": "markdown",
   "metadata": {},
   "source": [
    "### Create output folder and dirs"
   ]
  },
  {
   "cell_type": "markdown",
   "metadata": {},
   "source": [
    "Give a name to output directory. It'll be created automatically."
   ]
  },
  {
   "cell_type": "code",
   "execution_count": 4,
   "metadata": {},
   "outputs": [],
   "source": [
    "OUTPUT_DIR = '/home/amir/projects/dl-type-python/output_jun9'"
   ]
  },
  {
   "cell_type": "code",
   "execution_count": 5,
   "metadata": {},
   "outputs": [],
   "source": [
    "OUTPUT_EMBEDDINGS_DIRECTORY = join(OUTPUT_DIR, 'embed')\n",
    "OUTPUT_DIRECTORY_TW = join('/home/amir/projects/dl-type-python/output_new_pipeline', 'funcs')\n",
    "AVAILABLE_TYPES_DIR = join('/home/amir/projects/dl-type-python/output_new_pipeline', 'avl_types')\n",
    "RESULTS_DIR = join(OUTPUT_DIR, \"results\")\n",
    "\n",
    "ML_INPUTS_PATH_TW = join(OUTPUT_DIR, \"ml_inputs\")\n",
    "ML_PARAM_TW_TRAIN = join(ML_INPUTS_PATH_TW, \"_ml_param_train.csv\")\n",
    "ML_PARAM_TW_TEST = join(ML_INPUTS_PATH_TW, \"_ml_param_test.csv\")\n",
    "ML_RET_TW_TRAIN = join(ML_INPUTS_PATH_TW, \"_ml_ret_train.csv\")\n",
    "ML_RET_TW_TEST = join(ML_INPUTS_PATH_TW, \"_ml_ret_test.csv\")\n",
    "\n",
    "VECTOR_OUTPUT_DIR_TW = join(OUTPUT_DIR, 'vectors')\n",
    "VECTOR_OUTPUT_TRAIN = join(VECTOR_OUTPUT_DIR_TW, \"train\")\n",
    "VECTOR_OUTPUT_TEST = join(VECTOR_OUTPUT_DIR_TW, \"test\")\n",
    "\n",
    "W2V_MODEL_TOKEN_DIR = join(OUTPUT_EMBEDDINGS_DIRECTORY, 'w2v_token_model.bin')\n",
    "W2V_MODEL_COMMENTS_DIR = join(OUTPUT_EMBEDDINGS_DIRECTORY, 'w2v_comments_model.bin')\n",
    "\n",
    "DATA_FILE_TW = join(ML_INPUTS_PATH_TW, \"_all_data.csv\")\n",
    "\n",
    "LABEL_ENCODER_PATH_TW = join(ML_INPUTS_PATH_TW, \"label_encoder.pkl\")\n",
    "TYPES_FILE_TW = join(ML_INPUTS_PATH_TW, \"_most_frequent_types.csv\")\n",
    "\n",
    "TB_WRITER_PATH = \"/home/amir/projects/runs\"\n",
    "\n",
    "dirs = [OUTPUT_EMBEDDINGS_DIRECTORY, OUTPUT_DIRECTORY_TW, AVAILABLE_TYPES_DIR, RESULTS_DIR,\n",
    "        ML_INPUTS_PATH_TW, VECTOR_OUTPUT_DIR_TW, VECTOR_OUTPUT_TRAIN, VECTOR_OUTPUT_TEST]"
   ]
  },
  {
   "cell_type": "code",
   "execution_count": 3,
   "metadata": {},
   "outputs": [],
   "source": [
    "OUTPUT_EMBEDDINGS_DIRECTORY = join(OUTPUT_DIR, 'embed')\n",
    "OUTPUT_DIRECTORY_TW = join(OUTPUT_DIR, 'funcs')\n",
    "AVAILABLE_TYPES_DIR = join(OUTPUT_DIR, 'avl_types')\n",
    "RESULTS_DIR = join(OUTPUT_DIR, \"results\")\n",
    "\n",
    "ML_INPUTS_PATH_TW = join(OUTPUT_DIR, \"ml_inputs\")\n",
    "ML_PARAM_TW_TRAIN = join(ML_INPUTS_PATH_TW, \"_ml_param_train.csv\")\n",
    "ML_PARAM_TW_TEST = join(ML_INPUTS_PATH_TW, \"_ml_param_test.csv\")\n",
    "ML_RET_TW_TRAIN = join(ML_INPUTS_PATH_TW, \"_ml_ret_train.csv\")\n",
    "ML_RET_TW_TEST = join(ML_INPUTS_PATH_TW, \"_ml_ret_test.csv\")\n",
    "\n",
    "VECTOR_OUTPUT_DIR_TW = join(OUTPUT_DIR, 'vectors')\n",
    "VECTOR_OUTPUT_TRAIN = join(VECTOR_OUTPUT_DIR_TW, \"train\")\n",
    "VECTOR_OUTPUT_TEST = join(VECTOR_OUTPUT_DIR_TW, \"test\")\n",
    "\n",
    "W2V_MODEL_TOKEN_DIR = join(OUTPUT_EMBEDDINGS_DIRECTORY, 'w2v_token_model.bin')\n",
    "W2V_MODEL_COMMENTS_DIR = join(OUTPUT_EMBEDDINGS_DIRECTORY, 'w2v_comments_model.bin')\n",
    "\n",
    "DATA_FILE_TW = join(ML_INPUTS_PATH_TW, \"_all_data.csv\")\n",
    "\n",
    "LABEL_ENCODER_PATH_TW = join(ML_INPUTS_PATH_TW, \"label_encoder.pkl\")\n",
    "TYPES_FILE_TW = join(ML_INPUTS_PATH_TW, \"_most_frequent_types.csv\")\n",
    "\n",
    "TB_WRITER_PATH = \"/home/amir/projects/runs\"\n",
    "\n",
    "dirs = [OUTPUT_EMBEDDINGS_DIRECTORY, OUTPUT_DIRECTORY_TW, AVAILABLE_TYPES_DIR, RESULTS_DIR,\n",
    "        ML_INPUTS_PATH_TW, VECTOR_OUTPUT_DIR_TW, VECTOR_OUTPUT_TRAIN, VECTOR_OUTPUT_TEST]"
   ]
  },
  {
   "cell_type": "code",
   "execution_count": 8,
   "metadata": {},
   "outputs": [],
   "source": [
    "if not isdir(OUTPUT_DIR):\n",
    "    os.mkdir(OUTPUT_DIR)\n",
    "\n",
    "config_TW.create_dirs(dirs)"
   ]
  },
  {
   "cell_type": "markdown",
   "metadata": {},
   "source": [
    "### Step 1: Extracting functions\n",
    "Extract natural language information and preprocess functions"
   ]
  },
  {
   "cell_type": "code",
   "execution_count": 11,
   "metadata": {},
   "outputs": [
    {
     "name": "stderr",
     "output_type": "stream",
     "text": [
      "[nltk_data] Downloading package averaged_perceptron_tagger to\n",
      "[nltk_data]     /home/amir/nltk_data...\n",
      "[nltk_data]   Package averaged_perceptron_tagger is already up-to-\n",
      "[nltk_data]       date!\n",
      "[nltk_data] Downloading package stopwords to /home/amir/nltk_data...\n",
      "[nltk_data]   Package stopwords is already up-to-date!\n",
      "[nltk_data] Downloading package wordnet to /home/amir/nltk_data...\n",
      "[nltk_data]   Package wordnet is already up-to-date!\n",
      "100%|██████████| 4910/4910 [55:48<00:00,  1.47it/s]  \n"
     ]
    }
   ],
   "source": [
    "from dltpy.preprocessing.pipeline import Pipeline\n",
    "p = Pipeline(join(DATA_DIR, 'full_dataset/'), OUTPUT_DIRECTORY_TW,\n",
    "             AVAILABLE_TYPES_DIR)\n",
    "p.run_pipeline_manual(repos, 24)"
   ]
  },
  {
   "cell_type": "markdown",
   "metadata": {},
   "source": [
    "Generates dataframe or loads an existing one"
   ]
  },
  {
   "cell_type": "code",
   "execution_count": 9,
   "metadata": {},
   "outputs": [],
   "source": [
    "from dltpy.input_preparation.generate_df import list_files, parse_df"
   ]
  },
  {
   "cell_type": "code",
   "execution_count": 12,
   "metadata": {},
   "outputs": [
    {
     "name": "stdout",
     "output_type": "stream",
     "text": [
      "Found 4719 datafiles\n",
      "Loaded 0/4719 files\n",
      "Loaded 100/4719 files\n",
      "Loaded 200/4719 files\n",
      "Loaded 300/4719 files\n",
      "Loaded 400/4719 files\n"
     ]
    },
    {
     "name": "stderr",
     "output_type": "stream",
     "text": [
      "/home/amir/py_venv/py_36/lib/python3.6/site-packages/IPython/core/interactiveshell.py:3254: DtypeWarning: Columns (10,12) have mixed types.Specify dtype option on import or set low_memory=False.\n",
      "  if (await self.run_code(code, result,  async_=asy)):\n"
     ]
    },
    {
     "name": "stdout",
     "output_type": "stream",
     "text": [
      "Loaded 500/4719 files\n",
      "Loaded 600/4719 files\n",
      "Loaded 700/4719 files\n",
      "Loaded 800/4719 files\n",
      "Loaded 900/4719 files\n",
      "Loaded 1000/4719 files\n",
      "Loaded 1100/4719 files\n",
      "Loaded 1200/4719 files\n"
     ]
    },
    {
     "name": "stderr",
     "output_type": "stream",
     "text": [
      "/home/amir/py_venv/py_36/lib/python3.6/site-packages/IPython/core/interactiveshell.py:3254: DtypeWarning: Columns (10) have mixed types.Specify dtype option on import or set low_memory=False.\n",
      "  if (await self.run_code(code, result,  async_=asy)):\n"
     ]
    },
    {
     "name": "stdout",
     "output_type": "stream",
     "text": [
      "Loaded 1300/4719 files\n",
      "Loaded 1400/4719 files\n",
      "Loaded 1500/4719 files\n",
      "Loaded 1600/4719 files\n",
      "Loaded 1700/4719 files\n",
      "Loaded 1800/4719 files\n",
      "Loaded 1900/4719 files\n",
      "Loaded 2000/4719 files\n",
      "Loaded 2100/4719 files\n",
      "Loaded 2200/4719 files\n",
      "Loaded 2300/4719 files\n",
      "Loaded 2400/4719 files\n",
      "Loaded 2500/4719 files\n",
      "Loaded 2600/4719 files\n",
      "Loaded 2700/4719 files\n",
      "Loaded 2800/4719 files\n",
      "Loaded 2900/4719 files\n",
      "Loaded 3000/4719 files\n",
      "Loaded 3100/4719 files\n",
      "Loaded 3200/4719 files\n",
      "Loaded 3300/4719 files\n",
      "Loaded 3400/4719 files\n",
      "Loaded 3500/4719 files\n",
      "Loaded 3600/4719 files\n",
      "Loaded 3700/4719 files\n",
      "Loaded 3800/4719 files\n",
      "Loaded 3900/4719 files\n",
      "Loaded 4000/4719 files\n",
      "Loaded 4100/4719 files\n",
      "Loaded 4200/4719 files\n",
      "Loaded 4300/4719 files\n",
      "Loaded 4400/4719 files\n",
      "Loaded 4500/4719 files\n",
      "Loaded 4600/4719 files\n",
      "Loaded 4700/4719 files\n",
      "Dataframe loaded writing it to CSV\n"
     ]
    }
   ],
   "source": [
    "if config_TW.CACHE_TW and os.path.exists(DATA_FILE_TW):\n",
    "    print(\"Loading cached copy\")\n",
    "    df = pd.read_csv(DATA_FILE_TW)\n",
    "else:\n",
    "    DATA_FILES = list_files(OUTPUT_DIRECTORY_TW)\n",
    "    print(\"Found %d datafiles\" % len(DATA_FILES))\n",
    "    #print(DATA_FILES)\n",
    "    df = parse_df(DATA_FILES, batch_size=4098)\n",
    "    print(\"Dataframe loaded writing it to CSV\")\n",
    "    df.to_csv(DATA_FILE_TW, index=False)"
   ]
  },
  {
   "cell_type": "markdown",
   "metadata": {},
   "source": [
    "Initial dataset before processing parameter and returns data"
   ]
  },
  {
   "cell_type": "code",
   "execution_count": 13,
   "metadata": {},
   "outputs": [
    {
     "data": {
      "text/html": [
       "<div>\n",
       "<style scoped>\n",
       "    .dataframe tbody tr th:only-of-type {\n",
       "        vertical-align: middle;\n",
       "    }\n",
       "\n",
       "    .dataframe tbody tr th {\n",
       "        vertical-align: top;\n",
       "    }\n",
       "\n",
       "    .dataframe thead th {\n",
       "        text-align: right;\n",
       "    }\n",
       "</style>\n",
       "<table border=\"1\" class=\"dataframe\">\n",
       "  <thead>\n",
       "    <tr style=\"text-align: right;\">\n",
       "      <th></th>\n",
       "      <th>author</th>\n",
       "      <th>repo</th>\n",
       "      <th>file</th>\n",
       "      <th>has_type</th>\n",
       "      <th>name</th>\n",
       "      <th>docstring</th>\n",
       "      <th>func_descr</th>\n",
       "      <th>arg_names</th>\n",
       "      <th>arg_types</th>\n",
       "      <th>arg_descrs</th>\n",
       "      <th>return_type</th>\n",
       "      <th>return_expr</th>\n",
       "      <th>return_descr</th>\n",
       "      <th>args_occur</th>\n",
       "      <th>arg_names_len</th>\n",
       "      <th>arg_types_len</th>\n",
       "    </tr>\n",
       "  </thead>\n",
       "  <tbody>\n",
       "    <tr>\n",
       "      <th>0</th>\n",
       "      <td>okchaty</td>\n",
       "      <td>common</td>\n",
       "      <td>/home/amir/projects/ML4SE/data/full_dataset/ok...</td>\n",
       "      <td>False</td>\n",
       "      <td>test host file</td>\n",
       "      <td>NaN</td>\n",
       "      <td>NaN</td>\n",
       "      <td>['host']</td>\n",
       "      <td>['']</td>\n",
       "      <td>['']</td>\n",
       "      <td>NaN</td>\n",
       "      <td>[]</td>\n",
       "      <td>NaN</td>\n",
       "      <td>['exe host file']</td>\n",
       "      <td>1</td>\n",
       "      <td>1</td>\n",
       "    </tr>\n",
       "    <tr>\n",
       "      <th>1</th>\n",
       "      <td>okchaty</td>\n",
       "      <td>common</td>\n",
       "      <td>/home/amir/projects/ML4SE/data/full_dataset/ok...</td>\n",
       "      <td>False</td>\n",
       "      <td>test build dependency</td>\n",
       "      <td>NaN</td>\n",
       "      <td>NaN</td>\n",
       "      <td>['host', 'pkg']</td>\n",
       "      <td>['', '']</td>\n",
       "      <td>['', '']</td>\n",
       "      <td>NaN</td>\n",
       "      <td>[]</td>\n",
       "      <td>NaN</td>\n",
       "      <td>['pkg host package', 'pkg host assert pkg inst...</td>\n",
       "      <td>2</td>\n",
       "      <td>2</td>\n",
       "    </tr>\n",
       "    <tr>\n",
       "      <th>2</th>\n",
       "      <td>etcher-be</td>\n",
       "      <td>epab_test</td>\n",
       "      <td>/home/amir/projects/ML4SE/data/full_dataset/et...</td>\n",
       "      <td>False</td>\n",
       "      <td>read single file</td>\n",
       "      <td>NaN</td>\n",
       "      <td>NaN</td>\n",
       "      <td>['file path']</td>\n",
       "      <td>['']</td>\n",
       "      <td>['']</td>\n",
       "      <td>NaN</td>\n",
       "      <td>['n n join title f read']</td>\n",
       "      <td>NaN</td>\n",
       "      <td>[]</td>\n",
       "      <td>1</td>\n",
       "      <td>1</td>\n",
       "    </tr>\n",
       "    <tr>\n",
       "      <th>3</th>\n",
       "      <td>etcher-be</td>\n",
       "      <td>epab_test</td>\n",
       "      <td>/home/amir/projects/ML4SE/data/full_dataset/et...</td>\n",
       "      <td>True</td>\n",
       "      <td>read local file</td>\n",
       "      <td>read one text file return join together title ...</td>\n",
       "      <td>read one text file return join together</td>\n",
       "      <td>['file path']</td>\n",
       "      <td>['str']</td>\n",
       "      <td>['']</td>\n",
       "      <td>str</td>\n",
       "      <td>['n n n join map read single file file path']</td>\n",
       "      <td>NaN</td>\n",
       "      <td>[]</td>\n",
       "      <td>1</td>\n",
       "      <td>1</td>\n",
       "    </tr>\n",
       "    <tr>\n",
       "      <th>4</th>\n",
       "      <td>etcher-be</td>\n",
       "      <td>epab_test</td>\n",
       "      <td>/home/amir/projects/ML4SE/data/full_dataset/et...</td>\n",
       "      <td>False</td>\n",
       "      <td>test dummy</td>\n",
       "      <td>NaN</td>\n",
       "      <td>NaN</td>\n",
       "      <td>[]</td>\n",
       "      <td>[]</td>\n",
       "      <td>[]</td>\n",
       "      <td>NaN</td>\n",
       "      <td>[]</td>\n",
       "      <td>NaN</td>\n",
       "      <td>[]</td>\n",
       "      <td>0</td>\n",
       "      <td>0</td>\n",
       "    </tr>\n",
       "  </tbody>\n",
       "</table>\n",
       "</div>"
      ],
      "text/plain": [
       "      author       repo                                               file  \\\n",
       "0    okchaty     common  /home/amir/projects/ML4SE/data/full_dataset/ok...   \n",
       "1    okchaty     common  /home/amir/projects/ML4SE/data/full_dataset/ok...   \n",
       "2  etcher-be  epab_test  /home/amir/projects/ML4SE/data/full_dataset/et...   \n",
       "3  etcher-be  epab_test  /home/amir/projects/ML4SE/data/full_dataset/et...   \n",
       "4  etcher-be  epab_test  /home/amir/projects/ML4SE/data/full_dataset/et...   \n",
       "\n",
       "   has_type                   name  \\\n",
       "0     False         test host file   \n",
       "1     False  test build dependency   \n",
       "2     False       read single file   \n",
       "3      True        read local file   \n",
       "4     False             test dummy   \n",
       "\n",
       "                                           docstring  \\\n",
       "0                                                NaN   \n",
       "1                                                NaN   \n",
       "2                                                NaN   \n",
       "3  read one text file return join together title ...   \n",
       "4                                                NaN   \n",
       "\n",
       "                                func_descr        arg_names arg_types  \\\n",
       "0                                      NaN         ['host']      ['']   \n",
       "1                                      NaN  ['host', 'pkg']  ['', '']   \n",
       "2                                      NaN    ['file path']      ['']   \n",
       "3  read one text file return join together    ['file path']   ['str']   \n",
       "4                                      NaN               []        []   \n",
       "\n",
       "  arg_descrs return_type                                    return_expr  \\\n",
       "0       ['']         NaN                                             []   \n",
       "1   ['', '']         NaN                                             []   \n",
       "2       ['']         NaN                      ['n n join title f read']   \n",
       "3       ['']         str  ['n n n join map read single file file path']   \n",
       "4         []         NaN                                             []   \n",
       "\n",
       "  return_descr                                         args_occur  \\\n",
       "0          NaN                                  ['exe host file']   \n",
       "1          NaN  ['pkg host package', 'pkg host assert pkg inst...   \n",
       "2          NaN                                                 []   \n",
       "3          NaN                                                 []   \n",
       "4          NaN                                                 []   \n",
       "\n",
       "   arg_names_len  arg_types_len  \n",
       "0              1              1  \n",
       "1              2              2  \n",
       "2              1              1  \n",
       "3              1              1  \n",
       "4              0              0  "
      ]
     },
     "execution_count": 13,
     "metadata": {},
     "output_type": "execute_result"
    }
   ],
   "source": [
    "df.head(5)"
   ]
  },
  {
   "cell_type": "markdown",
   "metadata": {},
   "source": [
    "stats of the repositories"
   ]
  },
  {
   "cell_type": "code",
   "execution_count": 14,
   "metadata": {},
   "outputs": [],
   "source": [
    "def print_dataset_stats(df):\n",
    "    print(\"Number of source files: \", len(df.file.unique()))\n",
    "    print(\"Number of functions: \", len(df.name))\n",
    "    print(\"Number of functions with comments: \",\n",
    "      df[(~df['return_descr'].isnull()) | (~df['func_descr'].isnull())].shape[0])\n",
    "    print(\"Number of functions with return types: \", df['return_type'].count())\n",
    "    print(\"Number of functions with both: \",\n",
    "      df[((~df['return_descr'].isnull()) | (~df['func_descr'].isnull())) & (~df['return_type'].isnull())].shape[0])"
   ]
  },
  {
   "cell_type": "code",
   "execution_count": 15,
   "metadata": {},
   "outputs": [
    {
     "name": "stdout",
     "output_type": "stream",
     "text": [
      "Number of source files:  442889\n",
      "Number of functions:  5718106\n",
      "Number of functions with comments:  2500142\n",
      "Number of functions with return types:  490581\n",
      "Number of functions with both:  204193\n"
     ]
    }
   ],
   "source": [
    "print_dataset_stats(df)"
   ]
  },
  {
   "cell_type": "markdown",
   "metadata": {},
   "source": [
    "Duplicate files in the dataset"
   ]
  },
  {
   "cell_type": "code",
   "execution_count": 16,
   "metadata": {},
   "outputs": [],
   "source": [
    "from dpu_utils.utils.dataloading import load_jsonl_gz"
   ]
  },
  {
   "cell_type": "code",
   "execution_count": 17,
   "metadata": {},
   "outputs": [],
   "source": [
    "def repair_data_path(path):\n",
    "    rep_path = {\"/full_data/\": '/full_dataset/', \"/Users/\": '/home/'}\n",
    "    regex = re.compile(\"(%s)\" % \"|\".join(map(re.escape, rep_path.keys())))\n",
    "    return regex.sub(lambda mo: rep_path[mo.string[mo.start():mo.end()]], path)"
   ]
  },
  {
   "cell_type": "markdown",
   "metadata": {},
   "source": [
    "Select a file from each cluster of duplicate files"
   ]
  },
  {
   "cell_type": "code",
   "execution_count": 18,
   "metadata": {},
   "outputs": [],
   "source": [
    "clusters_rand_files = [repair_data_path(l.pop(random.randrange(len(l)))) for l in load_jsonl_gz('/home/amir/projects/ML4SE/data/full_data_dups_knn.jsonl.gz')]"
   ]
  },
  {
   "cell_type": "code",
   "execution_count": 19,
   "metadata": {},
   "outputs": [],
   "source": [
    "all_dup_files = [repair_data_path(f) for l in load_jsonl_gz('/home/amir/projects/ML4SE/data/full_data_dups_knn.jsonl.gz') for f in l]"
   ]
  },
  {
   "cell_type": "code",
   "execution_count": 20,
   "metadata": {},
   "outputs": [],
   "source": [
    "all_dup_files = set(all_dup_files).difference(set(clusters_rand_files))"
   ]
  },
  {
   "cell_type": "code",
   "execution_count": 21,
   "metadata": {},
   "outputs": [
    {
     "data": {
      "text/plain": [
       "334349"
      ]
     },
     "execution_count": 21,
     "metadata": {},
     "output_type": "execute_result"
    }
   ],
   "source": [
    "len(all_dup_files)"
   ]
  },
  {
   "cell_type": "markdown",
   "metadata": {},
   "source": [
    "Exclude duplicate files from the whole dataset"
   ]
  },
  {
   "cell_type": "code",
   "execution_count": 22,
   "metadata": {},
   "outputs": [],
   "source": [
    "df = df[~df['file'].isin(all_dup_files)].copy()"
   ]
  },
  {
   "cell_type": "code",
   "execution_count": 23,
   "metadata": {},
   "outputs": [
    {
     "name": "stdout",
     "output_type": "stream",
     "text": [
      "Number of source files:  174828\n",
      "Number of functions:  2016882\n",
      "Number of functions with comments:  647286\n",
      "Number of functions with return types:  261870\n",
      "Number of functions with both:  94096\n"
     ]
    }
   ],
   "source": [
    "print_dataset_stats(df)"
   ]
  },
  {
   "cell_type": "markdown",
   "metadata": {},
   "source": [
    "Splits the intial dataset based on source files. Later on, we use this to split the datasets."
   ]
  },
  {
   "cell_type": "code",
   "execution_count": 24,
   "metadata": {},
   "outputs": [],
   "source": [
    "from sklearn.model_selection import train_test_split\n",
    "train_files, test_files = train_test_split(pd.DataFrame(df['file'].unique(), columns=['file']),\n",
    "                                           test_size=0.2)"
   ]
  },
  {
   "cell_type": "code",
   "execution_count": 25,
   "metadata": {},
   "outputs": [
    {
     "name": "stdout",
     "output_type": "stream",
     "text": [
      "Number of functions in train set:  1613404\n"
     ]
    }
   ],
   "source": [
    "df_train = df[df['file'].isin(train_files.to_numpy().flatten())]\n",
    "print(\"Number of functions in train set: \", df_train.shape[0])"
   ]
  },
  {
   "cell_type": "code",
   "execution_count": 26,
   "metadata": {},
   "outputs": [
    {
     "name": "stdout",
     "output_type": "stream",
     "text": [
      "Number of functions in test set:  403478\n"
     ]
    }
   ],
   "source": [
    "df_test = df[df['file'].isin(test_files.to_numpy().flatten())]\n",
    "print(\"Number of functions in test set: \", df_test.shape[0])"
   ]
  },
  {
   "cell_type": "markdown",
   "metadata": {},
   "source": [
    "### Step 2: Processing functions"
   ]
  },
  {
   "cell_type": "code",
   "execution_count": 27,
   "metadata": {},
   "outputs": [],
   "source": [
    "from typewriter import prepocessing\n",
    "reload(prepocessing)\n",
    "from typewriter.prepocessing import filter_functions, gen_argument_df_TW, gen_most_frequent_avl_types, \\\n",
    "                                    encode_aval_types_TW, make_types_consistent\n",
    "from dltpy.input_preparation.generate_df import filter_return_dp, format_df, encode_types"
   ]
  },
  {
   "cell_type": "code",
   "execution_count": null,
   "metadata": {},
   "outputs": [],
   "source": [
    "from dltpy.input_preparation import generate_df\n",
    "reload(generate_df)"
   ]
  },
  {
   "cell_type": "markdown",
   "metadata": {},
   "source": [
    "Makes type annotations consistent by removing `typing.` from a type."
   ]
  },
  {
   "cell_type": "code",
   "execution_count": 28,
   "metadata": {},
   "outputs": [],
   "source": [
    "df = make_types_consistent(df)"
   ]
  },
  {
   "cell_type": "code",
   "execution_count": 29,
   "metadata": {},
   "outputs": [
    {
     "name": "stdout",
     "output_type": "stream",
     "text": [
      "False\n",
      "False\n"
     ]
    }
   ],
   "source": [
    "print(any([bool(re.match(r'.*typing\\..+', str(t))) for t in df['return_type']]))\n",
    "print(any([bool(re.match(r'.*typing\\..+', t)) for t in df['arg_types']]))"
   ]
  },
  {
   "cell_type": "markdown",
   "metadata": {},
   "source": [
    "Filters trivial functions such as `__str__` and `__len__` "
   ]
  },
  {
   "cell_type": "code",
   "execution_count": 30,
   "metadata": {},
   "outputs": [
    {
     "name": "stdout",
     "output_type": "stream",
     "text": [
      "Functions before dropping on __*__ methods 2016882\n",
      "Functions after dropping on __*__ methods 1982718\n",
      "Filtered out 34164 functions.\n"
     ]
    }
   ],
   "source": [
    "df = filter_functions(df)"
   ]
  },
  {
   "cell_type": "markdown",
   "metadata": {},
   "source": [
    "Extracts informations for functions' arguments"
   ]
  },
  {
   "cell_type": "code",
   "execution_count": 31,
   "metadata": {},
   "outputs": [
    {
     "name": "stdout",
     "output_type": "stream",
     "text": [
      "0.0\n",
      "0.004539223429655654\n",
      "0.005043581588506283\n",
      "0.005547939747356911\n",
      "0.009078446859311308\n",
      "0.016643819242070732\n",
      "0.017148177400921363\n",
      "0.018156893718622617\n",
      "0.018661251877473247\n",
      "0.025722266101382042\n",
      "0.02622662426023267\n",
      "0.0267309824190833\n",
      "0.02925277321333644\n",
      "0.03227892216644021\n",
      "0.033791996642992095\n",
      "0.034296354801842725\n",
      "0.03480071296069335\n",
      "0.03883557823149838\n",
      "0.03933993639034901\n",
      "0.04942709956736157\n",
      "0.050940174043913454\n",
      "0.051444532202764084\n",
      "0.051948890361614715\n",
      "0.05245324852046534\n",
      "0.05295760667931597\n",
      "0.0534619648381666\n",
      "0.05396632299701722\n",
      "0.05447068115586785\n",
      "0.05648811379127037\n",
      "0.05900990458552351\n",
      "0.07061014223908796\n",
      "0.07111450039793858\n",
      "0.07212321671563984\n",
      "0.08120166357495115\n",
      "0.0837234543692043\n",
      "0.08422781252805492\n",
      "0.08473217068690556\n",
      "0.08674960332230806\n",
      "0.08876703595771057\n",
      "0.08927139411656121\n",
      "0.08977575227541183\n",
      "0.09028011043426246\n",
      "0.09128882675196372\n",
      "0.09381061754621686\n",
      "0.09481933386391812\n",
      "0.09532369202276875\n",
      "0.09582805018161937\n",
      "0.09885419913472314\n",
      "0.09935855729357378\n",
      "0.10490649704093068\n",
      "0.11196751126483948\n",
      "0.11448930205909262\n",
      "0.11499366021794324\n",
      "0.11549801837679388\n",
      "0.12003724180644954\n",
      "0.12457646523610519\n",
      "0.12508082339495583\n",
      "0.12558518155380644\n",
      "0.12608953971265707\n",
      "0.1265938978715077\n",
      "0.12709825603035832\n",
      "0.12760261418920896\n",
      "0.1281069723480596\n",
      "0.1286113305069102\n",
      "0.12911568866576084\n",
      "0.12962004682461148\n",
      "0.1301244049834621\n",
      "0.13062876314231273\n",
      "0.13163747946001397\n",
      "0.1321418376188646\n",
      "0.13264619577771525\n",
      "0.13315055393656586\n",
      "0.1336549120954165\n",
      "0.13819413552507215\n",
      "0.13869849368392279\n",
      "0.14021156816047467\n",
      "0.14071592631932528\n",
      "0.14172464263702655\n",
      "0.15382923844944163\n",
      "0.16089025267335041\n",
      "0.16290768530875294\n",
      "0.16391640162645418\n",
      "0.1659338342618567\n",
      "0.16643819242070734\n",
      "0.1674469087384086\n",
      "0.16996869953266172\n",
      "0.17047305769151236\n",
      "0.17400356480346676\n",
      "0.17450792296231737\n",
      "0.175012281121168\n",
      "0.17551663928001865\n",
      "0.17602099743886926\n",
      "0.1765253555977199\n",
      "0.17702971375657053\n",
      "0.17753407191542114\n",
      "0.17803843007427178\n",
      "0.17955150455082367\n",
      "0.1800558627096743\n",
      "0.1805602208685249\n",
      "0.1820732953450768\n",
      "0.1856038024570312\n",
      "0.18661251877473245\n",
      "0.20073454722255005\n",
      "0.20123890538140068\n",
      "0.20174326354025132\n",
      "0.20376069617565382\n",
      "0.20426505433450445\n",
      "0.2047694124933551\n",
      "0.20577812881105634\n",
      "0.20628248696990698\n",
      "0.20678684512875758\n",
      "0.20729120328760822\n",
      "0.20779556144645886\n",
      "0.2088042777641601\n",
      "0.20930863592301074\n",
      "0.23099603675358776\n",
      "0.23150039491243837\n",
      "0.232004753071289\n",
      "0.23250911123013965\n",
      "0.23301346938899026\n",
      "0.2335178275478409\n",
      "0.23402218570669153\n",
      "0.23452654386554214\n",
      "0.23503090202439278\n",
      "0.23553526018324342\n",
      "0.23603961834209403\n",
      "0.23654397650094466\n",
      "0.2370483346597953\n",
      "0.2375526928186459\n",
      "0.23805705097749655\n",
      "0.23856140913634719\n",
      "0.2390657672951978\n",
      "0.23957012545404843\n",
      "0.24007448361289907\n",
      "0.24057884177174968\n",
      "0.24108319993060032\n",
      "0.24158755808945095\n",
      "0.24511806520140533\n",
      "0.24864857231335974\n",
      "0.2547008702195673\n",
      "0.2617618844434761\n",
      "0.2622662426023267\n",
      "0.2663011078731317\n",
      "0.27235340577933925\n",
      "0.2733621220970405\n",
      "0.2743708384147418\n",
      "0.2763882710501443\n",
      "0.27739698736784557\n",
      "0.27891006184439743\n",
      "0.27941442000324807\n",
      "0.2900059413391113\n",
      "0.29051029949796187\n",
      "0.29151901581566314\n",
      "0.30211053715152636\n",
      "0.30261489531037694\n",
      "0.3031192534692276\n",
      "0.3036236116280782\n",
      "0.30412796978692885\n",
      "0.3046323279457795\n",
      "0.30513668610463013\n",
      "0.3056410442634807\n",
      "0.30614540242233135\n",
      "0.306649760581182\n",
      "0.3071541187400326\n",
      "0.30765847689888326\n",
      "0.3081628350577339\n",
      "0.3172412819170452\n",
      "0.31774564007589584\n",
      "0.3182499982347464\n",
      "0.3192587145524477\n",
      "0.320267430870149\n",
      "0.3207717890289996\n",
      "0.3212761471878502\n",
      "0.32178050534670083\n",
      "0.32228486350555147\n",
      "0.3227892216644021\n",
      "0.32329357982325274\n",
      "0.3237979379821034\n",
      "0.32430229614095396\n",
      "0.3248066542998046\n",
      "0.3258153706175059\n",
      "0.3263197287763565\n",
      "0.32682408693520715\n",
      "0.32732844509405773\n",
      "0.32783280325290837\n",
      "0.328337161411759\n",
      "0.32884151957060964\n",
      "0.3293458777294603\n",
      "0.3298502358883109\n",
      "0.3303545940471615\n",
      "0.33085895220601214\n",
      "0.33438945931796654\n",
      "0.33590253379451845\n",
      "0.33640689195336904\n",
      "0.3374156082710703\n",
      "0.3464940551303816\n",
      "0.35153763671888794\n",
      "0.3530507111954398\n",
      "0.35355506935429043\n",
      "0.35405942751314107\n",
      "0.3545637856719917\n",
      "0.3550681438308423\n",
      "0.35960736726049797\n",
      "0.3601117254193486\n",
      "0.36061608357819924\n",
      "0.3611204417370498\n",
      "0.3631378743724524\n",
      "0.3656596651667055\n",
      "0.3722163212317637\n",
      "0.3727206793906143\n",
      "0.3732250375494649\n",
      "0.37372939570831554\n",
      "0.3742337538671662\n",
      "0.3747381120260168\n",
      "0.3792773354556725\n",
      "0.3797816936145231\n",
      "0.3802860517733737\n",
      "0.38079040993222435\n",
      "0.381294768091075\n",
      "0.3817991262499256\n",
      "0.38230348440877626\n",
      "0.38280784256762684\n",
      "0.3833122007264775\n",
      "0.3838165588853281\n",
      "0.38432091704417876\n",
      "0.3848252752030294\n",
      "0.38532963336188003\n",
      "0.3858339915207306\n",
      "0.38633834967958125\n",
      "0.3868427078384319\n",
      "0.3873470659972825\n",
      "0.38785142415613316\n",
      "0.3883557823149838\n",
      "0.3888601404738344\n",
      "0.389364498632685\n",
      "0.38986885679153566\n",
      "0.3903732149503863\n",
      "0.39138193126808757\n",
      "0.39188628942693815\n",
      "0.3923906475857888\n",
      "0.3928950057446394\n",
      "0.39339936390349006\n",
      "0.3939037220623407\n",
      "0.39440808022119134\n",
      "0.3949124383800419\n",
      "0.39541679653889256\n",
      "0.3959211546977432\n",
      "0.39642551285659383\n",
      "0.39692987101544447\n",
      "0.3974342291742951\n",
      "0.3979385873331457\n",
      "0.3984429454919963\n",
      "0.39894730365084696\n",
      "0.3994516618096976\n",
      "0.39995601996854824\n",
      "0.4004603781273989\n",
      "0.40096473628624946\n",
      "0.4014690944451001\n",
      "0.40197345260395073\n",
      "0.40247781076280137\n",
      "0.402982168921652\n",
      "0.40348652708050264\n",
      "0.4039908852393532\n",
      "0.40449524339820386\n",
      "0.4049996015570545\n",
      "0.40550395971590514\n",
      "0.4060083178747558\n",
      "0.4065126760336064\n",
      "0.40752139235130763\n",
      "0.40802575051015827\n",
      "0.4085301086690089\n",
      "0.40903446682785954\n",
      "0.4095388249867102\n",
      "0.41004318314556076\n",
      "0.4105475413044114\n",
      "0.41105189946326204\n",
      "0.4115562576221127\n",
      "0.41357369025751517\n",
      "0.4140780484163658\n",
      "0.41458240657521644\n",
      "0.4150867647340671\n",
      "0.4155911228929177\n",
      "0.41659983921061894\n",
      "0.4171041973694696\n",
      "0.4176085555283202\n",
      "0.41811291368717085\n",
      "0.420634704481424\n",
      "0.424669569752229\n",
      "0.42567828606993025\n",
      "0.4261826442287809\n",
      "0.4266870023876315\n",
      "0.4276957187053328\n",
      "0.42820007686418343\n",
      "0.4317305839761378\n",
      "0.4322349421349884\n",
      "0.43374801661154033\n",
      "0.43425237477039097\n",
      "0.43475673292924155\n",
      "0.4352610910880922\n",
      "0.4357654492469428\n",
      "0.43626980740579346\n",
      "0.4377828818823453\n",
      "0.43828724004119596\n",
      "0.4403046726765985\n",
      "0.4408090308354491\n",
      "0.44383517978855286\n",
      "0.4443395379474035\n",
      "0.44484389610625413\n",
      "0.4458526124239554\n",
      "0.44736568690050726\n",
      "0.4524092684890136\n",
      "0.4549310592832667\n",
      "0.4569484919186692\n",
      "0.45947028271292234\n",
      "0.46098335718947425\n",
      "0.46451386430142866\n",
      "0.4670356550956818\n",
      "0.46854872957223365\n",
      "0.47006180404878556\n",
      "0.4746010274784412\n",
      "0.47560974379614246\n",
      "0.47863589274924623\n",
      "0.47914025090809687\n",
      "0.4796446090669475\n",
      "0.48115768354349936\n",
      "0.4831751161789019\n",
      "0.49023613040281067\n",
      "0.49326227935591443\n",
      "0.49376663751476507\n",
      "0.4942709956736157\n",
      "0.49477535383246635\n",
      "0.495279711991317\n",
      "0.4962884283090182\n",
      "0.49679278646786884\n",
      "0.4972971446267195\n",
      "0.4978015027855701\n",
      "0.49830586094442075\n",
      "0.4988102191032714\n",
      "0.499314577262122\n",
      "0.4998189354209726\n",
      "0.5003232935798233\n",
      "0.5008276517386738\n",
      "0.5013320098975245\n",
      "0.5018363680563751\n",
      "0.5023407262152257\n",
      "0.5028450843740764\n",
      "0.503349442532927\n",
      "0.5038538006917777\n",
      "0.5043581588506283\n",
      "0.5048625170094789\n",
      "0.5058712333271802\n",
      "0.5144453220276408\n",
      "0.5149496801864915\n",
      "0.5189845454572966\n",
      "0.5235237688869522\n",
      "0.5240281270458028\n",
      "0.5280629923166078\n",
      "0.5285673504754584\n",
      "0.5290717086343091\n",
      "0.5295760667931597\n",
      "0.5300804249520104\n",
      "0.530584783110861\n",
      "0.5310891412697116\n",
      "0.5315934994285622\n",
      "0.5320978575874128\n",
      "0.5331065739051141\n",
      "0.534619648381666\n",
      "0.5351240065405166\n",
      "0.5356283646993673\n",
      "0.5361327228582179\n",
      "0.5366370810170685\n",
      "0.5376457973347697\n",
      "0.5381501554936203\n",
      "0.538654513652471\n",
      "0.5391588718113216\n",
      "0.5396632299701722\n",
      "0.5401675881290229\n",
      "0.5406719462878735\n",
      "0.5411763044467242\n",
      "0.5416806626055748\n",
      "0.5421850207644254\n",
      "0.5426893789232761\n",
      "0.5431937370821267\n",
      "0.5436980952409772\n",
      "0.5447068115586785\n",
      "0.5452111697175291\n",
      "0.5457155278763798\n",
      "0.5462198860352304\n",
      "0.546724244194081\n",
      "0.5472286023529317\n",
      "0.5663942123892556\n",
      "0.5679072868658075\n",
      "0.5754726592485668\n",
      "0.5835423897901769\n",
      "0.5865685387432807\n",
      "0.5900990458552351\n",
      "0.5906034040140857\n",
      "0.5911077621729364\n",
      "0.591612120331787\n",
      "0.5921164784906376\n",
      "0.5926208366494883\n",
      "0.5931251948083388\n",
      "0.5966557019202933\n",
      "0.5991774927145463\n",
      "0.599681850873397\n",
      "0.6001862090322476\n",
      "0.6006905671910983\n",
      "0.6011949253499489\n",
      "0.6022036416676502\n",
      "0.6072472232561564\n",
      "0.6077515814150071\n",
      "0.6082559395738577\n",
      "0.6087602977327083\n",
      "0.609264655891559\n",
      "0.6097690140504096\n",
      "0.6102733722092603\n",
      "0.6107777303681109\n",
      "0.6112820885269614\n",
      "0.6117864466858121\n",
      "0.6122908048446627\n",
      "0.6148125956389159\n",
      "0.6158213119566172\n"
     ]
    },
    {
     "name": "stdout",
     "output_type": "stream",
     "text": [
      "0.6198561772274221\n",
      "0.6203605353862728\n",
      "0.6208648935451234\n",
      "0.6259084751336297\n",
      "0.6304476985632853\n",
      "0.6435610106934017\n",
      "0.6440653688522523\n",
      "0.6445697270111029\n",
      "0.6450740851699536\n",
      "0.6455784433288042\n",
      "0.6460828014876548\n",
      "0.6465871596465055\n",
      "0.6470915178053561\n",
      "0.6475958759642068\n",
      "0.6481002341230573\n",
      "0.6486045922819079\n",
      "0.6586917554589206\n",
      "0.660709188094323\n",
      "0.6637353370474268\n",
      "0.6652484115239787\n",
      "0.6667614860005305\n",
      "0.6692832767947837\n",
      "0.6713007094301863\n",
      "0.6718050675890369\n",
      "0.6723094257478875\n",
      "0.6728137839067381\n",
      "0.6738225002244393\n",
      "0.67432685838329\n",
      "0.6748312165421406\n",
      "0.6753355747009913\n",
      "0.6758399328598419\n",
      "0.6763442910186925\n",
      "0.6768486491775432\n",
      "0.6778573654952444\n",
      "0.6783617236540951\n",
      "0.6788660818129456\n",
      "0.6793704399717962\n",
      "0.6803791562894975\n",
      "0.6864314541957051\n",
      "0.6909706776253608\n",
      "0.7020665571200746\n",
      "0.704083989755477\n",
      "0.7076144968674315\n",
      "0.7111450039793858\n",
      "0.7116493621382365\n",
      "0.7131624366147884\n",
      "0.7146755110913403\n",
      "0.715179869250191\n",
      "0.7166929437267427\n",
      "0.7197190926798466\n",
      "0.7202234508386972\n",
      "0.7212321671563985\n",
      "0.7252670324272035\n",
      "0.7262757487449047\n",
      "0.7267801069037554\n",
      "0.7277888232214567\n",
      "0.7293018976980085\n",
      "0.7298062558568591\n",
      "0.7303106140157097\n",
      "0.7308149721745604\n",
      "0.731319330333411\n",
      "0.7323280466511123\n",
      "0.7333367629688136\n",
      "0.7368672700807679\n",
      "0.7403977771927223\n",
      "0.7414064935104235\n",
      "0.7419108516692742\n",
      "0.7469544332577804\n",
      "0.7474587914166311\n",
      "0.7550241637993905\n",
      "0.7610764617055981\n",
      "0.7620851780232993\n",
      "0.765111326976403\n",
      "0.7999120399370965\n",
      "0.8004163980959471\n",
      "0.8009207562547977\n",
      "0.8024338307313496\n",
      "0.8029381888902002\n",
      "0.8034425470490508\n",
      "0.8039469052079015\n",
      "0.8044512633667521\n",
      "0.8049556215256027\n",
      "0.8054599796844534\n",
      "0.8064686960021547\n",
      "0.8084861286375571\n",
      "0.8115122775906609\n",
      "0.8125209939083622\n",
      "0.8130253520672128\n",
      "0.8135297102260635\n",
      "0.8165558591791672\n",
      "0.8170602173380178\n",
      "0.8185732918145697\n",
      "0.819582008132271\n",
      "0.8200863662911215\n",
      "0.8256343060384785\n",
      "0.8286604549915823\n",
      "0.8301735294681342\n",
      "0.8326953202623872\n",
      "0.8331996784212379\n",
      "0.8337040365800885\n",
      "0.8342083947389392\n",
      "0.8347127528977898\n",
      "0.8352171110566404\n",
      "0.8357214692154911\n",
      "0.8362258273743417\n",
      "0.8367301855331923\n",
      "0.837234543692043\n",
      "0.8377389018508936\n",
      "0.8382432600097443\n",
      "0.8417737671216986\n",
      "0.8422781252805492\n",
      "0.8427824834393999\n",
      "0.845304274233653\n",
      "0.8463129905513542\n",
      "0.8488347813456074\n",
      "0.8518609302987111\n",
      "0.857408870046068\n",
      "0.8599306608403212\n",
      "0.8624524516345744\n",
      "0.862956809793425\n",
      "0.8644698842699768\n",
      "0.8649742424288275\n",
      "0.8654786005876781\n",
      "0.8690091076996326\n",
      "0.8740526892881388\n",
      "0.8770788382412426\n",
      "0.880609345353197\n",
      "0.8816180616708982\n",
      "0.884644210624002\n",
      "0.8851485687828526\n",
      "0.8856529269417033\n",
      "0.8881747177359564\n",
      "0.8937226574833134\n",
      "0.9012880298660727\n",
      "0.9017923880249233\n",
      "0.9028011043426246\n",
      "0.9033054625014753\n",
      "0.9038098206603259\n",
      "0.9043141788191765\n",
      "0.906331611454579\n",
      "0.9078446859311309\n",
      "0.9088534022488322\n",
      "0.9123839093607865\n",
      "0.915914416472741\n",
      "0.9164187746315916\n",
      "0.9169231327904422\n",
      "0.9174274909492929\n",
      "0.9179318491081435\n",
      "0.9370974591444673\n",
      "0.9401236080975711\n",
      "0.9451671896860774\n",
      "0.9507151294334343\n",
      "0.9512194875922849\n",
      "0.9517238457511356\n",
      "0.9522282039099862\n",
      "0.9527325620688368\n",
      "0.9532369202276875\n",
      "0.9537412783865381\n",
      "0.9542456365453887\n",
      "0.9547499947042394\n",
      "0.9552543528630899\n",
      "0.9557587110219405\n",
      "0.9562630691807912\n",
      "0.9567674273396418\n",
      "0.9572717854984925\n",
      "0.9577761436573431\n",
      "0.9582805018161937\n",
      "0.9587848599750444\n",
      "0.959289218133895\n",
      "0.9597935762927456\n",
      "0.9602979344515963\n",
      "0.9608022926104469\n",
      "0.9613066507692976\n",
      "0.9618110089281481\n",
      "0.9623153670869987\n",
      "0.9628197252458494\n",
      "0.9633240834047\n",
      "0.9638284415635506\n",
      "0.9643327997224013\n",
      "0.9648371578812519\n",
      "0.9653415160401025\n",
      "0.9658458741989532\n",
      "0.9663502323578038\n",
      "0.9668545905166545\n",
      "0.9673589486755051\n",
      "0.9678633068343556\n",
      "0.9683676649932063\n",
      "0.9688720231520569\n",
      "0.9693763813109075\n",
      "0.9698807394697582\n",
      "0.9703850976286088\n",
      "0.9708894557874594\n",
      "0.9713938139463101\n",
      "0.9834984097587252\n",
      "0.9840027679175758\n",
      "0.9845071260764264\n",
      "0.9850114842352771\n",
      "0.9961073637299909\n",
      "0.9996378708419452\n",
      "1.0031683779538996\n",
      "1.0041770942716008\n",
      "1.0046814524304515\n",
      "1.0061945269070034\n",
      "1.006698885065854\n",
      "1.0087163177012566\n",
      "1.0092206758601072\n",
      "1.0097250340189579\n",
      "1.0102293921778085\n",
      "1.0127511829720617\n",
      "1.0157773319251653\n",
      "1.0253601369433274\n",
      "1.0258644951021778\n",
      "1.0263688532610284\n",
      "1.026873211419879\n",
      "1.028386285896431\n",
      "1.0288906440552816\n",
      "1.0293950022141323\n",
      "1.029899360372983\n",
      "1.0344385838026386\n",
      "1.03544730012034\n",
      "1.0505780448858586\n",
      "1.0586477754274688\n",
      "1.061169566221722\n",
      "1.0616739243805726\n",
      "1.0621782825394233\n",
      "1.0672218641279294\n",
      "1.073274162034137\n",
      "1.074787236510689\n",
      "1.0783177436226432\n",
      "1.0788221017814938\n",
      "1.0793264599403445\n",
      "1.0798308180991951\n",
      "1.0803351762580458\n",
      "1.089413623117357\n",
      "1.090926697593909\n",
      "1.0914310557527596\n",
      "1.093448488388162\n",
      "1.0944572047058634\n",
      "1.0979877118178178\n",
      "1.0995007862943698\n",
      "1.1000051444532202\n",
      "1.1005095026120708\n",
      "1.1010138607709214\n",
      "1.101518218929772\n",
      "1.1020225770886227\n",
      "1.1025269352474734\n",
      "1.103031293406324\n",
      "1.1035356515651746\n",
      "1.1040400097240253\n",
      "1.107066158677129\n",
      "1.1090835913125316\n",
      "1.1126140984244859\n",
      "1.1186663963306935\n",
      "1.1262317687134529\n",
      "1.1348058574139137\n",
      "1.1393450808435692\n",
      "1.1398494390024199\n",
      "1.1403537971612705\n",
      "1.142371229796673\n",
      "1.1428755879555237\n",
      "1.1433799461143743\n",
      "1.1453973787497769\n",
      "1.1459017369086275\n",
      "1.1464060950674781\n",
      "1.1469104532263288\n",
      "1.1534671092913868\n",
      "1.1549801837679388\n",
      "1.165571705103802\n",
      "1.1660760632626526\n",
      "1.1665804214215032\n",
      "1.1726327193277108\n",
      "1.177676300916217\n",
      "1.1781806590750676\n",
      "1.1786850172339183\n",
      "1.179189375392769\n",
      "1.1796937335516195\n",
      "1.1801980917104702\n",
      "1.1807024498693208\n",
      "1.1892765385697814\n",
      "1.189780896728632\n",
      "1.1963375527936904\n",
      "1.2013811343821965\n",
      "1.2018854925410472\n",
      "1.2023898506998978\n",
      "1.2084421486061054\n",
      "1.208946506764956\n",
      "1.2094508649238067\n",
      "1.2104595812415078\n",
      "1.2109639394003584\n",
      "1.211468297559209\n",
      "1.212981372035761\n",
      "1.2139900883534622\n",
      "1.2149988046711635\n",
      "1.2155031628300141\n",
      "1.2271034004835786\n",
      "1.2276077586424292\n",
      "1.2281121168012799\n",
      "1.2286164749601305\n",
      "1.2296251912778318\n",
      "1.2301295494366824\n",
      "1.230633907595533\n",
      "1.2311382657543837\n",
      "1.232146982072085\n",
      "1.2356774891840392\n",
      "1.2361818473428898\n",
      "1.2366862055017405\n",
      "1.237190563660591\n",
      "1.2381992799782924\n",
      "1.238703638137143\n",
      "1.2392079962959937\n",
      "1.2397123544548443\n",
      "1.240216712613695\n",
      "1.2407210707725456\n",
      "1.2412254289313962\n",
      "1.2422341452490975\n",
      "1.2427385034079481\n",
      "1.2487908013141555\n",
      "1.2497995176318568\n",
      "1.250808233949558\n",
      "1.265938978715077\n",
      "1.2669476950327783\n",
      "1.267452053191629\n",
      "1.2679564113504795\n",
      "1.274008709256687\n",
      "1.2825827979571478\n",
      "1.2846002305925501\n",
      "1.2851045887514008\n",
      "1.286113305069102\n",
      "1.2871220213868033\n",
      "1.287626379545654\n",
      "1.2881307377045046\n",
      "1.2886350958633552\n",
      "1.2891394540222059\n",
      "1.2896438121810565\n",
      "1.2901481703399071\n",
      "1.2906525284987578\n",
      "1.2911568866576084\n",
      "1.291661244816459\n",
      "1.2921656029753097\n",
      "1.2926699611341603\n",
      "1.2936786774518616\n",
      "1.2946873937695629\n",
      "1.2987222590403678\n",
      "1.2992266171992184\n",
      "1.299730975358069\n",
      "1.3002353335169197\n",
      "1.3042701987877248\n",
      "1.3072963477408286\n",
      "1.3083050640585299\n",
      "1.3088094222173803\n",
      "1.3108268548527828\n",
      "1.3123399293293347\n",
      "1.3128442874881854\n",
      "1.313348645647036\n",
      "1.3143573619647373\n",
      "1.314861720123588\n",
      "1.3153660782824386\n",
      "1.3158704364412892\n",
      "1.3163747946001398\n",
      "1.3194009435532437\n",
      "1.320409659870945\n",
      "1.321418376188646\n",
      "1.3219227343474966\n",
      "1.3304968230479575\n",
      "1.3315055393656587\n",
      "1.3320098975245094\n",
      "1.33251425568336\n",
      "1.3340273301599117\n",
      "1.3345316883187623\n",
      "1.335036046477613\n",
      "1.3355404046364636\n",
      "1.3360447627953143\n",
      "1.336549120954165\n",
      "1.3380621954307168\n",
      "1.339070911748418\n",
      "1.3431057770192232\n",
      "1.3466362841311774\n",
      "1.3501667912431319\n",
      "1.3506711494019825\n",
      "1.3531929401962357\n",
      "1.354201656513937\n",
      "1.3612626707378457\n",
      "1.3652975360086508\n",
      "1.366306252326352\n",
      "1.3668106104852027\n",
      "1.3688280431206052\n",
      "1.3693324012794559\n",
      "1.3698367594383063\n",
      "1.370341117597157\n",
      "1.3748803410268127\n",
      "1.3784108481387671\n",
      "1.3789152062976178\n",
      "1.3794195644564684\n",
      "1.3844631460449746\n",
      "1.3900110857923316\n",
      "1.4026200397635973\n",
      "1.403124397922448\n",
      "1.409681053987506\n",
      "1.411194128464058\n",
      "1.413715919258311\n",
      "1.4192638590056679\n",
      "1.4212812916410704\n",
      "1.423298724276473\n",
      "1.4263248732295768\n",
      "1.4333858874534855\n",
      "1.4343946037711868\n",
      "1.435403320088888\n",
      "1.43691639456544\n",
      "1.4379251108831412\n",
      "1.4414556179950957\n",
      "1.4439774087893487\n",
      "1.4454904832659006\n",
      "1.4510384230132576\n",
      "1.4520471393309589\n",
      "1.457090720919465\n",
      "1.4575950790783156\n",
      "1.4580994372371663\n",
      "1.458603795396017\n",
      "1.4591081535548676\n",
      "1.4596125117137182\n",
      "1.4601168698725688\n",
      "1.4606212280314195\n",
      "1.4616299443491207\n",
      "1.4621343025079714\n",
      "1.462638660666822\n",
      "1.4631430188256727\n",
      "1.464151735143374\n",
      "1.4646560933022246\n",
      "1.4651604514610752\n",
      "1.4656648096199258\n",
      "1.4661691677787765\n",
      "1.4666735259376271\n",
      "1.4671778840964778\n",
      "1.4676822422553284\n",
      "1.4681866004141788\n",
      "1.4686909585730294\n"
     ]
    },
    {
     "name": "stdout",
     "output_type": "stream",
     "text": [
      "1.46919531673188\n",
      "1.4696996748907307\n",
      "1.4702040330495814\n",
      "1.470708391208432\n",
      "1.4712127493672826\n",
      "1.4717171075261333\n",
      "1.472221465684984\n",
      "1.4727258238438345\n",
      "1.4732301820026852\n",
      "1.4737345401615358\n",
      "1.4742388983203865\n",
      "1.474743256479237\n",
      "1.4752476146380877\n",
      "1.4757519727969384\n",
      "1.476256330955789\n",
      "1.4767606891146396\n",
      "1.4772650472734903\n",
      "1.4782737635911916\n",
      "1.4787781217500422\n",
      "1.4792824799088928\n",
      "1.4797868380677435\n",
      "1.480291196226594\n",
      "1.4812999125442952\n",
      "1.4818042707031458\n",
      "1.4823086288619964\n",
      "1.482812987020847\n",
      "1.4838217033385483\n",
      "1.484326061497399\n",
      "1.4848304196562496\n",
      "1.485839135973951\n",
      "1.4863434941328015\n",
      "1.4868478522916522\n",
      "1.4873522104505028\n",
      "1.4878565686093534\n",
      "1.488360926768204\n",
      "1.4888652849270547\n",
      "1.4893696430859054\n",
      "1.4918914338801585\n",
      "1.4923957920390092\n",
      "1.4929001501978596\n",
      "1.4939088665155609\n",
      "1.4949175828332621\n",
      "1.4954219409921128\n",
      "1.496430657309814\n",
      "1.4974393736275153\n",
      "1.4984480899452166\n",
      "1.5055091041691253\n",
      "1.5095439694399304\n",
      "1.510048327598781\n",
      "1.5105526857576317\n",
      "1.5110570439164823\n",
      "1.511561402075333\n",
      "1.5120657602341836\n",
      "1.5125701183930342\n",
      "1.5130744765518849\n",
      "1.5135788347107355\n",
      "1.5140831928695861\n",
      "1.5145875510284368\n",
      "1.5150919091872874\n",
      "1.515596267346138\n",
      "1.5161006255049887\n",
      "1.5166049836638393\n",
      "1.5221529234111961\n",
      "1.5277008631585531\n",
      "1.5282052213174038\n",
      "1.5287095794762544\n",
      "1.529213937635105\n",
      "1.5297182957939555\n",
      "1.530222653952806\n",
      "1.5307270121116567\n",
      "1.5327444447470593\n",
      "1.5337531610647606\n",
      "1.5352662355413125\n",
      "1.5357705937001631\n",
      "1.5362749518590137\n",
      "1.5367793100178644\n",
      "1.537283668176715\n",
      "1.5377880263355657\n",
      "1.5382923844944163\n",
      "1.538796742653267\n",
      "1.5393011008121176\n",
      "1.5398054589709682\n",
      "1.5403098171298188\n",
      "1.5408141752886695\n",
      "1.5413185334475201\n",
      "1.5418228916063705\n",
      "1.5423272497652212\n",
      "1.5428316079240718\n",
      "1.5433359660829225\n",
      "1.543840324241773\n",
      "1.5443446824006237\n",
      "1.5448490405594744\n",
      "1.545353398718325\n",
      "1.5458577568771756\n",
      "1.5463621150360263\n",
      "1.546866473194877\n",
      "1.54938826398913\n",
      "1.550901338465682\n",
      "1.5514056966245326\n",
      "1.5519100547833833\n",
      "1.552414412942234\n",
      "1.5529187711010846\n",
      "1.5534231292599352\n",
      "1.5539274874187858\n",
      "1.5544318455776363\n",
      "1.5549362037364869\n",
      "1.5554405618953375\n",
      "1.5559449200541882\n",
      "1.5564492782130388\n",
      "1.5569536363718894\n",
      "1.5579623526895907\n",
      "1.5594754271661426\n",
      "1.5599797853249933\n",
      "1.5614928598015452\n",
      "1.5619972179603958\n",
      "1.5625015761192464\n",
      "1.563005934278097\n",
      "1.5635102924369477\n",
      "1.5640146505957984\n",
      "1.564519008754649\n",
      "1.5650233669134996\n",
      "1.5655277250723503\n",
      "1.566032083231201\n",
      "1.5665364413900513\n",
      "1.567040799548902\n",
      "1.5675451577077526\n",
      "1.5680495158666032\n",
      "1.5685538740254539\n",
      "1.5690582321843045\n",
      "1.5695625903431552\n",
      "1.5700669485020058\n",
      "1.571075664819707\n",
      "1.5715800229785577\n",
      "1.5756148882493628\n",
      "1.5761192464082134\n",
      "1.5771279627259147\n",
      "1.5776323208847653\n",
      "1.5801541116790183\n",
      "1.580658469837869\n",
      "1.5811628279967196\n",
      "1.5821715443144209\n",
      "1.5826759024732715\n",
      "1.5831802606321221\n",
      "1.5836846187909728\n",
      "1.5841889769498234\n",
      "1.5897369166971804\n",
      "1.5907456330148817\n",
      "1.5912499911737321\n",
      "1.5962935727622385\n",
      "1.5967979309210891\n",
      "1.5993197217153423\n",
      "1.599824079874193\n",
      "1.6003284380330436\n",
      "1.6008327961918942\n",
      "1.6013371543507449\n",
      "1.6023458706684461\n",
      "1.6038589451449978\n",
      "1.6043633033038485\n",
      "1.604867661462699\n",
      "1.6058763777804004\n",
      "1.6068850940981017\n",
      "1.6083981685746536\n",
      "1.6094068848923548\n",
      "1.6109199593689068\n",
      "1.6114243175277574\n",
      "1.611928675686608\n",
      "1.6129373920043093\n",
      "1.61344175016316\n",
      "1.6139461083220106\n",
      "1.615963540957413\n",
      "1.625546345975575\n",
      "1.6275637786109776\n",
      "1.6285724949286786\n",
      "1.6305899275640812\n",
      "1.6310942857229318\n",
      "1.6315986438817824\n",
      "1.6331117183583344\n",
      "1.6356335091525875\n",
      "1.6371465836291395\n",
      "1.63765094178799\n",
      "1.6381552999468407\n",
      "1.6386596581056914\n",
      "1.640172732582243\n",
      "1.6406770907410937\n",
      "1.6426945233764962\n",
      "1.6447119560118988\n",
      "1.6452163141707494\n",
      "1.6462250304884507\n",
      "1.6477381049650026\n",
      "1.6497555376004052\n",
      "1.6507642539181064\n",
      "1.651268612076957\n",
      "1.6532860447123594\n",
      "1.6563121936654632\n",
      "1.6588339844597164\n",
      "1.6613557752539696\n",
      "1.6618601334128202\n",
      "1.6623644915716709\n",
      "1.6663993568424758\n",
      "1.6669037150013264\n",
      "1.667408073160177\n",
      "1.6679124313190277\n",
      "1.6684167894778783\n",
      "1.668921147636729\n",
      "1.6719472965898328\n",
      "1.6734603710663847\n",
      "1.674469087384086\n",
      "1.6830431760845466\n",
      "1.6850606087199491\n",
      "1.6860693250376504\n",
      "1.693130339261559\n",
      "1.694643413738111\n",
      "1.6971652045323642\n",
      "1.6976695626912148\n",
      "1.7006957116443187\n",
      "1.7112872329801818\n",
      "1.7117915911390325\n",
      "1.712295949297883\n",
      "1.7128003074567337\n",
      "1.7133046656155844\n",
      "1.7138090237744348\n",
      "1.7143133819332854\n",
      "1.714817740092136\n",
      "1.7153220982509867\n",
      "1.7158264564098373\n",
      "1.716330814568688\n",
      "1.7168351727275386\n",
      "1.7173395308863892\n",
      "1.7178438890452399\n",
      "1.7183482472040905\n",
      "1.7188526053629412\n",
      "1.7193569635217918\n",
      "1.7198613216806424\n",
      "1.720365679839493\n",
      "1.7208700379983437\n",
      "1.7213743961571943\n",
      "1.7228874706337463\n",
      "1.723391828792597\n",
      "1.7238961869514475\n",
      "1.7244005451102982\n",
      "1.7249049032691488\n",
      "1.7254092614279994\n",
      "1.72591361958685\n",
      "1.7264179777457005\n",
      "1.7329746338107588\n",
      "1.7370094990815639\n",
      "1.7375138572404145\n",
      "1.7380182153992652\n",
      "1.7410443643523688\n",
      "1.7425574388289207\n",
      "1.7430617969877713\n",
      "1.7440705133054726\n",
      "1.7455835877820245\n",
      "1.751635885688232\n",
      "1.7521402438470826\n",
      "1.7526446020059332\n",
      "1.7531489601647838\n",
      "1.754157676482485\n",
      "1.7546620346413357\n",
      "1.7551663928001864\n",
      "1.755670750959037\n",
      "1.7561751091178877\n",
      "1.7632361233417964\n",
      "1.763740481500647\n",
      "1.7647491978183483\n",
      "1.765253555977199\n",
      "1.7657579141360495\n",
      "1.7662622722949002\n",
      "1.7667666304537508\n",
      "1.7687840630891534\n",
      "1.769288421248004\n",
      "1.7713058538834066\n",
      "1.7808886589015684\n",
      "1.7849235241723735\n",
      "1.7884540312843278\n",
      "1.7889583894431784\n",
      "1.789462747602029\n",
      "1.7899671057608797\n",
      "1.7904714639197303\n",
      "1.790975822078581\n",
      "1.7945063291905354\n",
      "1.795010687349386\n",
      "1.7955150455082367\n",
      "1.8005586270967429\n",
      "1.8010629852555935\n",
      "1.8025760597321454\n",
      "1.8050978505263986\n",
      "1.8131675810680086\n",
      "1.8136719392268592\n",
      "1.8252721768804236\n",
      "1.826280893198125\n",
      "1.8277939676746768\n",
      "1.8298114003100794\n",
      "1.8308201166277807\n",
      "1.8313244747866313\n",
      "1.831828832945482\n",
      "1.8323331911043326\n",
      "1.8328375492631832\n",
      "1.8333419074220338\n",
      "1.836872414533988\n",
      "1.83838548901054\n",
      "1.8449421450755983\n",
      "1.845446503234449\n",
      "1.8459508613932996\n",
      "1.8464552195521502\n",
      "1.8469595777110008\n",
      "1.8474639358698515\n",
      "1.847968294028702\n",
      "1.8484726521875527\n",
      "1.8489770103464032\n",
      "1.8494813685052538\n",
      "1.8499857266641044\n",
      "1.850490084822955\n",
      "1.8509944429818057\n",
      "1.8514988011406563\n",
      "1.852003159299507\n",
      "1.8525075174583576\n",
      "1.8530118756172083\n",
      "1.8540205919349095\n",
      "1.8545249500937602\n",
      "1.8550293082526108\n",
      "1.8555336664114614\n",
      "1.856038024570312\n",
      "1.8565423827291627\n",
      "1.8570467408880134\n",
      "1.857551099046864\n",
      "1.8580554572057146\n",
      "1.8585598153645653\n",
      "1.859064173523416\n",
      "1.8595685316822665\n",
      "1.8600728898411172\n",
      "1.8605772479999678\n",
      "1.8610816061588185\n",
      "1.8620903224765195\n",
      "1.8625946806353701\n",
      "1.8630990387942208\n",
      "1.8636033969530714\n",
      "1.864107755111922\n",
      "1.8646121132707727\n",
      "1.8651164714296233\n",
      "1.8661251877473246\n",
      "1.8666295459061752\n",
      "1.8671339040650259\n",
      "1.8681426203827272\n",
      "1.8686469785415778\n",
      "1.8691513367004284\n",
      "1.869655694859279\n",
      "1.8701600530181297\n",
      "1.8706644111769803\n",
      "1.871168769335831\n",
      "1.8716731274946816\n",
      "1.8752036346066359\n",
      "1.8757079927654865\n",
      "1.887308230419051\n",
      "1.8893256630544535\n",
      "1.8978997517549143\n",
      "1.9014302588668686\n",
      "1.9019346170257192\n",
      "1.9024389751845698\n",
      "1.9029433333434205\n",
      "1.9039520496611217\n",
      "1.9069781986142256\n",
      "1.9089956312496281\n",
      "1.9150479291558355\n",
      "1.917065361791238\n",
      "1.9180740781089394\n",
      "1.91857843626779\n",
      "1.9190827944266406\n",
      "1.9195871525854913\n",
      "1.920091510744342\n",
      "1.9205958689031926\n",
      "1.9211002270620432\n",
      "1.9231176596974455\n",
      "1.9236220178562962\n",
      "1.9241263760151468\n",
      "1.9271525249682506\n",
      "1.9311873902390557\n",
      "1.9327004647156076\n",
      "1.9332048228744583\n",
      "1.933709181033309\n",
      "1.9342135391921595\n",
      "1.9347178973510102\n",
      "1.9352222555098606\n",
      "1.9357266136687112\n",
      "1.9367353299864125\n",
      "1.9372396881452632\n",
      "1.9377440463041138\n",
      "1.9382484044629644\n",
      "1.945813776845724\n",
      "1.9473268513222757\n",
      "1.9478312094811263\n",
      "1.9488399257988276\n",
      "1.9493442839576782\n",
      "1.9518660747519314\n",
      "1.9533791492284833\n",
      "1.9559009400227365\n",
      "1.9564052981815871\n",
      "1.9569096563404378\n",
      "1.959431447134691\n",
      "1.9599358052935414\n",
      "1.9629619542466452\n",
      "1.9634663124054959\n",
      "1.9639706705643465\n",
      "1.9644750287231971\n",
      "1.9649793868820478\n",
      "1.9654837450408984\n",
      "1.9669968195174503\n",
      "1.967501177676301\n",
      "1.9680055358351516\n",
      "1.9685098939940022\n",
      "1.9690142521528529\n",
      "1.9695186103117035\n",
      "1.9700229684705541\n",
      "1.9705273266294048\n",
      "1.9710316847882554\n",
      "1.971536042947106\n",
      "1.9720404011059565\n",
      "1.972544759264807\n",
      "1.9730491174236577\n",
      "1.9735534755825084\n",
      "1.974057833741359\n",
      "1.9745621919002097\n",
      "1.9750665500590603\n",
      "1.975570908217911\n",
      "1.9760752663767616\n",
      "1.9770839826944628\n",
      "1.9775883408533135\n",
      "1.9780926990121641\n",
      "1.9785970571710148\n",
      "1.9791014153298654\n",
      "1.979605773488716\n",
      "1.9821275642829692\n",
      "1.9831362806006705\n",
      "1.9836406387595211\n",
      "1.9841449969183715\n",
      "1.9851537132360728\n",
      "1.989188578506878\n",
      "1.9907016529834298\n"
     ]
    },
    {
     "name": "stdout",
     "output_type": "stream",
     "text": [
      "1.9912060111422805\n",
      "2.0017975324781436\n",
      "2.003814965113546\n",
      "2.0043193232723966\n",
      "2.005328039590098\n",
      "2.0058323977489487\n",
      "2.006336755907799\n",
      "2.00684111406665\n",
      "2.0073454722255004\n",
      "2.0078498303843513\n",
      "2.0083541885432017\n",
      "2.0088585467020525\n",
      "2.009362904860903\n",
      "2.009867263019754\n",
      "2.0103716211786042\n",
      "2.010875979337455\n",
      "2.012389053814007\n",
      "2.0128934119728576\n",
      "2.013397770131708\n",
      "2.013902128290559\n",
      "2.020458784355617\n",
      "2.024493649626422\n",
      "2.03105030569148\n",
      "2.0320590220091814\n",
      "2.033572096485733\n",
      "2.034076454644584\n",
      "2.0350851709622853\n",
      "2.038111319915389\n",
      "2.0386156780742395\n",
      "2.0411374688684925\n",
      "2.0426505433450446\n",
      "2.0441636178215963\n",
      "2.0451723341392976\n",
      "2.0481984830924014\n",
      "2.0497115575689535\n",
      "2.0517289902043556\n",
      "2.052737706522057\n",
      "2.053746422839758\n",
      "2.054250780998609\n",
      "2.059798720745966\n",
      "2.0623205115402192\n",
      "2.0628248696990696\n",
      "2.0633292278579205\n",
      "2.064842302334472\n",
      "2.0658510186521735\n",
      "2.0688771676052773\n",
      "2.07089460024068\n",
      "2.073416391034933\n",
      "2.076946898146887\n",
      "2.077451256305738\n",
      "2.079973047099991\n",
      "2.080981763417692\n",
      "2.081486121576543\n",
      "2.0829991960530947\n",
      "2.0835035542119456\n",
      "2.0860253450061985\n",
      "2.0885471358004515\n",
      "2.0900602102770036\n",
      "2.0925820010712566\n",
      "2.0930863592301074\n",
      "2.093590717388958\n",
      "2.094599433706659\n",
      "2.09510379186551\n",
      "2.0966168663420617\n",
      "2.0971212245009125\n",
      "2.0986342989774642\n",
      "2.0996430152951655\n",
      "2.1001473734540164\n",
      "2.100651731612867\n",
      "2.101156089771717\n",
      "2.1031735224071197\n",
      "2.105695313201373\n",
      "2.1077127458367757\n",
      "2.1102345366310287\n",
      "2.11124325294873\n",
      "2.111747611107581\n",
      "2.114773760060684\n",
      "2.1167911926960867\n",
      "2.117799909013788\n",
      "2.11931298349034\n",
      "2.1198173416491906\n",
      "2.121834774284593\n",
      "2.1233478487611452\n",
      "2.1263739977142486\n",
      "2.1268783558730995\n",
      "2.12738271403195\n",
      "2.1278870721908008\n",
      "2.128391430349651\n",
      "2.1349480864147097\n",
      "2.1404960261620665\n",
      "2.141000384320917\n",
      "2.152096263815631\n",
      "2.1571398454041373\n",
      "2.1596616361983902\n",
      "2.160165994357241\n",
      "2.1611747106749424\n",
      "2.161679068833793\n",
      "2.1621834269926437\n",
      "2.1636965014691953\n",
      "2.1642008596280458\n",
      "2.1647052177868966\n",
      "2.1687400830577017\n",
      "2.1712618738519547\n",
      "2.1717662320108055\n",
      "2.172774948328507\n",
      "2.173783664646208\n",
      "2.1823577533466687\n",
      "2.18336646966437\n",
      "2.1990015725887395\n",
      "2.2045495123360963\n",
      "2.2050538704949467\n",
      "2.2055582286537976\n",
      "2.206062586812648\n",
      "2.206566944971499\n",
      "2.2070713031303493\n",
      "2.2080800194480505\n",
      "2.2085843776069014\n",
      "2.209088735765752\n",
      "2.2095930939246027\n",
      "2.210097452083453\n",
      "2.210601810242304\n",
      "2.211610526560005\n",
      "2.2121148847188556\n",
      "2.212619242877706\n",
      "2.2136279591954073\n",
      "2.214132317354258\n",
      "2.2146366755131086\n",
      "2.2151410336719595\n",
      "2.21564539183081\n",
      "2.2161497499896607\n",
      "2.216654108148511\n",
      "2.2176628244662124\n",
      "2.2181671826250633\n",
      "2.2186715407839137\n",
      "2.2191758989427646\n",
      "2.219680257101615\n",
      "2.220184615260466\n",
      "2.2206889734193163\n",
      "2.221193331578167\n",
      "2.2216976897370175\n",
      "2.2222020478958684\n",
      "2.222706406054719\n",
      "2.2232107642135697\n",
      "2.22371512237242\n",
      "2.2242194805312705\n",
      "2.2247238386901214\n",
      "2.2252281968489718\n",
      "2.2257325550078226\n",
      "2.226236913166673\n",
      "2.226741271325524\n",
      "2.2272456294843743\n",
      "2.227749987643225\n",
      "2.2282543458020756\n",
      "2.2287587039609265\n",
      "2.229263062119777\n",
      "2.2297674202786277\n",
      "2.230271778437478\n",
      "2.230776136596329\n",
      "2.2312804947551794\n",
      "2.2317848529140303\n",
      "2.2322892110728807\n",
      "2.2327935692317316\n",
      "2.233297927390582\n",
      "2.233802285549433\n",
      "2.2343066437082832\n",
      "2.234811001867134\n",
      "2.2353153600259845\n",
      "2.2358197181848354\n",
      "2.236324076343686\n",
      "2.236828434502536\n",
      "2.237332792661387\n",
      "2.2378371508202375\n",
      "2.2383415089790883\n",
      "2.2388458671379388\n",
      "2.2393502252967896\n",
      "2.23985458345564\n",
      "2.240358941614491\n",
      "2.2408632997733413\n",
      "2.241367657932192\n",
      "2.2418720160910426\n",
      "2.2423763742498934\n",
      "2.2433850905675947\n",
      "2.243889448726445\n",
      "2.244393806885296\n",
      "2.2448981650441464\n",
      "2.2454025232029973\n",
      "2.2459068813618477\n",
      "2.2464112395206985\n",
      "2.246915597679549\n",
      "2.2474199558384\n",
      "2.2479243139972502\n",
      "2.2484286721561006\n",
      "2.2489330303149515\n",
      "2.249437388473802\n",
      "2.249941746632653\n",
      "2.250446104791503\n",
      "2.250950462950354\n",
      "2.2514548211092045\n",
      "2.2519591792680553\n",
      "2.2524635374269057\n",
      "2.2529678955857566\n",
      "2.253472253744607\n",
      "2.253976611903458\n",
      "2.2544809700623083\n",
      "2.254985328221159\n",
      "2.2554896863800096\n",
      "2.2559940445388604\n",
      "2.256498402697711\n",
      "2.2570027608565617\n",
      "2.257507119015412\n",
      "2.258011477174263\n",
      "2.2585158353331134\n",
      "2.2590201934919643\n",
      "2.2595245516508147\n",
      "2.2600289098096655\n",
      "2.260533267968516\n",
      "2.2610376261273664\n",
      "2.261541984286217\n",
      "2.2620463424450676\n",
      "2.2625507006039185\n",
      "2.263055058762769\n",
      "2.2635594169216198\n",
      "2.26406377508047\n",
      "2.264568133239321\n",
      "2.2650724913981715\n",
      "2.2655768495570223\n",
      "2.2660812077158727\n",
      "2.2665855658747236\n",
      "2.267089924033574\n",
      "2.267594282192425\n",
      "2.2680986403512753\n",
      "2.268602998510126\n",
      "2.2691073566689766\n",
      "2.2696117148278274\n",
      "2.270116072986678\n",
      "2.2706204311455287\n",
      "2.271124789304379\n",
      "2.27162914746323\n",
      "2.2721335056220804\n",
      "2.2726378637809312\n",
      "2.2731422219397817\n",
      "2.273646580098632\n",
      "2.274150938257483\n",
      "2.2746552964163333\n",
      "2.275159654575184\n",
      "2.2756640127340346\n",
      "2.2761683708928855\n",
      "2.276672729051736\n",
      "2.2771770872105868\n",
      "2.277681445369437\n",
      "2.278185803528288\n",
      "2.2786901616871384\n",
      "2.2791945198459893\n",
      "2.2796988780048397\n",
      "2.2802032361636906\n",
      "2.280707594322541\n",
      "2.281211952481392\n",
      "2.2817163106402423\n",
      "2.282220668799093\n",
      "2.2827250269579435\n",
      "2.2832293851167944\n",
      "2.283733743275645\n",
      "2.2842381014344957\n",
      "2.284742459593346\n",
      "2.2852468177521965\n",
      "2.2857511759110474\n",
      "2.286255534069898\n",
      "2.2867598922287486\n",
      "2.287264250387599\n",
      "2.28776860854645\n",
      "2.2882729667053003\n",
      "2.288777324864151\n",
      "2.2892816830230016\n",
      "2.2897860411818525\n",
      "2.290290399340703\n",
      "2.2907947574995537\n",
      "2.291299115658404\n",
      "2.291803473817255\n",
      "2.2923078319761054\n",
      "2.2928121901349563\n",
      "2.2933165482938067\n",
      "2.2938209064526576\n",
      "2.294325264611508\n",
      "2.294829622770359\n",
      "2.2953339809292093\n",
      "2.29583833908806\n",
      "2.2963426972469105\n",
      "2.2968470554057614\n",
      "2.297351413564612\n",
      "2.2978557717234622\n",
      "2.298360129882313\n",
      "2.2988644880411635\n",
      "2.2993688462000144\n",
      "2.2998732043588648\n",
      "2.3003775625177156\n",
      "2.300881920676566\n",
      "2.301386278835417\n",
      "2.3018906369942673\n",
      "2.302394995153118\n",
      "2.3028993533119686\n",
      "2.3034037114708195\n",
      "2.30390806962967\n",
      "2.3044124277885207\n",
      "2.304916785947371\n",
      "2.305421144106222\n",
      "2.3059255022650724\n",
      "2.3064298604239233\n",
      "2.3069342185827737\n",
      "2.307942934900475\n",
      "2.308447293059326\n",
      "2.309456009377027\n",
      "2.3099603675358775\n",
      "2.310464725694728\n",
      "2.310969083853579\n",
      "2.311473442012429\n",
      "2.31197780017128\n",
      "2.3124821583301305\n",
      "2.3129865164889813\n",
      "2.314499590965533\n",
      "2.315003949124384\n",
      "2.3155083072832343\n",
      "2.316012665442085\n",
      "2.3195431725540394\n",
      "2.3200475307128903\n",
      "2.3205518888717407\n",
      "2.3210562470305915\n",
      "2.321560605189442\n",
      "2.3220649633482924\n",
      "2.3225693215071432\n",
      "2.3235780378248445\n",
      "2.324082395983695\n",
      "2.324586754142546\n",
      "2.325091112301396\n",
      "2.3260998286190975\n",
      "2.3271085449367988\n",
      "2.3281172612545\n",
      "2.328621619413351\n",
      "2.3291259775722013\n",
      "2.3301346938899026\n",
      "2.3306390520487534\n",
      "2.3316477683664547\n",
      "2.3412305733846166\n",
      "2.341734931543467\n",
      "2.342239289702318\n",
      "2.3427436478611683\n",
      "2.343248006020019\n",
      "2.3437523641788696\n",
      "2.3442567223377204\n",
      "2.344761080496571\n",
      "2.3573700344678366\n",
      "2.3578743926266874\n",
      "2.358378750785538\n",
      "2.3629179742151933\n",
      "2.363422332374044\n",
      "2.364935406850596\n",
      "2.3654397650094467\n",
      "2.3669528394859984\n",
      "2.3679615558036997\n",
      "2.3684659139625506\n",
      "2.3745182118687578\n",
      "2.3750225700276086\n",
      "2.375526928186459\n",
      "2.3780487189807125\n",
      "2.3790574352984137\n",
      "2.379561793457264\n",
      "2.380066151616115\n",
      "2.3805705097749654\n",
      "2.3810748679338163\n",
      "2.383092300569219\n",
      "2.386118449522322\n",
      "2.3901533147931273\n",
      "2.3926751055873807\n",
      "2.393179463746231\n",
      "2.393683821905082\n",
      "2.3941881800639324\n",
      "2.3946925382227833\n",
      "2.4052840595586464\n",
      "2.4088145666706007\n",
      "2.409318924829451\n",
      "2.409823282988302\n",
      "2.4103276411471524\n",
      "2.4113363574648536\n",
      "2.4118407156237045\n",
      "2.412345073782555\n",
      "2.4128494319414058\n",
      "2.4239453114361194\n",
      "2.4249540277538206\n",
      "2.4254583859126715\n",
      "2.425962744071522\n",
      "2.4264671022303728\n",
      "2.426971460389223\n",
      "2.4320150419777296\n",
      "2.4345368327719825\n",
      "2.4350411909308334\n",
      "2.435545549089684\n",
      "2.4360499072485347\n",
      "2.436554265407385\n",
      "2.437058623566236\n",
      "2.4375629817250863\n",
      "2.438067339883937\n",
      "2.4385716980427876\n",
      "2.4390760562016385\n",
      "2.439580414360489\n",
      "2.4400847725193398\n",
      "2.4415978469958914\n",
      "2.446641428584398\n",
      "2.450676293855203\n",
      "2.451685010172904\n",
      "2.4521893683317546\n",
      "2.453198084649456\n",
      "2.4537024428083067\n",
      "2.454206800967157\n",
      "2.454711159126008\n",
      "2.4557198754437093\n",
      "2.4567285917614106\n",
      "2.457232949920261\n",
      "2.4577373080791114\n",
      "2.4587460243968127\n",
      "2.459754740714514\n",
      "2.46429396414417\n",
      "2.465302680461871\n",
      "2.4663113967795725\n",
      "2.466815754938423\n",
      "2.4673201130972737\n",
      "2.467824471256124\n",
      "2.468328829414975\n",
      "2.4688331875738254\n",
      "2.4693375457326763\n",
      "2.4698419038915267\n",
      "2.470346262050377\n",
      "2.470850620209228\n",
      "2.4713549783680784\n",
      "2.4718593365269292\n",
      "2.4723636946857797\n",
      "2.474381127321182\n",
      "2.474885485480033\n",
      "2.4753898436388835\n",
      "2.4758942017977343\n",
      "2.4763985599565848\n",
      "2.4769029181154356\n",
      "2.477407276274286\n",
      "2.477911634433137\n",
      "2.4784159925919873\n"
     ]
    },
    {
     "name": "stdout",
     "output_type": "stream",
     "text": [
      "2.4794247089096886\n",
      "2.4799290670685394\n",
      "2.48043342522739\n",
      "2.4809377833862407\n",
      "2.481442141545091\n",
      "2.4819464997039415\n",
      "2.4824508578627924\n",
      "2.482955216021643\n",
      "2.4834595741804937\n",
      "2.483963932339344\n",
      "2.484468290498195\n",
      "2.4849726486570454\n",
      "2.4854770068158962\n",
      "2.4935467373575064\n",
      "2.4960685281517594\n",
      "2.49657288631061\n",
      "2.4970772444694607\n",
      "2.497581602628311\n",
      "2.498085960787162\n",
      "2.4985903189460124\n",
      "2.499094677104863\n",
      "2.4995990352637136\n",
      "2.5036339005345187\n",
      "2.507164407646473\n",
      "2.508677482123025\n",
      "2.51271234739383\n",
      "2.5132167055526806\n",
      "2.514225421870382\n",
      "2.515234138188083\n",
      "2.515738496346934\n",
      "2.521286436094291\n",
      "2.5258256595239463\n",
      "2.5298605247947514\n",
      "2.5303648829536023\n",
      "2.535408464542108\n",
      "2.535912822700959\n",
      "2.538938971654063\n",
      "2.543982553242569\n",
      "2.5444869114014197\n",
      "2.5465043440368222\n",
      "2.548017418513374\n",
      "2.5555827908961333\n",
      "2.562139446961192\n",
      "2.567183028549698\n",
      "2.568191744867399\n",
      "2.572226610138204\n",
      "2.572730968297055\n",
      "2.5802963406798143\n",
      "2.5808006988386647\n",
      "2.5813050569975156\n",
      "2.5843312059506194\n",
      "2.586348638586022\n",
      "2.5868529967448723\n",
      "2.588870429380275\n",
      "2.5893747875391258\n",
      "2.5908878620156774\n",
      "2.5913922201745283\n",
      "2.5949227272864825\n",
      "2.595931443604184\n",
      "2.5979488762395864\n",
      "2.599461950716138\n",
      "2.599966308874989\n",
      "2.6004706670338393\n",
      "2.6120709046874038\n",
      "2.6125752628462546\n",
      "2.613079621005105\n",
      "2.613583979163956\n",
      "2.6140883373228063\n",
      "2.614592695481657\n",
      "2.6156014117993585\n",
      "2.616105769958209\n",
      "2.6166101281170597\n",
      "2.61711448627591\n",
      "2.6176188444347606\n",
      "2.6181232025936114\n",
      "2.618627560752462\n",
      "2.6216537097055657\n",
      "2.622662426023267\n",
      "2.6277060076117733\n",
      "2.628210365770624\n",
      "2.6287147239294746\n",
      "2.629219082088325\n",
      "2.629723440247176\n",
      "2.6312365147237275\n",
      "2.6317408728825784\n",
      "2.633758305517981\n",
      "2.6352713799945326\n",
      "2.636280096312234\n",
      "2.636784454471085\n",
      "2.637793170788786\n",
      "2.6382975289476365\n",
      "2.6463672594892467\n",
      "2.646871617648097\n",
      "2.647375975806948\n",
      "2.648384692124649\n",
      "2.657967497142811\n",
      "2.6584718553016615\n",
      "2.6589762134605124\n",
      "2.659480571619363\n",
      "2.6599849297782137\n",
      "2.660489287937064\n",
      "2.660993646095915\n",
      "2.6614980042547653\n",
      "2.662002362413616\n",
      "2.6625067205724666\n",
      "2.6630110787313175\n",
      "2.663515436890168\n",
      "2.6640197950490188\n",
      "2.664524153207869\n",
      "2.66502851136672\n",
      "2.6655328695255704\n",
      "2.6680546603198234\n",
      "2.670072092955226\n",
      "2.670576451114077\n",
      "2.67309824190833\n",
      "2.6776374653379857\n",
      "2.678141823496836\n",
      "2.6786461816556866\n",
      "2.683689763244193\n",
      "2.68923770299155\n",
      "2.6897420611504006\n",
      "2.6902464193092515\n",
      "2.7003335824862638\n",
      "2.7033597314393676\n",
      "2.711429461980978\n",
      "2.711933820139828\n",
      "2.712438178298679\n",
      "2.7134468946163803\n",
      "2.7139512527752307\n",
      "2.7144556109340816\n",
      "2.714959969092932\n",
      "2.7159686854106333\n",
      "2.725551490428795\n",
      "2.726055848587646\n",
      "2.7265602067464965\n",
      "2.7270645649053473\n",
      "2.7275689230641977\n",
      "2.7290819975407494\n",
      "2.7295863556996003\n",
      "2.7300907138584507\n",
      "2.7305950720173016\n",
      "2.731099430176152\n",
      "2.734125579129256\n",
      "2.7346299372881067\n",
      "2.7432040259885673\n",
      "2.7457258167828202\n",
      "2.751778114689028\n",
      "2.7522824728478783\n",
      "2.752786831006729\n",
      "2.7532911891655796\n",
      "2.7537955473244304\n",
      "2.754299905483281\n",
      "2.755812979959833\n",
      "2.759847845230638\n",
      "2.7603522033894885\n",
      "2.7608565615483394\n",
      "2.7613609197071898\n",
      "2.7618652778660406\n",
      "2.762369636024891\n",
      "2.762873994183742\n",
      "2.7633783523425923\n",
      "2.763882710501443\n",
      "2.7643870686602936\n",
      "2.765395784977995\n",
      "2.7659001431368453\n",
      "2.766404501295696\n",
      "2.7694306502488\n",
      "2.7699350084076504\n",
      "2.7704393665665012\n",
      "2.773465515519605\n",
      "2.775987306313858\n",
      "2.7769960226315593\n",
      "2.782543962378916\n",
      "2.783048320537767\n",
      "2.7840570368554682\n",
      "2.78557011133202\n",
      "2.786074469490871\n",
      "2.789604976602825\n",
      "2.7906136929205263\n",
      "2.7911180510793767\n",
      "2.792126767397078\n",
      "2.7976747071444352\n",
      "2.799187781620987\n",
      "2.7996921397798378\n",
      "2.802718288732941\n",
      "2.8042313632094933\n",
      "2.8047357213683437\n",
      "2.8052400795271946\n",
      "2.805744437686045\n",
      "2.806248795844896\n",
      "2.8067531540037463\n",
      "2.8314667037874273\n",
      "2.8319710619462777\n",
      "2.8420582251232904\n",
      "2.8430669414409917\n",
      "2.843571299599842\n",
      "2.844075657758693\n",
      "2.8445800159175434\n",
      "2.848110523029498\n",
      "2.8486148811883485\n",
      "2.8491192393471994\n",
      "2.8581976862065104\n",
      "2.8622325514773155\n",
      "2.862736909636166\n",
      "2.8632412677950168\n",
      "2.863745625953867\n",
      "2.8677804912246723\n",
      "2.869797923860075\n",
      "2.870806640177776\n",
      "2.8728240728131786\n",
      "2.8758502217662825\n",
      "2.8798850870370876\n",
      "2.880389445195938\n",
      "2.8824068778313405\n",
      "2.8829112359901914\n",
      "2.883415594149042\n"
     ]
    }
   ],
   "source": [
    "df_params = gen_argument_df_TW(df)"
   ]
  },
  {
   "cell_type": "markdown",
   "metadata": {},
   "source": [
    "Ignore `self` arguments and args with type of `Any` or `None`."
   ]
  },
  {
   "cell_type": "code",
   "execution_count": 32,
   "metadata": {},
   "outputs": [
    {
     "name": "stdout",
     "output_type": "stream",
     "text": [
      "Number of arguments:  3624940\n",
      "Args with type annotations:  362614\n",
      "Ignored trivial types:  1278431\n"
     ]
    }
   ],
   "source": [
    "args_count = df_params['arg_name'].count()\n",
    "args_with_annot = df_params[df_params['arg_type'] != ''].shape[0]\n",
    "print(\"Number of arguments: \", args_count)\n",
    "print(\"Args with type annotations: \", args_with_annot)\n",
    "df_params = df_params[(df_params['arg_name'] != 'self') & ((df_params['arg_type'] != 'Any') & \\\n",
    "                                                          (df_params['arg_type'] != 'None'))]\n",
    "print(\"Ignored trivial types: \", (args_count - df_params.shape[0]))"
   ]
  },
  {
   "cell_type": "markdown",
   "metadata": {},
   "source": [
    "Ignore arguments without a type"
   ]
  },
  {
   "cell_type": "code",
   "execution_count": 33,
   "metadata": {},
   "outputs": [
    {
     "name": "stdout",
     "output_type": "stream",
     "text": [
      "Number of arguments with types:  351571\n"
     ]
    }
   ],
   "source": [
    "df_params = df_params[df_params['arg_type'] != '']\n",
    "print(\"Number of arguments with types: \", df_params.shape[0])"
   ]
  },
  {
   "cell_type": "markdown",
   "metadata": {},
   "source": [
    "Filters out functions:\n",
    "- without a return type\n",
    "- with the return type of `Any` or `None`\n",
    "- without a return expression"
   ]
  },
  {
   "cell_type": "code",
   "execution_count": 34,
   "metadata": {},
   "outputs": [
    {
     "name": "stdout",
     "output_type": "stream",
     "text": [
      "Functions before dropping on return type 1982718\n",
      "Functions after dropping on return type 1982718\n",
      "Functions before dropping nan, None, Any return type 1982718\n",
      "Functions after dropping nan return type 158141\n",
      "Functions before dropping on empty return expression 158141\n",
      "Functions after dropping on empty return expression 144445\n"
     ]
    }
   ],
   "source": [
    "df = filter_return_dp(df)"
   ]
  },
  {
   "cell_type": "code",
   "execution_count": 35,
   "metadata": {},
   "outputs": [],
   "source": [
    "df = format_df(df)"
   ]
  },
  {
   "cell_type": "code",
   "execution_count": 36,
   "metadata": {},
   "outputs": [
    {
     "data": {
      "text/html": [
       "<div>\n",
       "<style scoped>\n",
       "    .dataframe tbody tr th:only-of-type {\n",
       "        vertical-align: middle;\n",
       "    }\n",
       "\n",
       "    .dataframe tbody tr th {\n",
       "        vertical-align: top;\n",
       "    }\n",
       "\n",
       "    .dataframe thead th {\n",
       "        text-align: right;\n",
       "    }\n",
       "</style>\n",
       "<table border=\"1\" class=\"dataframe\">\n",
       "  <thead>\n",
       "    <tr style=\"text-align: right;\">\n",
       "      <th></th>\n",
       "      <th>author</th>\n",
       "      <th>repo</th>\n",
       "      <th>file</th>\n",
       "      <th>has_type</th>\n",
       "      <th>name</th>\n",
       "      <th>docstring</th>\n",
       "      <th>func_descr</th>\n",
       "      <th>arg_names</th>\n",
       "      <th>arg_types</th>\n",
       "      <th>arg_descrs</th>\n",
       "      <th>return_type</th>\n",
       "      <th>return_expr</th>\n",
       "      <th>return_descr</th>\n",
       "      <th>args_occur</th>\n",
       "      <th>arg_names_len</th>\n",
       "      <th>arg_types_len</th>\n",
       "    </tr>\n",
       "  </thead>\n",
       "  <tbody>\n",
       "    <tr>\n",
       "      <th>46</th>\n",
       "      <td>MarcioPorto</td>\n",
       "      <td>rlib</td>\n",
       "      <td>/home/amir/projects/ML4SE/data/full_dataset/Ma...</td>\n",
       "      <td>True</td>\n",
       "      <td>origin</td>\n",
       "      <td>helper get original paper algorithm return ori...</td>\n",
       "      <td>helper get original paper algorithm</td>\n",
       "      <td>[self]</td>\n",
       "      <td>[]</td>\n",
       "      <td>[]</td>\n",
       "      <td>str</td>\n",
       "      <td>[http www c toronto edu vmnih doc dqn pdf]</td>\n",
       "      <td>original paper algorithm</td>\n",
       "      <td>[]</td>\n",
       "      <td>1</td>\n",
       "      <td>1</td>\n",
       "    </tr>\n",
       "    <tr>\n",
       "      <th>47</th>\n",
       "      <td>MarcioPorto</td>\n",
       "      <td>rlib</td>\n",
       "      <td>/home/amir/projects/ML4SE/data/full_dataset/Ma...</td>\n",
       "      <td>True</td>\n",
       "      <td>description</td>\n",
       "      <td>helper get brief description algorithm return ...</td>\n",
       "      <td>helper get brief description algorithm</td>\n",
       "      <td>[self]</td>\n",
       "      <td>[]</td>\n",
       "      <td>[]</td>\n",
       "      <td>str</td>\n",
       "      <td>[description]</td>\n",
       "      <td>brief description algorithm</td>\n",
       "      <td>[]</td>\n",
       "      <td>1</td>\n",
       "      <td>1</td>\n",
       "    </tr>\n",
       "    <tr>\n",
       "      <th>64</th>\n",
       "      <td>MarcioPorto</td>\n",
       "      <td>rlib</td>\n",
       "      <td>/home/amir/projects/ML4SE/data/full_dataset/Ma...</td>\n",
       "      <td>True</td>\n",
       "      <td>origin</td>\n",
       "      <td>helper get original paper algorithm return ori...</td>\n",
       "      <td>helper get original paper algorithm</td>\n",
       "      <td>[self]</td>\n",
       "      <td>[]</td>\n",
       "      <td>[]</td>\n",
       "      <td>str</td>\n",
       "      <td>[http paper nip cc paper policy gradient metho...</td>\n",
       "      <td>original paper algorithm</td>\n",
       "      <td>[]</td>\n",
       "      <td>1</td>\n",
       "      <td>1</td>\n",
       "    </tr>\n",
       "    <tr>\n",
       "      <th>65</th>\n",
       "      <td>MarcioPorto</td>\n",
       "      <td>rlib</td>\n",
       "      <td>/home/amir/projects/ML4SE/data/full_dataset/Ma...</td>\n",
       "      <td>True</td>\n",
       "      <td>description</td>\n",
       "      <td>helper get brief description algorithm return ...</td>\n",
       "      <td>helper get brief description algorithm</td>\n",
       "      <td>[self]</td>\n",
       "      <td>[]</td>\n",
       "      <td>[]</td>\n",
       "      <td>str</td>\n",
       "      <td>[description]</td>\n",
       "      <td>brief description algorithm</td>\n",
       "      <td>[]</td>\n",
       "      <td>1</td>\n",
       "      <td>1</td>\n",
       "    </tr>\n",
       "    <tr>\n",
       "      <th>80</th>\n",
       "      <td>MarcioPorto</td>\n",
       "      <td>rlib</td>\n",
       "      <td>/home/amir/projects/ML4SE/data/full_dataset/Ma...</td>\n",
       "      <td>True</td>\n",
       "      <td>origin</td>\n",
       "      <td>helper get original paper algorithm return ori...</td>\n",
       "      <td>helper get original paper algorithm</td>\n",
       "      <td>[self]</td>\n",
       "      <td>[]</td>\n",
       "      <td>[]</td>\n",
       "      <td>str</td>\n",
       "      <td>[http arxiv org pdf pdf]</td>\n",
       "      <td>original paper algorithm</td>\n",
       "      <td>[]</td>\n",
       "      <td>1</td>\n",
       "      <td>1</td>\n",
       "    </tr>\n",
       "    <tr>\n",
       "      <th>81</th>\n",
       "      <td>MarcioPorto</td>\n",
       "      <td>rlib</td>\n",
       "      <td>/home/amir/projects/ML4SE/data/full_dataset/Ma...</td>\n",
       "      <td>True</td>\n",
       "      <td>description</td>\n",
       "      <td>helper get brief description algorithm return ...</td>\n",
       "      <td>helper get brief description algorithm</td>\n",
       "      <td>[self]</td>\n",
       "      <td>[]</td>\n",
       "      <td>[]</td>\n",
       "      <td>str</td>\n",
       "      <td>[description]</td>\n",
       "      <td>brief description algorithm</td>\n",
       "      <td>[]</td>\n",
       "      <td>1</td>\n",
       "      <td>1</td>\n",
       "    </tr>\n",
       "    <tr>\n",
       "      <th>115</th>\n",
       "      <td>MarcioPorto</td>\n",
       "      <td>rlib</td>\n",
       "      <td>/home/amir/projects/ML4SE/data/full_dataset/Ma...</td>\n",
       "      <td>True</td>\n",
       "      <td>train</td>\n",
       "      <td>train agent interaction environment args num e...</td>\n",
       "      <td>train agent interaction environment</td>\n",
       "      <td>[self, num episode, max t, add noise, score wi...</td>\n",
       "      <td>[, int, int, bool, int, int]</td>\n",
       "      <td>[, number episode train agent, maximum number ...</td>\n",
       "      <td>List[float]</td>\n",
       "      <td>[self episode score]</td>\n",
       "      <td>score episode</td>\n",
       "      <td>['self start env self episode score current av...</td>\n",
       "      <td>6</td>\n",
       "      <td>6</td>\n",
       "    </tr>\n",
       "    <tr>\n",
       "      <th>157</th>\n",
       "      <td>ppb</td>\n",
       "      <td>ppb-vector</td>\n",
       "      <td>/home/amir/projects/ML4SE/data/full_dataset/pp...</td>\n",
       "      <td>True</td>\n",
       "      <td>unpack</td>\n",
       "      <td>NaN</td>\n",
       "      <td>NaN</td>\n",
       "      <td>[value]</td>\n",
       "      <td>[VectorLike]</td>\n",
       "      <td>[]</td>\n",
       "      <td>Tuple[float, float]</td>\n",
       "      <td>[value x value y, float value float value, flo...</td>\n",
       "      <td>NaN</td>\n",
       "      <td>[]</td>\n",
       "      <td>1</td>\n",
       "      <td>1</td>\n",
       "    </tr>\n",
       "    <tr>\n",
       "      <th>158</th>\n",
       "      <td>ppb</td>\n",
       "      <td>ppb-vector</td>\n",
       "      <td>/home/amir/projects/ML4SE/data/full_dataset/pp...</td>\n",
       "      <td>True</td>\n",
       "      <td>bool</td>\n",
       "      <td>check whether vector non zero assert vector as...</td>\n",
       "      <td>check whether vector non zero</td>\n",
       "      <td>[self]</td>\n",
       "      <td>[]</td>\n",
       "      <td>[]</td>\n",
       "      <td>bool</td>\n",
       "      <td>[self]</td>\n",
       "      <td>NaN</td>\n",
       "      <td>[]</td>\n",
       "      <td>1</td>\n",
       "      <td>1</td>\n",
       "    </tr>\n",
       "    <tr>\n",
       "      <th>159</th>\n",
       "      <td>ppb</td>\n",
       "      <td>ppb-vector</td>\n",
       "      <td>/home/amir/projects/ML4SE/data/full_dataset/pp...</td>\n",
       "      <td>True</td>\n",
       "      <td>length</td>\n",
       "      <td>compute length vector vector length</td>\n",
       "      <td>compute length vector</td>\n",
       "      <td>[self]</td>\n",
       "      <td>[]</td>\n",
       "      <td>[]</td>\n",
       "      <td>float</td>\n",
       "      <td>[hypot self x self y]</td>\n",
       "      <td>NaN</td>\n",
       "      <td>[]</td>\n",
       "      <td>1</td>\n",
       "      <td>1</td>\n",
       "    </tr>\n",
       "  </tbody>\n",
       "</table>\n",
       "</div>"
      ],
      "text/plain": [
       "          author        repo  \\\n",
       "46   MarcioPorto        rlib   \n",
       "47   MarcioPorto        rlib   \n",
       "64   MarcioPorto        rlib   \n",
       "65   MarcioPorto        rlib   \n",
       "80   MarcioPorto        rlib   \n",
       "81   MarcioPorto        rlib   \n",
       "115  MarcioPorto        rlib   \n",
       "157          ppb  ppb-vector   \n",
       "158          ppb  ppb-vector   \n",
       "159          ppb  ppb-vector   \n",
       "\n",
       "                                                  file  has_type         name  \\\n",
       "46   /home/amir/projects/ML4SE/data/full_dataset/Ma...      True       origin   \n",
       "47   /home/amir/projects/ML4SE/data/full_dataset/Ma...      True  description   \n",
       "64   /home/amir/projects/ML4SE/data/full_dataset/Ma...      True       origin   \n",
       "65   /home/amir/projects/ML4SE/data/full_dataset/Ma...      True  description   \n",
       "80   /home/amir/projects/ML4SE/data/full_dataset/Ma...      True       origin   \n",
       "81   /home/amir/projects/ML4SE/data/full_dataset/Ma...      True  description   \n",
       "115  /home/amir/projects/ML4SE/data/full_dataset/Ma...      True        train   \n",
       "157  /home/amir/projects/ML4SE/data/full_dataset/pp...      True       unpack   \n",
       "158  /home/amir/projects/ML4SE/data/full_dataset/pp...      True         bool   \n",
       "159  /home/amir/projects/ML4SE/data/full_dataset/pp...      True       length   \n",
       "\n",
       "                                             docstring  \\\n",
       "46   helper get original paper algorithm return ori...   \n",
       "47   helper get brief description algorithm return ...   \n",
       "64   helper get original paper algorithm return ori...   \n",
       "65   helper get brief description algorithm return ...   \n",
       "80   helper get original paper algorithm return ori...   \n",
       "81   helper get brief description algorithm return ...   \n",
       "115  train agent interaction environment args num e...   \n",
       "157                                                NaN   \n",
       "158  check whether vector non zero assert vector as...   \n",
       "159                compute length vector vector length   \n",
       "\n",
       "                                 func_descr  \\\n",
       "46      helper get original paper algorithm   \n",
       "47   helper get brief description algorithm   \n",
       "64      helper get original paper algorithm   \n",
       "65   helper get brief description algorithm   \n",
       "80      helper get original paper algorithm   \n",
       "81   helper get brief description algorithm   \n",
       "115     train agent interaction environment   \n",
       "157                                     NaN   \n",
       "158           check whether vector non zero   \n",
       "159                   compute length vector   \n",
       "\n",
       "                                             arg_names  \\\n",
       "46                                              [self]   \n",
       "47                                              [self]   \n",
       "64                                              [self]   \n",
       "65                                              [self]   \n",
       "80                                              [self]   \n",
       "81                                              [self]   \n",
       "115  [self, num episode, max t, add noise, score wi...   \n",
       "157                                            [value]   \n",
       "158                                             [self]   \n",
       "159                                             [self]   \n",
       "\n",
       "                        arg_types  \\\n",
       "46                             []   \n",
       "47                             []   \n",
       "64                             []   \n",
       "65                             []   \n",
       "80                             []   \n",
       "81                             []   \n",
       "115  [, int, int, bool, int, int]   \n",
       "157                  [VectorLike]   \n",
       "158                            []   \n",
       "159                            []   \n",
       "\n",
       "                                            arg_descrs          return_type  \\\n",
       "46                                                  []                  str   \n",
       "47                                                  []                  str   \n",
       "64                                                  []                  str   \n",
       "65                                                  []                  str   \n",
       "80                                                  []                  str   \n",
       "81                                                  []                  str   \n",
       "115  [, number episode train agent, maximum number ...          List[float]   \n",
       "157                                                 []  Tuple[float, float]   \n",
       "158                                                 []                 bool   \n",
       "159                                                 []                float   \n",
       "\n",
       "                                           return_expr  \\\n",
       "46          [http www c toronto edu vmnih doc dqn pdf]   \n",
       "47                                       [description]   \n",
       "64   [http paper nip cc paper policy gradient metho...   \n",
       "65                                       [description]   \n",
       "80                            [http arxiv org pdf pdf]   \n",
       "81                                       [description]   \n",
       "115                               [self episode score]   \n",
       "157  [value x value y, float value float value, flo...   \n",
       "158                                             [self]   \n",
       "159                              [hypot self x self y]   \n",
       "\n",
       "                    return_descr  \\\n",
       "46      original paper algorithm   \n",
       "47   brief description algorithm   \n",
       "64      original paper algorithm   \n",
       "65   brief description algorithm   \n",
       "80      original paper algorithm   \n",
       "81   brief description algorithm   \n",
       "115                score episode   \n",
       "157                          NaN   \n",
       "158                          NaN   \n",
       "159                          NaN   \n",
       "\n",
       "                                            args_occur  arg_names_len  \\\n",
       "46                                                  []              1   \n",
       "47                                                  []              1   \n",
       "64                                                  []              1   \n",
       "65                                                  []              1   \n",
       "80                                                  []              1   \n",
       "81                                                  []              1   \n",
       "115  ['self start env self episode score current av...              6   \n",
       "157                                                 []              1   \n",
       "158                                                 []              1   \n",
       "159                                                 []              1   \n",
       "\n",
       "     arg_types_len  \n",
       "46               1  \n",
       "47               1  \n",
       "64               1  \n",
       "65               1  \n",
       "80               1  \n",
       "81               1  \n",
       "115              6  \n",
       "157              1  \n",
       "158              1  \n",
       "159              1  "
      ]
     },
     "execution_count": 36,
     "metadata": {},
     "output_type": "execute_result"
    }
   ],
   "source": [
    "df.head(10)"
   ]
  },
  {
   "cell_type": "markdown",
   "metadata": {},
   "source": [
    "Encode types as int"
   ]
  },
  {
   "cell_type": "code",
   "execution_count": 37,
   "metadata": {},
   "outputs": [
    {
     "name": "stdout",
     "output_type": "stream",
     "text": [
      "Found 41919 unique types in a total of 496016 types.\n",
      "Remapping uncommon types for functions\n",
      "Remapping uncommon types for arguments\n",
      "Fitting label encoder on transformed types\n",
      "Store type mapping with counts\n",
      "Transforming return types\n",
      "Transforming args types\n"
     ]
    }
   ],
   "source": [
    "df, df_params, label_encoder, uniq_types = encode_types(df, df_params, TYPES_FILE_TW)"
   ]
  },
  {
   "cell_type": "markdown",
   "metadata": {},
   "source": [
    "Add argument names as a string except self"
   ]
  },
  {
   "cell_type": "code",
   "execution_count": 38,
   "metadata": {},
   "outputs": [],
   "source": [
    "df['arg_names_str'] = df['arg_names'].apply(lambda l: \" \".join([v for v in l if v != 'self']))"
   ]
  },
  {
   "cell_type": "markdown",
   "metadata": {},
   "source": [
    "Add return expressions as a string, replace self. and self within expressions"
   ]
  },
  {
   "cell_type": "code",
   "execution_count": 39,
   "metadata": {},
   "outputs": [],
   "source": [
    "df['return_expr_str'] = df['return_expr'].apply(lambda l: \" \".join([re.sub(r\"self\\.?\", '', v) for v in l]))"
   ]
  },
  {
   "cell_type": "markdown",
   "metadata": {},
   "source": [
    "Drop all columns useless for the ML algorithms"
   ]
  },
  {
   "cell_type": "code",
   "execution_count": 40,
   "metadata": {},
   "outputs": [],
   "source": [
    "df = df.drop(columns=['author', 'repo', 'has_type', 'arg_names', 'arg_types', 'arg_descrs', 'return_expr'])"
   ]
  },
  {
   "cell_type": "markdown",
   "metadata": {},
   "source": [
    "Extracts top 1000 available types (**Previous Approach**)"
   ]
  },
  {
   "cell_type": "code",
   "execution_count": 29,
   "metadata": {},
   "outputs": [],
   "source": [
    "if config_TW.CACHE_TW and os.path.exists(os.path.join(AVAILABLE_TYPES_DIR,\n",
    "                                         'top_%d_types.csv' % (config_TW.AVAILABLE_TYPES_NUMBER-1))):\n",
    "    df_types = pd.read_csv(os.path.join(AVAILABLE_TYPES_DIR,\n",
    "                                         'top_%d_types.csv' % (config_TW.AVAILABLE_TYPES_NUMBER-1)))\n",
    "else:\n",
    "    df_types = gen_most_frequent_avl_types(AVAILABLE_TYPES_DIR, AVAILABLE_TYPES_DIR,\n",
    "                                           config_TW.AVAILABLE_TYPES_NUMBER-1, True)"
   ]
  },
  {
   "cell_type": "code",
   "execution_count": 30,
   "metadata": {},
   "outputs": [],
   "source": [
    "df_params, df = encode_aval_types_TW(df_params, df, df_types)"
   ]
  },
  {
   "cell_type": "code",
   "execution_count": 31,
   "metadata": {},
   "outputs": [
    {
     "data": {
      "text/plain": [
       "5     999\n",
       "8     137\n",
       "10    999\n",
       "12    999\n",
       "13    999\n",
       "14    999\n",
       "15    999\n",
       "16    999\n",
       "17    999\n",
       "18    999\n",
       "Name: ret_aval_enc, dtype: int64"
      ]
     },
     "execution_count": 31,
     "metadata": {},
     "output_type": "execute_result"
    }
   ],
   "source": [
    "df['ret_aval_enc'].head(10)"
   ]
  },
  {
   "cell_type": "markdown",
   "metadata": {},
   "source": [
    "Finding top 1000 available types from a pre-computed dataset of available import types (**New**)"
   ]
  },
  {
   "cell_type": "code",
   "execution_count": 41,
   "metadata": {},
   "outputs": [],
   "source": [
    "df_types = pd.read_csv('/datasets/repos-members-4.9k.csv')"
   ]
  },
  {
   "cell_type": "code",
   "execution_count": 42,
   "metadata": {},
   "outputs": [],
   "source": [
    "from ast import literal_eval\n",
    "all_aval_types = [t for l in df_types['types'].tolist() for t in literal_eval(l)]"
   ]
  },
  {
   "cell_type": "markdown",
   "metadata": {},
   "source": [
    "Frequency of all the extracted visible types"
   ]
  },
  {
   "cell_type": "code",
   "execution_count": 43,
   "metadata": {},
   "outputs": [],
   "source": [
    "from collections import Counter\n",
    "avl_types_counter = Counter(all_aval_types)"
   ]
  },
  {
   "cell_type": "code",
   "execution_count": 44,
   "metadata": {},
   "outputs": [],
   "source": [
    "df_types = pd.DataFrame.from_records(avl_types_counter.most_common(config_TW.AVAILABLE_TYPES_NUMBER-1), \n",
    "                                     columns=['Types', 'Count'])\n",
    "df_types.to_csv(join(AVAILABLE_TYPES_DIR, \"top_%d_types_new.csv\" % config_TW.AVAILABLE_TYPES_NUMBER),\n",
    "                index=False)"
   ]
  },
  {
   "cell_type": "code",
   "execution_count": 45,
   "metadata": {},
   "outputs": [
    {
     "data": {
      "text/html": [
       "<div>\n",
       "<style scoped>\n",
       "    .dataframe tbody tr th:only-of-type {\n",
       "        vertical-align: middle;\n",
       "    }\n",
       "\n",
       "    .dataframe tbody tr th {\n",
       "        vertical-align: top;\n",
       "    }\n",
       "\n",
       "    .dataframe thead th {\n",
       "        text-align: right;\n",
       "    }\n",
       "</style>\n",
       "<table border=\"1\" class=\"dataframe\">\n",
       "  <thead>\n",
       "    <tr style=\"text-align: right;\">\n",
       "      <th></th>\n",
       "      <th>Types</th>\n",
       "      <th>Count</th>\n",
       "    </tr>\n",
       "  </thead>\n",
       "  <tbody>\n",
       "    <tr>\n",
       "      <th>0</th>\n",
       "      <td>collections.abc.Mapping</td>\n",
       "      <td>400428</td>\n",
       "    </tr>\n",
       "    <tr>\n",
       "      <th>1</th>\n",
       "      <td>abc.ABCMeta</td>\n",
       "      <td>399915</td>\n",
       "    </tr>\n",
       "    <tr>\n",
       "      <th>2</th>\n",
       "      <td>functools.partial</td>\n",
       "      <td>395727</td>\n",
       "    </tr>\n",
       "    <tr>\n",
       "      <th>3</th>\n",
       "      <td>selectors._BaseSelectorImpl</td>\n",
       "      <td>395390</td>\n",
       "    </tr>\n",
       "    <tr>\n",
       "      <th>4</th>\n",
       "      <td>selectors.DefaultSelector</td>\n",
       "      <td>395390</td>\n",
       "    </tr>\n",
       "    <tr>\n",
       "      <th>5</th>\n",
       "      <td>selectors.BaseSelector</td>\n",
       "      <td>395390</td>\n",
       "    </tr>\n",
       "    <tr>\n",
       "      <th>6</th>\n",
       "      <td>selectors.SelectSelector</td>\n",
       "      <td>395390</td>\n",
       "    </tr>\n",
       "    <tr>\n",
       "      <th>7</th>\n",
       "      <td>selectors.PollSelector</td>\n",
       "      <td>395390</td>\n",
       "    </tr>\n",
       "    <tr>\n",
       "      <th>8</th>\n",
       "      <td>selectors._SelectorMapping</td>\n",
       "      <td>395390</td>\n",
       "    </tr>\n",
       "    <tr>\n",
       "      <th>9</th>\n",
       "      <td>selectors.SelectorKey</td>\n",
       "      <td>395390</td>\n",
       "    </tr>\n",
       "  </tbody>\n",
       "</table>\n",
       "</div>"
      ],
      "text/plain": [
       "                         Types   Count\n",
       "0      collections.abc.Mapping  400428\n",
       "1                  abc.ABCMeta  399915\n",
       "2            functools.partial  395727\n",
       "3  selectors._BaseSelectorImpl  395390\n",
       "4    selectors.DefaultSelector  395390\n",
       "5       selectors.BaseSelector  395390\n",
       "6     selectors.SelectSelector  395390\n",
       "7       selectors.PollSelector  395390\n",
       "8   selectors._SelectorMapping  395390\n",
       "9        selectors.SelectorKey  395390"
      ]
     },
     "execution_count": 45,
     "metadata": {},
     "output_type": "execute_result"
    }
   ],
   "source": [
    "df_types.head(10)"
   ]
  },
  {
   "cell_type": "markdown",
   "metadata": {},
   "source": [
    "Encode new visible types"
   ]
  },
  {
   "cell_type": "code",
   "execution_count": 46,
   "metadata": {},
   "outputs": [],
   "source": [
    "types = df_types['Types'].tolist()\n",
    "def trans_aval_type(x):\n",
    "        for i, t in enumerate(types):\n",
    "            if x in t:\n",
    "                return i\n",
    "        return len(types)\n",
    "\n",
    "df_params['param_aval_new_enc'] = df_params['arg_type'].apply(trans_aval_type)\n",
    "df['ret_aval_new_enc'] = df['return_type'].apply(trans_aval_type)"
   ]
  },
  {
   "cell_type": "markdown",
   "metadata": {},
   "source": [
    "Calculates the datapoints and types coverage"
   ]
  },
  {
   "cell_type": "code",
   "execution_count": 36,
   "metadata": {},
   "outputs": [
    {
     "name": "stdout",
     "output_type": "stream",
     "text": [
      "Number of datapoints with other types:  113575\n",
      "The percentage of covered unique types: 2.59%\n",
      "The percentage of all datapoints covered by considered types: 73.71%\n"
     ]
    }
   ],
   "source": [
    "all_enc_types = np.concatenate((df_params['arg_type_enc'].values, df['return_type_enc'].values))\n",
    "other_type_count = np.count_nonzero(all_enc_types == label_encoder.transform(['other'])[0])\n",
    "print(\"Number of datapoints with other types: \", other_type_count)\n",
    "print(\"The percentage of covered unique types: %.2f%%\" % \\\n",
    "      ((config_TW.AVAILABLE_TYPES_NUMBER / len(uniq_types))*100))\n",
    "print(\"The percentage of all datapoints covered by considered types: %.2f%%\" %\\\n",
    "      ((1 - other_type_count / all_enc_types.shape[0])*100))"
   ]
  },
  {
   "cell_type": "markdown",
   "metadata": {},
   "source": [
    "Final arguments data before embedding step"
   ]
  },
  {
   "cell_type": "code",
   "execution_count": 47,
   "metadata": {},
   "outputs": [
    {
     "data": {
      "text/html": [
       "<div>\n",
       "<style scoped>\n",
       "    .dataframe tbody tr th:only-of-type {\n",
       "        vertical-align: middle;\n",
       "    }\n",
       "\n",
       "    .dataframe tbody tr th {\n",
       "        vertical-align: top;\n",
       "    }\n",
       "\n",
       "    .dataframe thead th {\n",
       "        text-align: right;\n",
       "    }\n",
       "</style>\n",
       "<table border=\"1\" class=\"dataframe\">\n",
       "  <thead>\n",
       "    <tr style=\"text-align: right;\">\n",
       "      <th></th>\n",
       "      <th>file</th>\n",
       "      <th>func_name</th>\n",
       "      <th>func_descr</th>\n",
       "      <th>arg_name</th>\n",
       "      <th>arg_type</th>\n",
       "      <th>arg_comment</th>\n",
       "      <th>other_args</th>\n",
       "      <th>arg_occur</th>\n",
       "      <th>arg_type_t</th>\n",
       "      <th>arg_type_enc</th>\n",
       "      <th>param_aval_new_enc</th>\n",
       "    </tr>\n",
       "  </thead>\n",
       "  <tbody>\n",
       "    <tr>\n",
       "      <th>110</th>\n",
       "      <td>/home/amir/projects/ML4SE/data/full_dataset/Ma...</td>\n",
       "      <td>init</td>\n",
       "      <td>initializes parameter build model</td>\n",
       "      <td>state size</td>\n",
       "      <td>int</td>\n",
       "      <td>dimension state</td>\n",
       "      <td>state size action size hide layer input size h...</td>\n",
       "      <td>[q network   seed softmax output softmax outpu...</td>\n",
       "      <td>int</td>\n",
       "      <td>897</td>\n",
       "      <td>149</td>\n",
       "    </tr>\n",
       "    <tr>\n",
       "      <th>111</th>\n",
       "      <td>/home/amir/projects/ML4SE/data/full_dataset/Ma...</td>\n",
       "      <td>init</td>\n",
       "      <td>initializes parameter build model</td>\n",
       "      <td>action size</td>\n",
       "      <td>int</td>\n",
       "      <td>dimension action</td>\n",
       "      <td>state size action size hide layer input size h...</td>\n",
       "      <td>[q network   seed softmax output softmax outpu...</td>\n",
       "      <td>int</td>\n",
       "      <td>897</td>\n",
       "      <td>149</td>\n",
       "    </tr>\n",
       "    <tr>\n",
       "      <th>112</th>\n",
       "      <td>/home/amir/projects/ML4SE/data/full_dataset/Ma...</td>\n",
       "      <td>init</td>\n",
       "      <td>initializes parameter build model</td>\n",
       "      <td>hide layer input size</td>\n",
       "      <td>int</td>\n",
       "      <td>dimension hidden layer input</td>\n",
       "      <td>state size action size hide layer input size h...</td>\n",
       "      <td>[q network   seed softmax output softmax outpu...</td>\n",
       "      <td>int</td>\n",
       "      <td>897</td>\n",
       "      <td>149</td>\n",
       "    </tr>\n",
       "    <tr>\n",
       "      <th>113</th>\n",
       "      <td>/home/amir/projects/ML4SE/data/full_dataset/Ma...</td>\n",
       "      <td>init</td>\n",
       "      <td>initializes parameter build model</td>\n",
       "      <td>hide layer output size</td>\n",
       "      <td>int</td>\n",
       "      <td>dimension hidden layer output</td>\n",
       "      <td>state size action size hide layer input size h...</td>\n",
       "      <td>[q network   seed softmax output softmax outpu...</td>\n",
       "      <td>int</td>\n",
       "      <td>897</td>\n",
       "      <td>149</td>\n",
       "    </tr>\n",
       "    <tr>\n",
       "      <th>114</th>\n",
       "      <td>/home/amir/projects/ML4SE/data/full_dataset/Ma...</td>\n",
       "      <td>init</td>\n",
       "      <td>initializes parameter build model</td>\n",
       "      <td>seed</td>\n",
       "      <td>int</td>\n",
       "      <td>random seed</td>\n",
       "      <td>state size action size hide layer input size h...</td>\n",
       "      <td>[q network   seed softmax output softmax outpu...</td>\n",
       "      <td>int</td>\n",
       "      <td>897</td>\n",
       "      <td>149</td>\n",
       "    </tr>\n",
       "    <tr>\n",
       "      <th>115</th>\n",
       "      <td>/home/amir/projects/ML4SE/data/full_dataset/Ma...</td>\n",
       "      <td>init</td>\n",
       "      <td>initializes parameter build model</td>\n",
       "      <td>softmax output</td>\n",
       "      <td>bool</td>\n",
       "      <td>decides use softmax activation output layer</td>\n",
       "      <td>state size action size hide layer input size h...</td>\n",
       "      <td>[q network   seed softmax output softmax outpu...</td>\n",
       "      <td>bool</td>\n",
       "      <td>866</td>\n",
       "      <td>388</td>\n",
       "    </tr>\n",
       "    <tr>\n",
       "      <th>119</th>\n",
       "      <td>/home/amir/projects/ML4SE/data/full_dataset/Ma...</td>\n",
       "      <td>init</td>\n",
       "      <td>initialize dqn agent object</td>\n",
       "      <td>state size</td>\n",
       "      <td>int</td>\n",
       "      <td>dimension state</td>\n",
       "      <td>state size action size qnetwork local qnetwork...</td>\n",
       "      <td>[dqn agent   state size state size action size...</td>\n",
       "      <td>int</td>\n",
       "      <td>897</td>\n",
       "      <td>149</td>\n",
       "    </tr>\n",
       "    <tr>\n",
       "      <th>120</th>\n",
       "      <td>/home/amir/projects/ML4SE/data/full_dataset/Ma...</td>\n",
       "      <td>init</td>\n",
       "      <td>initialize dqn agent object</td>\n",
       "      <td>action size</td>\n",
       "      <td>int</td>\n",
       "      <td>dimension action</td>\n",
       "      <td>state size action size qnetwork local qnetwork...</td>\n",
       "      <td>[dqn agent   state size state size action size...</td>\n",
       "      <td>int</td>\n",
       "      <td>897</td>\n",
       "      <td>149</td>\n",
       "    </tr>\n",
       "    <tr>\n",
       "      <th>125</th>\n",
       "      <td>/home/amir/projects/ML4SE/data/full_dataset/Ma...</td>\n",
       "      <td>init</td>\n",
       "      <td>initialize dqn agent object</td>\n",
       "      <td>seed</td>\n",
       "      <td>int</td>\n",
       "      <td>random seed</td>\n",
       "      <td>state size action size qnetwork local qnetwork...</td>\n",
       "      <td>[dqn agent   state size state size action size...</td>\n",
       "      <td>int</td>\n",
       "      <td>897</td>\n",
       "      <td>149</td>\n",
       "    </tr>\n",
       "    <tr>\n",
       "      <th>126</th>\n",
       "      <td>/home/amir/projects/ML4SE/data/full_dataset/Ma...</td>\n",
       "      <td>init</td>\n",
       "      <td>initialize dqn agent object</td>\n",
       "      <td>device</td>\n",
       "      <td>str</td>\n",
       "      <td>identifier device use py torch</td>\n",
       "      <td>state size action size qnetwork local qnetwork...</td>\n",
       "      <td>[dqn agent   state size state size action size...</td>\n",
       "      <td>str</td>\n",
       "      <td>956</td>\n",
       "      <td>12</td>\n",
       "    </tr>\n",
       "  </tbody>\n",
       "</table>\n",
       "</div>"
      ],
      "text/plain": [
       "                                                  file func_name  \\\n",
       "110  /home/amir/projects/ML4SE/data/full_dataset/Ma...      init   \n",
       "111  /home/amir/projects/ML4SE/data/full_dataset/Ma...      init   \n",
       "112  /home/amir/projects/ML4SE/data/full_dataset/Ma...      init   \n",
       "113  /home/amir/projects/ML4SE/data/full_dataset/Ma...      init   \n",
       "114  /home/amir/projects/ML4SE/data/full_dataset/Ma...      init   \n",
       "115  /home/amir/projects/ML4SE/data/full_dataset/Ma...      init   \n",
       "119  /home/amir/projects/ML4SE/data/full_dataset/Ma...      init   \n",
       "120  /home/amir/projects/ML4SE/data/full_dataset/Ma...      init   \n",
       "125  /home/amir/projects/ML4SE/data/full_dataset/Ma...      init   \n",
       "126  /home/amir/projects/ML4SE/data/full_dataset/Ma...      init   \n",
       "\n",
       "                            func_descr                arg_name arg_type  \\\n",
       "110  initializes parameter build model              state size      int   \n",
       "111  initializes parameter build model             action size      int   \n",
       "112  initializes parameter build model   hide layer input size      int   \n",
       "113  initializes parameter build model  hide layer output size      int   \n",
       "114  initializes parameter build model                    seed      int   \n",
       "115  initializes parameter build model          softmax output     bool   \n",
       "119        initialize dqn agent object              state size      int   \n",
       "120        initialize dqn agent object             action size      int   \n",
       "125        initialize dqn agent object                    seed      int   \n",
       "126        initialize dqn agent object                  device      str   \n",
       "\n",
       "                                     arg_comment  \\\n",
       "110                              dimension state   \n",
       "111                             dimension action   \n",
       "112                 dimension hidden layer input   \n",
       "113                dimension hidden layer output   \n",
       "114                                  random seed   \n",
       "115  decides use softmax activation output layer   \n",
       "119                              dimension state   \n",
       "120                             dimension action   \n",
       "125                                  random seed   \n",
       "126               identifier device use py torch   \n",
       "\n",
       "                                            other_args  \\\n",
       "110  state size action size hide layer input size h...   \n",
       "111  state size action size hide layer input size h...   \n",
       "112  state size action size hide layer input size h...   \n",
       "113  state size action size hide layer input size h...   \n",
       "114  state size action size hide layer input size h...   \n",
       "115  state size action size hide layer input size h...   \n",
       "119  state size action size qnetwork local qnetwork...   \n",
       "120  state size action size qnetwork local qnetwork...   \n",
       "125  state size action size qnetwork local qnetwork...   \n",
       "126  state size action size qnetwork local qnetwork...   \n",
       "\n",
       "                                             arg_occur arg_type_t  \\\n",
       "110  [q network   seed softmax output softmax outpu...        int   \n",
       "111  [q network   seed softmax output softmax outpu...        int   \n",
       "112  [q network   seed softmax output softmax outpu...        int   \n",
       "113  [q network   seed softmax output softmax outpu...        int   \n",
       "114  [q network   seed softmax output softmax outpu...        int   \n",
       "115  [q network   seed softmax output softmax outpu...       bool   \n",
       "119  [dqn agent   state size state size action size...        int   \n",
       "120  [dqn agent   state size state size action size...        int   \n",
       "125  [dqn agent   state size state size action size...        int   \n",
       "126  [dqn agent   state size state size action size...        str   \n",
       "\n",
       "     arg_type_enc  param_aval_new_enc  \n",
       "110           897                 149  \n",
       "111           897                 149  \n",
       "112           897                 149  \n",
       "113           897                 149  \n",
       "114           897                 149  \n",
       "115           866                 388  \n",
       "119           897                 149  \n",
       "120           897                 149  \n",
       "125           897                 149  \n",
       "126           956                  12  "
      ]
     },
     "execution_count": 47,
     "metadata": {},
     "output_type": "execute_result"
    }
   ],
   "source": [
    "df_params.head(10)"
   ]
  },
  {
   "cell_type": "markdown",
   "metadata": {},
   "source": [
    "Final return data before embedding step"
   ]
  },
  {
   "cell_type": "code",
   "execution_count": 48,
   "metadata": {},
   "outputs": [
    {
     "data": {
      "text/html": [
       "<div>\n",
       "<style scoped>\n",
       "    .dataframe tbody tr th:only-of-type {\n",
       "        vertical-align: middle;\n",
       "    }\n",
       "\n",
       "    .dataframe tbody tr th {\n",
       "        vertical-align: top;\n",
       "    }\n",
       "\n",
       "    .dataframe thead th {\n",
       "        text-align: right;\n",
       "    }\n",
       "</style>\n",
       "<table border=\"1\" class=\"dataframe\">\n",
       "  <thead>\n",
       "    <tr style=\"text-align: right;\">\n",
       "      <th></th>\n",
       "      <th>file</th>\n",
       "      <th>name</th>\n",
       "      <th>docstring</th>\n",
       "      <th>func_descr</th>\n",
       "      <th>return_type</th>\n",
       "      <th>return_descr</th>\n",
       "      <th>args_occur</th>\n",
       "      <th>arg_names_len</th>\n",
       "      <th>arg_types_len</th>\n",
       "      <th>return_type_t</th>\n",
       "      <th>return_type_enc</th>\n",
       "      <th>arg_names_str</th>\n",
       "      <th>return_expr_str</th>\n",
       "      <th>ret_aval_new_enc</th>\n",
       "    </tr>\n",
       "  </thead>\n",
       "  <tbody>\n",
       "    <tr>\n",
       "      <th>46</th>\n",
       "      <td>/home/amir/projects/ML4SE/data/full_dataset/Ma...</td>\n",
       "      <td>origin</td>\n",
       "      <td>helper get original paper algorithm return ori...</td>\n",
       "      <td>helper get original paper algorithm</td>\n",
       "      <td>str</td>\n",
       "      <td>original paper algorithm</td>\n",
       "      <td>[]</td>\n",
       "      <td>1</td>\n",
       "      <td>1</td>\n",
       "      <td>str</td>\n",
       "      <td>956</td>\n",
       "      <td></td>\n",
       "      <td>http www c toronto edu vmnih doc dqn pdf</td>\n",
       "      <td>12</td>\n",
       "    </tr>\n",
       "    <tr>\n",
       "      <th>47</th>\n",
       "      <td>/home/amir/projects/ML4SE/data/full_dataset/Ma...</td>\n",
       "      <td>description</td>\n",
       "      <td>helper get brief description algorithm return ...</td>\n",
       "      <td>helper get brief description algorithm</td>\n",
       "      <td>str</td>\n",
       "      <td>brief description algorithm</td>\n",
       "      <td>[]</td>\n",
       "      <td>1</td>\n",
       "      <td>1</td>\n",
       "      <td>str</td>\n",
       "      <td>956</td>\n",
       "      <td></td>\n",
       "      <td>description</td>\n",
       "      <td>12</td>\n",
       "    </tr>\n",
       "    <tr>\n",
       "      <th>64</th>\n",
       "      <td>/home/amir/projects/ML4SE/data/full_dataset/Ma...</td>\n",
       "      <td>origin</td>\n",
       "      <td>helper get original paper algorithm return ori...</td>\n",
       "      <td>helper get original paper algorithm</td>\n",
       "      <td>str</td>\n",
       "      <td>original paper algorithm</td>\n",
       "      <td>[]</td>\n",
       "      <td>1</td>\n",
       "      <td>1</td>\n",
       "      <td>str</td>\n",
       "      <td>956</td>\n",
       "      <td></td>\n",
       "      <td>http paper nip cc paper policy gradient method...</td>\n",
       "      <td>12</td>\n",
       "    </tr>\n",
       "    <tr>\n",
       "      <th>65</th>\n",
       "      <td>/home/amir/projects/ML4SE/data/full_dataset/Ma...</td>\n",
       "      <td>description</td>\n",
       "      <td>helper get brief description algorithm return ...</td>\n",
       "      <td>helper get brief description algorithm</td>\n",
       "      <td>str</td>\n",
       "      <td>brief description algorithm</td>\n",
       "      <td>[]</td>\n",
       "      <td>1</td>\n",
       "      <td>1</td>\n",
       "      <td>str</td>\n",
       "      <td>956</td>\n",
       "      <td></td>\n",
       "      <td>description</td>\n",
       "      <td>12</td>\n",
       "    </tr>\n",
       "    <tr>\n",
       "      <th>80</th>\n",
       "      <td>/home/amir/projects/ML4SE/data/full_dataset/Ma...</td>\n",
       "      <td>origin</td>\n",
       "      <td>helper get original paper algorithm return ori...</td>\n",
       "      <td>helper get original paper algorithm</td>\n",
       "      <td>str</td>\n",
       "      <td>original paper algorithm</td>\n",
       "      <td>[]</td>\n",
       "      <td>1</td>\n",
       "      <td>1</td>\n",
       "      <td>str</td>\n",
       "      <td>956</td>\n",
       "      <td></td>\n",
       "      <td>http arxiv org pdf pdf</td>\n",
       "      <td>12</td>\n",
       "    </tr>\n",
       "    <tr>\n",
       "      <th>81</th>\n",
       "      <td>/home/amir/projects/ML4SE/data/full_dataset/Ma...</td>\n",
       "      <td>description</td>\n",
       "      <td>helper get brief description algorithm return ...</td>\n",
       "      <td>helper get brief description algorithm</td>\n",
       "      <td>str</td>\n",
       "      <td>brief description algorithm</td>\n",
       "      <td>[]</td>\n",
       "      <td>1</td>\n",
       "      <td>1</td>\n",
       "      <td>str</td>\n",
       "      <td>956</td>\n",
       "      <td></td>\n",
       "      <td>description</td>\n",
       "      <td>12</td>\n",
       "    </tr>\n",
       "    <tr>\n",
       "      <th>115</th>\n",
       "      <td>/home/amir/projects/ML4SE/data/full_dataset/Ma...</td>\n",
       "      <td>train</td>\n",
       "      <td>train agent interaction environment args num e...</td>\n",
       "      <td>train agent interaction environment</td>\n",
       "      <td>List[float]</td>\n",
       "      <td>score episode</td>\n",
       "      <td>['self start env self episode score current av...</td>\n",
       "      <td>6</td>\n",
       "      <td>6</td>\n",
       "      <td>List[float]</td>\n",
       "      <td>392</td>\n",
       "      <td>num episode max t add noise score window size ...</td>\n",
       "      <td>episode score</td>\n",
       "      <td>999</td>\n",
       "    </tr>\n",
       "    <tr>\n",
       "      <th>157</th>\n",
       "      <td>/home/amir/projects/ML4SE/data/full_dataset/pp...</td>\n",
       "      <td>unpack</td>\n",
       "      <td>NaN</td>\n",
       "      <td>NaN</td>\n",
       "      <td>Tuple[float, float]</td>\n",
       "      <td>NaN</td>\n",
       "      <td>[]</td>\n",
       "      <td>1</td>\n",
       "      <td>1</td>\n",
       "      <td>Tuple[float, float]</td>\n",
       "      <td>743</td>\n",
       "      <td>value</td>\n",
       "      <td>value x value y float value float value float ...</td>\n",
       "      <td>999</td>\n",
       "    </tr>\n",
       "    <tr>\n",
       "      <th>158</th>\n",
       "      <td>/home/amir/projects/ML4SE/data/full_dataset/pp...</td>\n",
       "      <td>bool</td>\n",
       "      <td>check whether vector non zero assert vector as...</td>\n",
       "      <td>check whether vector non zero</td>\n",
       "      <td>bool</td>\n",
       "      <td>NaN</td>\n",
       "      <td>[]</td>\n",
       "      <td>1</td>\n",
       "      <td>1</td>\n",
       "      <td>bool</td>\n",
       "      <td>866</td>\n",
       "      <td></td>\n",
       "      <td></td>\n",
       "      <td>388</td>\n",
       "    </tr>\n",
       "    <tr>\n",
       "      <th>159</th>\n",
       "      <td>/home/amir/projects/ML4SE/data/full_dataset/pp...</td>\n",
       "      <td>length</td>\n",
       "      <td>compute length vector vector length</td>\n",
       "      <td>compute length vector</td>\n",
       "      <td>float</td>\n",
       "      <td>NaN</td>\n",
       "      <td>[]</td>\n",
       "      <td>1</td>\n",
       "      <td>1</td>\n",
       "      <td>float</td>\n",
       "      <td>895</td>\n",
       "      <td></td>\n",
       "      <td>hypot  x  y</td>\n",
       "      <td>385</td>\n",
       "    </tr>\n",
       "  </tbody>\n",
       "</table>\n",
       "</div>"
      ],
      "text/plain": [
       "                                                  file         name  \\\n",
       "46   /home/amir/projects/ML4SE/data/full_dataset/Ma...       origin   \n",
       "47   /home/amir/projects/ML4SE/data/full_dataset/Ma...  description   \n",
       "64   /home/amir/projects/ML4SE/data/full_dataset/Ma...       origin   \n",
       "65   /home/amir/projects/ML4SE/data/full_dataset/Ma...  description   \n",
       "80   /home/amir/projects/ML4SE/data/full_dataset/Ma...       origin   \n",
       "81   /home/amir/projects/ML4SE/data/full_dataset/Ma...  description   \n",
       "115  /home/amir/projects/ML4SE/data/full_dataset/Ma...        train   \n",
       "157  /home/amir/projects/ML4SE/data/full_dataset/pp...       unpack   \n",
       "158  /home/amir/projects/ML4SE/data/full_dataset/pp...         bool   \n",
       "159  /home/amir/projects/ML4SE/data/full_dataset/pp...       length   \n",
       "\n",
       "                                             docstring  \\\n",
       "46   helper get original paper algorithm return ori...   \n",
       "47   helper get brief description algorithm return ...   \n",
       "64   helper get original paper algorithm return ori...   \n",
       "65   helper get brief description algorithm return ...   \n",
       "80   helper get original paper algorithm return ori...   \n",
       "81   helper get brief description algorithm return ...   \n",
       "115  train agent interaction environment args num e...   \n",
       "157                                                NaN   \n",
       "158  check whether vector non zero assert vector as...   \n",
       "159                compute length vector vector length   \n",
       "\n",
       "                                 func_descr          return_type  \\\n",
       "46      helper get original paper algorithm                  str   \n",
       "47   helper get brief description algorithm                  str   \n",
       "64      helper get original paper algorithm                  str   \n",
       "65   helper get brief description algorithm                  str   \n",
       "80      helper get original paper algorithm                  str   \n",
       "81   helper get brief description algorithm                  str   \n",
       "115     train agent interaction environment          List[float]   \n",
       "157                                     NaN  Tuple[float, float]   \n",
       "158           check whether vector non zero                 bool   \n",
       "159                   compute length vector                float   \n",
       "\n",
       "                    return_descr  \\\n",
       "46      original paper algorithm   \n",
       "47   brief description algorithm   \n",
       "64      original paper algorithm   \n",
       "65   brief description algorithm   \n",
       "80      original paper algorithm   \n",
       "81   brief description algorithm   \n",
       "115                score episode   \n",
       "157                          NaN   \n",
       "158                          NaN   \n",
       "159                          NaN   \n",
       "\n",
       "                                            args_occur  arg_names_len  \\\n",
       "46                                                  []              1   \n",
       "47                                                  []              1   \n",
       "64                                                  []              1   \n",
       "65                                                  []              1   \n",
       "80                                                  []              1   \n",
       "81                                                  []              1   \n",
       "115  ['self start env self episode score current av...              6   \n",
       "157                                                 []              1   \n",
       "158                                                 []              1   \n",
       "159                                                 []              1   \n",
       "\n",
       "     arg_types_len        return_type_t  return_type_enc  \\\n",
       "46               1                  str              956   \n",
       "47               1                  str              956   \n",
       "64               1                  str              956   \n",
       "65               1                  str              956   \n",
       "80               1                  str              956   \n",
       "81               1                  str              956   \n",
       "115              6          List[float]              392   \n",
       "157              1  Tuple[float, float]              743   \n",
       "158              1                 bool              866   \n",
       "159              1                float              895   \n",
       "\n",
       "                                         arg_names_str  \\\n",
       "46                                                       \n",
       "47                                                       \n",
       "64                                                       \n",
       "65                                                       \n",
       "80                                                       \n",
       "81                                                       \n",
       "115  num episode max t add noise score window size ...   \n",
       "157                                              value   \n",
       "158                                                      \n",
       "159                                                      \n",
       "\n",
       "                                       return_expr_str  ret_aval_new_enc  \n",
       "46            http www c toronto edu vmnih doc dqn pdf                12  \n",
       "47                                         description                12  \n",
       "64   http paper nip cc paper policy gradient method...                12  \n",
       "65                                         description                12  \n",
       "80                              http arxiv org pdf pdf                12  \n",
       "81                                         description                12  \n",
       "115                                      episode score               999  \n",
       "157  value x value y float value float value float ...               999  \n",
       "158                                                                  388  \n",
       "159                                        hypot  x  y               385  "
      ]
     },
     "execution_count": 48,
     "metadata": {},
     "output_type": "execute_result"
    }
   ],
   "source": [
    "df.head(10)"
   ]
  },
  {
   "cell_type": "markdown",
   "metadata": {},
   "source": [
    "Splits parameters and returns type dataset by file into a train and test sets"
   ]
  },
  {
   "cell_type": "code",
   "execution_count": 49,
   "metadata": {},
   "outputs": [
    {
     "name": "stdout",
     "output_type": "stream",
     "text": [
      "(283814, 11) (67757, 11)\n"
     ]
    }
   ],
   "source": [
    "df_params_train = df_params[df_params['file'].isin(train_files.to_numpy().flatten())]\n",
    "df_params_test = df_params[df_params['file'].isin(test_files.to_numpy().flatten())]\n",
    "print(df_params_train.shape, df_params_test.shape)"
   ]
  },
  {
   "cell_type": "code",
   "execution_count": 50,
   "metadata": {},
   "outputs": [
    {
     "name": "stdout",
     "output_type": "stream",
     "text": [
      "(116483, 14) (27962, 14)\n"
     ]
    }
   ],
   "source": [
    "df_ret_train = df[df['file'].isin(train_files.to_numpy().flatten())]\n",
    "df_ret_test = df[df['file'].isin(test_files.to_numpy().flatten())]\n",
    "print(df_ret_train.shape, df_ret_test.shape)"
   ]
  },
  {
   "cell_type": "markdown",
   "metadata": {},
   "source": [
    "Make sure that there is no overlap between the train and test sets."
   ]
  },
  {
   "cell_type": "code",
   "execution_count": 51,
   "metadata": {},
   "outputs": [
    {
     "data": {
      "text/plain": [
       "[]"
      ]
     },
     "execution_count": 51,
     "metadata": {},
     "output_type": "execute_result"
    }
   ],
   "source": [
    "list(set(df_params_train['file'].tolist()).intersection(set(df_params_test['file'].tolist())))"
   ]
  },
  {
   "cell_type": "code",
   "execution_count": 52,
   "metadata": {},
   "outputs": [
    {
     "data": {
      "text/plain": [
       "[]"
      ]
     },
     "execution_count": 52,
     "metadata": {},
     "output_type": "execute_result"
    }
   ],
   "source": [
    "list(set(df_ret_train['file'].tolist()).intersection(set(df_ret_test['file'].tolist())))"
   ]
  },
  {
   "cell_type": "markdown",
   "metadata": {},
   "source": [
    "Store the dataframes and the label encoder"
   ]
  },
  {
   "cell_type": "code",
   "execution_count": 53,
   "metadata": {},
   "outputs": [],
   "source": [
    "if not os.path.exists(ML_INPUTS_PATH_TW):\n",
    "    os.makedirs(ML_INPUTS_PATH_TW)\n",
    "\n",
    "with open(LABEL_ENCODER_PATH_TW, 'wb') as file:\n",
    "    pickle.dump(label_encoder, file)\n",
    "    \n",
    "#df.to_csv(config.ML_RETURN_DF_PATH_TW, index=False)\n",
    "#df_params.to_csv(config.ML_PARAM_DF_PATH_TW, index=False)\n",
    "df_params_train.to_csv(ML_PARAM_TW_TRAIN, index=False)\n",
    "df_params_test.to_csv(ML_PARAM_TW_TEST, index=False)\n",
    "df_ret_train.to_csv(ML_RET_TW_TRAIN, index=False)\n",
    "df_ret_test.to_csv(ML_RET_TW_TEST, index=False)"
   ]
  },
  {
   "cell_type": "markdown",
   "metadata": {},
   "source": [
    "Plots 20 most frequent types in the dataset"
   ]
  },
  {
   "cell_type": "code",
   "execution_count": 44,
   "metadata": {},
   "outputs": [
    {
     "data": {
      "image/png": "[encoded data removed]",
      "text/plain": [
       "<Figure size 432x288 with 1 Axes>"
      ]
     },
     "metadata": {
      "needs_background": "light"
     },
     "output_type": "display_data"
    }
   ],
   "source": [
    "result_proc.plot_top_n_types(TYPES_FILE_TW, 20)"
   ]
  },
  {
   "cell_type": "markdown",
   "metadata": {},
   "source": [
    "### Step 3: Embeddings"
   ]
  },
  {
   "cell_type": "code",
   "execution_count": 54,
   "metadata": {},
   "outputs": [],
   "source": [
    "from typewriter import extraction\n",
    "from typewriter.extraction import EmbeddingTypeWriter\n",
    "from gensim.models import Word2Vec"
   ]
  },
  {
   "cell_type": "markdown",
   "metadata": {},
   "source": [
    "Loads dataset for parametes and return types"
   ]
  },
  {
   "cell_type": "code",
   "execution_count": 55,
   "metadata": {},
   "outputs": [
    {
     "name": "stdout",
     "output_type": "stream",
     "text": [
      "Number of parameters types: 283814\n",
      "Number of returns types 116483\n"
     ]
    }
   ],
   "source": [
    "param_df = pd.read_csv(ML_PARAM_TW_TRAIN)\n",
    "return_df = pd.read_csv(ML_RET_TW_TRAIN)\n",
    "\n",
    "print(\"Number of parameters types:\", param_df.shape[0])\n",
    "print(\"Number of returns types\", return_df.shape[0])"
   ]
  },
  {
   "cell_type": "markdown",
   "metadata": {},
   "source": [
    "Train embeddings"
   ]
  },
  {
   "cell_type": "code",
   "execution_count": 56,
   "metadata": {},
   "outputs": [
    {
     "name": "stdout",
     "output_type": "stream",
     "text": [
      "Time to build vocab: 0.14 mins\n",
      "Time to train model: 3.69 mins\n",
      "Time to build vocab: 0.02 mins\n",
      "Time to train model: 0.39 mins\n"
     ]
    }
   ],
   "source": [
    "embedder = EmbeddingTypeWriter(param_df, return_df, W2V_MODEL_COMMENTS_DIR,\n",
    "                               W2V_MODEL_TOKEN_DIR)\n",
    "embedder.train_token_model()\n",
    "embedder.train_comment_model()"
   ]
  },
  {
   "cell_type": "markdown",
   "metadata": {},
   "source": [
    "Loads pre-trained W2V models for TypeWriter"
   ]
  },
  {
   "cell_type": "code",
   "execution_count": 57,
   "metadata": {},
   "outputs": [],
   "source": [
    "w2v_token_model = Word2Vec.load(W2V_MODEL_TOKEN_DIR)\n",
    "w2v_comments_model = Word2Vec.load(W2V_MODEL_COMMENTS_DIR)"
   ]
  },
  {
   "cell_type": "markdown",
   "metadata": {},
   "source": [
    "stats of the W2V models:"
   ]
  },
  {
   "cell_type": "code",
   "execution_count": 58,
   "metadata": {},
   "outputs": [
    {
     "name": "stdout",
     "output_type": "stream",
     "text": [
      "W2V statistics: \n",
      "W2V token model total amount of words : 6548675\n",
      "W2V comments model total amount of words : 501942\n",
      "\n",
      " Top 20 words for token model:\n",
      "['name', 'id', '[]', 'get', 'type', 'init', 'path', 'data', 'file', 'key', 'token', 'user', 'none', 'value', 'size', 'state', 'max', 'config', 'node', 'address']\n",
      "\n",
      " Top 20 words for comments model:\n",
      "['return', 'list', 'name', 'give', 'file', 'get', 'use', 'value', 'data', 'string', 'object', 'path', 'id', 'type', 'class', 'number', 'true', 'function', 'set', 'create']\n"
     ]
    }
   ],
   "source": [
    "print(\"W2V statistics: \")\n",
    "print(\"W2V token model total amount of words : \" + str(w2v_token_model.corpus_total_words))\n",
    "print(\"W2V comments model total amount of words : \" + str(w2v_comments_model.corpus_total_words))\n",
    "print(\"\\n Top 20 words for token model:\")\n",
    "print(w2v_token_model.wv.index2entity[:20])\n",
    "print(\"\\n Top 20 words for comments model:\")\n",
    "print(w2v_comments_model.wv.index2entity[:20])"
   ]
  },
  {
   "cell_type": "markdown",
   "metadata": {},
   "source": [
    "### Step 4: Vector Representation"
   ]
  },
  {
   "cell_type": "code",
   "execution_count": 59,
   "metadata": {},
   "outputs": [],
   "source": [
    "from typewriter.extraction import IdentifierSequence, TokenSequence, CommentSequence, \\\n",
    "                                  process_datapoints_TW, gen_aval_types_datapoints"
   ]
  },
  {
   "cell_type": "markdown",
   "metadata": {},
   "source": [
    "Process parameter datapoints"
   ]
  },
  {
   "cell_type": "code",
   "execution_count": 60,
   "metadata": {},
   "outputs": [],
   "source": [
    "id_trans_func_param = lambda row: IdentifierSequence(w2v_token_model, row.arg_name, row.other_args,\n",
    "                                                     row.func_name)\n",
    "token_trans_func_param = lambda row: TokenSequence(w2v_token_model, 7, 3, row.arg_occur, None)\n",
    "\n",
    "cm_trans_func_param = lambda row: CommentSequence(w2v_comments_model, row.func_descr, row.arg_comment, None)"
   ]
  },
  {
   "cell_type": "markdown",
   "metadata": {},
   "source": [
    "Identifiers"
   ]
  },
  {
   "cell_type": "code",
   "execution_count": 61,
   "metadata": {},
   "outputs": [],
   "source": [
    "dp_ids_param_X_train = process_datapoints_TW(ML_PARAM_TW_TRAIN, VECTOR_OUTPUT_TRAIN,\n",
    "                                             'identifiers_', 'param_train', id_trans_func_param)"
   ]
  },
  {
   "cell_type": "code",
   "execution_count": 62,
   "metadata": {},
   "outputs": [],
   "source": [
    "dp_ids_param_X_test = process_datapoints_TW(ML_PARAM_TW_TEST, VECTOR_OUTPUT_TEST,\n",
    "                                            'identifiers_', 'param_test', id_trans_func_param)"
   ]
  },
  {
   "cell_type": "markdown",
   "metadata": {},
   "source": [
    "Tokens"
   ]
  },
  {
   "cell_type": "code",
   "execution_count": 63,
   "metadata": {},
   "outputs": [],
   "source": [
    "dp_tokens_param_X_train = process_datapoints_TW(ML_PARAM_TW_TRAIN, VECTOR_OUTPUT_TRAIN,\n",
    "                                                'tokens_', 'param_train', token_trans_func_param)"
   ]
  },
  {
   "cell_type": "code",
   "execution_count": 64,
   "metadata": {},
   "outputs": [],
   "source": [
    "dp_tokens_param_X_test = process_datapoints_TW(ML_PARAM_TW_TEST, VECTOR_OUTPUT_TEST,\n",
    "                                                'tokens_', 'param_test', token_trans_func_param)"
   ]
  },
  {
   "cell_type": "markdown",
   "metadata": {},
   "source": [
    "Comments"
   ]
  },
  {
   "cell_type": "code",
   "execution_count": 65,
   "metadata": {},
   "outputs": [],
   "source": [
    "dp_cms_param_X_train = process_datapoints_TW(ML_PARAM_TW_TRAIN, VECTOR_OUTPUT_TRAIN,\n",
    "                                            'comments_', 'param_train', cm_trans_func_param)"
   ]
  },
  {
   "cell_type": "code",
   "execution_count": 66,
   "metadata": {},
   "outputs": [],
   "source": [
    "dp_cms_param_X_test = process_datapoints_TW(ML_PARAM_TW_TEST, VECTOR_OUTPUT_TEST,\n",
    "                                            'comments_', 'param_test', cm_trans_func_param)"
   ]
  },
  {
   "cell_type": "code",
   "execution_count": 67,
   "metadata": {},
   "outputs": [
    {
     "name": "stdout",
     "output_type": "stream",
     "text": [
      "Identifiers' train set parameters:  (283814, 31, 100)\n",
      "Tokens' train set parameters:  (283814, 21, 100)\n",
      "Comments' train parameters:  (283814, 40, 100)\n",
      "Identifiers' test set parameters:  (67757, 31, 100)\n",
      "Tokens' test set parameters:  (67757, 21, 100)\n",
      "Comments' test set parameters:  (67757, 40, 100)\n"
     ]
    }
   ],
   "source": [
    "print(\"Identifiers' train set parameters: \", dp_ids_param_X_train.shape)\n",
    "print(\"Tokens' train set parameters: \", dp_tokens_param_X_train.shape)\n",
    "print(\"Comments' train parameters: \", dp_cms_param_X_train.shape)\n",
    "print(\"Identifiers' test set parameters: \", dp_ids_param_X_test.shape)\n",
    "print(\"Tokens' test set parameters: \", dp_tokens_param_X_test.shape)\n",
    "print(\"Comments' test set parameters: \", dp_cms_param_X_test.shape)"
   ]
  },
  {
   "cell_type": "markdown",
   "metadata": {},
   "source": [
    "Process returns datapoints"
   ]
  },
  {
   "cell_type": "code",
   "execution_count": 68,
   "metadata": {},
   "outputs": [],
   "source": [
    "id_trans_func_ret = lambda row: IdentifierSequence(w2v_token_model, None, row.arg_names_str, row.name)\n",
    "token_trans_func_ret = lambda row: TokenSequence(w2v_token_model, 7, 3, None, row.return_expr_str)\n",
    "cm_trans_func_ret = lambda row: CommentSequence(w2v_comments_model, row.func_descr, None, row.return_descr)"
   ]
  },
  {
   "cell_type": "markdown",
   "metadata": {},
   "source": [
    "Identifiers"
   ]
  },
  {
   "cell_type": "code",
   "execution_count": 69,
   "metadata": {},
   "outputs": [],
   "source": [
    "dp_ids_ret_X_train = process_datapoints_TW(ML_RET_TW_TRAIN, VECTOR_OUTPUT_TRAIN,\n",
    "                                                     'identifiers_', 'ret_train', id_trans_func_ret)"
   ]
  },
  {
   "cell_type": "code",
   "execution_count": 70,
   "metadata": {},
   "outputs": [],
   "source": [
    "dp_ids_ret_X_test = process_datapoints_TW(ML_RET_TW_TEST, VECTOR_OUTPUT_TEST,\n",
    "                                                    'identifiers_', 'ret_test', id_trans_func_ret)"
   ]
  },
  {
   "cell_type": "markdown",
   "metadata": {},
   "source": [
    "Tokens"
   ]
  },
  {
   "cell_type": "code",
   "execution_count": 71,
   "metadata": {},
   "outputs": [],
   "source": [
    "dp_tokens_ret_X_train = process_datapoints_TW(ML_RET_TW_TRAIN, VECTOR_OUTPUT_TRAIN,\n",
    "                                                        'tokens_', 'ret_train', token_trans_func_ret)"
   ]
  },
  {
   "cell_type": "code",
   "execution_count": 72,
   "metadata": {},
   "outputs": [],
   "source": [
    "dp_tokens_ret_X_test = process_datapoints_TW(ML_RET_TW_TEST, VECTOR_OUTPUT_TEST,\n",
    "                                                        'tokens_', 'ret_test', token_trans_func_ret)"
   ]
  },
  {
   "cell_type": "markdown",
   "metadata": {},
   "source": [
    "Comments"
   ]
  },
  {
   "cell_type": "code",
   "execution_count": 73,
   "metadata": {},
   "outputs": [],
   "source": [
    "dp_cms_ret_X_train = process_datapoints_TW(ML_RET_TW_TRAIN, VECTOR_OUTPUT_TRAIN, \n",
    "                                                     'comments_', 'ret_train', cm_trans_func_ret)"
   ]
  },
  {
   "cell_type": "code",
   "execution_count": 74,
   "metadata": {},
   "outputs": [],
   "source": [
    "dp_cms_ret_X_test = process_datapoints_TW(ML_RET_TW_TEST, VECTOR_OUTPUT_TEST, \n",
    "                                                     'comments_', 'ret_test', cm_trans_func_ret)"
   ]
  },
  {
   "cell_type": "code",
   "execution_count": 75,
   "metadata": {},
   "outputs": [
    {
     "name": "stdout",
     "output_type": "stream",
     "text": [
      "Identifiers' train set return:  (116483, 31, 100)\n",
      "Identifiers' test set return:  (27962, 31, 100)\n",
      "Tokens' train set return:  (116483, 21, 100)\n",
      "Tokens' test set return:  (27962, 21, 100)\n",
      "Comments' train set return: (116483, 40, 100)\n",
      "Comments' test set return: (27962, 40, 100)\n"
     ]
    }
   ],
   "source": [
    "print(\"Identifiers' train set return: \", dp_ids_ret_X_train.shape)\n",
    "print(\"Identifiers' test set return: \", dp_ids_ret_X_test.shape)\n",
    "print(\"Tokens' train set return: \", dp_tokens_ret_X_train.shape)\n",
    "print(\"Tokens' test set return: \", dp_tokens_ret_X_test.shape)\n",
    "print(\"Comments' train set return:\" , dp_cms_ret_X_train.shape)\n",
    "print(\"Comments' test set return:\" , dp_cms_ret_X_test.shape)"
   ]
  },
  {
   "cell_type": "markdown",
   "metadata": {},
   "source": [
    "Generates datapoints for available types"
   ]
  },
  {
   "cell_type": "code",
   "execution_count": 81,
   "metadata": {},
   "outputs": [
    {
     "ename": "AttributeError",
     "evalue": "'Series' object has no attribute 'param_aval_enc'",
     "output_type": "error",
     "traceback": [
      "\u001b[0;31m---------------------------------------------------------------------------\u001b[0m",
      "\u001b[0;31mAttributeError\u001b[0m                            Traceback (most recent call last)",
      "\u001b[0;32m<ipython-input-81-34ebcc3a9c17>\u001b[0m in \u001b[0;36m<module>\u001b[0;34m\u001b[0m\n\u001b[1;32m      2\u001b[0m                                                                                 \u001b[0mML_RET_TW_TRAIN\u001b[0m\u001b[0;34m,\u001b[0m\u001b[0;34m\u001b[0m\u001b[0;34m\u001b[0m\u001b[0m\n\u001b[1;32m      3\u001b[0m                                                                                \u001b[0;34m'train'\u001b[0m\u001b[0;34m,\u001b[0m\u001b[0;34m\u001b[0m\u001b[0;34m\u001b[0m\u001b[0m\n\u001b[0;32m----> 4\u001b[0;31m                                                                                 VECTOR_OUTPUT_TRAIN)\n\u001b[0m",
      "\u001b[0;32m~/projects/dl-type-python/typewriter/extraction.py\u001b[0m in \u001b[0;36mgen_aval_types_datapoints\u001b[0;34m(df_params, df_ret, set_type, output_path, cached_file)\u001b[0m\n\u001b[1;32m    340\u001b[0m \u001b[0;34m\u001b[0m\u001b[0m\n\u001b[1;32m    341\u001b[0m         aval_types_params = np.stack(df_params.apply(lambda row: type_vector(AVAILABLE_TYPES_NUMBER, row.param_aval_enc),\n\u001b[0;32m--> 342\u001b[0;31m                                                     axis=1), axis=0)\n\u001b[0m\u001b[1;32m    343\u001b[0m         aval_types_ret = np.stack(df_ret.apply(lambda row: type_vector(AVAILABLE_TYPES_NUMBER, row.ret_aval_enc),\n\u001b[1;32m    344\u001b[0m                                             axis=1), axis=0)\n",
      "\u001b[0;32m~/py_venv/py_36/lib/python3.6/site-packages/pandas/core/frame.py\u001b[0m in \u001b[0;36mapply\u001b[0;34m(self, func, axis, raw, result_type, args, **kwds)\u001b[0m\n\u001b[1;32m   6876\u001b[0m             \u001b[0mkwds\u001b[0m\u001b[0;34m=\u001b[0m\u001b[0mkwds\u001b[0m\u001b[0;34m,\u001b[0m\u001b[0;34m\u001b[0m\u001b[0;34m\u001b[0m\u001b[0m\n\u001b[1;32m   6877\u001b[0m         )\n\u001b[0;32m-> 6878\u001b[0;31m         \u001b[0;32mreturn\u001b[0m \u001b[0mop\u001b[0m\u001b[0;34m.\u001b[0m\u001b[0mget_result\u001b[0m\u001b[0;34m(\u001b[0m\u001b[0;34m)\u001b[0m\u001b[0;34m\u001b[0m\u001b[0;34m\u001b[0m\u001b[0m\n\u001b[0m\u001b[1;32m   6879\u001b[0m \u001b[0;34m\u001b[0m\u001b[0m\n\u001b[1;32m   6880\u001b[0m     \u001b[0;32mdef\u001b[0m \u001b[0mapplymap\u001b[0m\u001b[0;34m(\u001b[0m\u001b[0mself\u001b[0m\u001b[0;34m,\u001b[0m \u001b[0mfunc\u001b[0m\u001b[0;34m)\u001b[0m \u001b[0;34m->\u001b[0m \u001b[0;34m\"DataFrame\"\u001b[0m\u001b[0;34m:\u001b[0m\u001b[0;34m\u001b[0m\u001b[0;34m\u001b[0m\u001b[0m\n",
      "\u001b[0;32m~/py_venv/py_36/lib/python3.6/site-packages/pandas/core/apply.py\u001b[0m in \u001b[0;36mget_result\u001b[0;34m(self)\u001b[0m\n\u001b[1;32m    184\u001b[0m             \u001b[0;32mreturn\u001b[0m \u001b[0mself\u001b[0m\u001b[0;34m.\u001b[0m\u001b[0mapply_raw\u001b[0m\u001b[0;34m(\u001b[0m\u001b[0;34m)\u001b[0m\u001b[0;34m\u001b[0m\u001b[0;34m\u001b[0m\u001b[0m\n\u001b[1;32m    185\u001b[0m \u001b[0;34m\u001b[0m\u001b[0m\n\u001b[0;32m--> 186\u001b[0;31m         \u001b[0;32mreturn\u001b[0m \u001b[0mself\u001b[0m\u001b[0;34m.\u001b[0m\u001b[0mapply_standard\u001b[0m\u001b[0;34m(\u001b[0m\u001b[0;34m)\u001b[0m\u001b[0;34m\u001b[0m\u001b[0;34m\u001b[0m\u001b[0m\n\u001b[0m\u001b[1;32m    187\u001b[0m \u001b[0;34m\u001b[0m\u001b[0m\n\u001b[1;32m    188\u001b[0m     \u001b[0;32mdef\u001b[0m \u001b[0mapply_empty_result\u001b[0m\u001b[0;34m(\u001b[0m\u001b[0mself\u001b[0m\u001b[0;34m)\u001b[0m\u001b[0;34m:\u001b[0m\u001b[0;34m\u001b[0m\u001b[0;34m\u001b[0m\u001b[0m\n",
      "\u001b[0;32m~/py_venv/py_36/lib/python3.6/site-packages/pandas/core/apply.py\u001b[0m in \u001b[0;36mapply_standard\u001b[0;34m(self)\u001b[0m\n\u001b[1;32m    294\u001b[0m             \u001b[0;32mtry\u001b[0m\u001b[0;34m:\u001b[0m\u001b[0;34m\u001b[0m\u001b[0;34m\u001b[0m\u001b[0m\n\u001b[1;32m    295\u001b[0m                 result = libreduction.compute_reduction(\n\u001b[0;32m--> 296\u001b[0;31m                     \u001b[0mvalues\u001b[0m\u001b[0;34m,\u001b[0m \u001b[0mself\u001b[0m\u001b[0;34m.\u001b[0m\u001b[0mf\u001b[0m\u001b[0;34m,\u001b[0m \u001b[0maxis\u001b[0m\u001b[0;34m=\u001b[0m\u001b[0mself\u001b[0m\u001b[0;34m.\u001b[0m\u001b[0maxis\u001b[0m\u001b[0;34m,\u001b[0m \u001b[0mdummy\u001b[0m\u001b[0;34m=\u001b[0m\u001b[0mdummy\u001b[0m\u001b[0;34m,\u001b[0m \u001b[0mlabels\u001b[0m\u001b[0;34m=\u001b[0m\u001b[0mlabels\u001b[0m\u001b[0;34m\u001b[0m\u001b[0;34m\u001b[0m\u001b[0m\n\u001b[0m\u001b[1;32m    297\u001b[0m                 )\n\u001b[1;32m    298\u001b[0m             \u001b[0;32mexcept\u001b[0m \u001b[0mValueError\u001b[0m \u001b[0;32mas\u001b[0m \u001b[0merr\u001b[0m\u001b[0;34m:\u001b[0m\u001b[0;34m\u001b[0m\u001b[0;34m\u001b[0m\u001b[0m\n",
      "\u001b[0;32mpandas/_libs/reduction.pyx\u001b[0m in \u001b[0;36mpandas._libs.reduction.compute_reduction\u001b[0;34m()\u001b[0m\n",
      "\u001b[0;32mpandas/_libs/reduction.pyx\u001b[0m in \u001b[0;36mpandas._libs.reduction.Reducer.get_result\u001b[0;34m()\u001b[0m\n",
      "\u001b[0;32m~/projects/dl-type-python/typewriter/extraction.py\u001b[0m in \u001b[0;36m<lambda>\u001b[0;34m(row)\u001b[0m\n\u001b[1;32m    339\u001b[0m         \u001b[0mdf_ret\u001b[0m \u001b[0;34m=\u001b[0m \u001b[0mpd\u001b[0m\u001b[0;34m.\u001b[0m\u001b[0mread_csv\u001b[0m\u001b[0;34m(\u001b[0m\u001b[0mdf_ret\u001b[0m\u001b[0;34m)\u001b[0m\u001b[0;34m\u001b[0m\u001b[0;34m\u001b[0m\u001b[0m\n\u001b[1;32m    340\u001b[0m \u001b[0;34m\u001b[0m\u001b[0m\n\u001b[0;32m--> 341\u001b[0;31m         aval_types_params = np.stack(df_params.apply(lambda row: type_vector(AVAILABLE_TYPES_NUMBER, row.param_aval_enc),\n\u001b[0m\u001b[1;32m    342\u001b[0m                                                     axis=1), axis=0)\n\u001b[1;32m    343\u001b[0m         aval_types_ret = np.stack(df_ret.apply(lambda row: type_vector(AVAILABLE_TYPES_NUMBER, row.ret_aval_enc),\n",
      "\u001b[0;32m~/py_venv/py_36/lib/python3.6/site-packages/pandas/core/generic.py\u001b[0m in \u001b[0;36m__getattr__\u001b[0;34m(self, name)\u001b[0m\n\u001b[1;32m   5272\u001b[0m             \u001b[0;32mif\u001b[0m \u001b[0mself\u001b[0m\u001b[0;34m.\u001b[0m\u001b[0m_info_axis\u001b[0m\u001b[0;34m.\u001b[0m\u001b[0m_can_hold_identifiers_and_holds_name\u001b[0m\u001b[0;34m(\u001b[0m\u001b[0mname\u001b[0m\u001b[0;34m)\u001b[0m\u001b[0;34m:\u001b[0m\u001b[0;34m\u001b[0m\u001b[0;34m\u001b[0m\u001b[0m\n\u001b[1;32m   5273\u001b[0m                 \u001b[0;32mreturn\u001b[0m \u001b[0mself\u001b[0m\u001b[0;34m[\u001b[0m\u001b[0mname\u001b[0m\u001b[0;34m]\u001b[0m\u001b[0;34m\u001b[0m\u001b[0;34m\u001b[0m\u001b[0m\n\u001b[0;32m-> 5274\u001b[0;31m             \u001b[0;32mreturn\u001b[0m \u001b[0mobject\u001b[0m\u001b[0;34m.\u001b[0m\u001b[0m__getattribute__\u001b[0m\u001b[0;34m(\u001b[0m\u001b[0mself\u001b[0m\u001b[0;34m,\u001b[0m \u001b[0mname\u001b[0m\u001b[0;34m)\u001b[0m\u001b[0;34m\u001b[0m\u001b[0;34m\u001b[0m\u001b[0m\n\u001b[0m\u001b[1;32m   5275\u001b[0m \u001b[0;34m\u001b[0m\u001b[0m\n\u001b[1;32m   5276\u001b[0m     \u001b[0;32mdef\u001b[0m \u001b[0m__setattr__\u001b[0m\u001b[0;34m(\u001b[0m\u001b[0mself\u001b[0m\u001b[0;34m,\u001b[0m \u001b[0mname\u001b[0m\u001b[0;34m:\u001b[0m \u001b[0mstr\u001b[0m\u001b[0;34m,\u001b[0m \u001b[0mvalue\u001b[0m\u001b[0;34m)\u001b[0m \u001b[0;34m->\u001b[0m \u001b[0;32mNone\u001b[0m\u001b[0;34m:\u001b[0m\u001b[0;34m\u001b[0m\u001b[0;34m\u001b[0m\u001b[0m\n",
      "\u001b[0;31mAttributeError\u001b[0m: 'Series' object has no attribute 'param_aval_enc'"
     ]
    }
   ],
   "source": [
    "dp_params_train_aval_types, dp_ret_train_aval_types = gen_aval_types_datapoints(ML_PARAM_TW_TRAIN,\n",
    "                                                                                ML_RET_TW_TRAIN,\n",
    "                                                                               'train',\n",
    "                                                                                VECTOR_OUTPUT_TRAIN)"
   ]
  },
  {
   "cell_type": "code",
   "execution_count": null,
   "metadata": {},
   "outputs": [],
   "source": [
    "dp_params_test_aval_types, dp_ret_test_aval_types = gen_aval_types_datapoints(ML_PARAM_TW_TEST,\n",
    "                                                                              ML_RET_TW_TEST,\n",
    "                                                                              'test',\n",
    "                                                                              VECTOR_OUTPUT_TEST)"
   ]
  },
  {
   "cell_type": "code",
   "execution_count": null,
   "metadata": {},
   "outputs": [],
   "source": [
    "print(\"Available types-parameters-train:\", dp_params_train_aval_types.shape)\n",
    "print(\"Available types-returns-train:\", dp_ret_train_aval_types.shape)\n",
    "print(\"Available types-parameters-test:\", dp_params_test_aval_types.shape)\n",
    "print(\"Available types-returns-test:\", dp_ret_test_aval_types.shape)"
   ]
  },
  {
   "cell_type": "markdown",
   "metadata": {},
   "source": [
    "Creating datapoints for new visible types"
   ]
  },
  {
   "cell_type": "code",
   "execution_count": 76,
   "metadata": {},
   "outputs": [],
   "source": [
    "from typewriter.extraction import type_vector\n",
    "def gen_new_aval_types_dp(df_params, df_ret, set_type, output_path):\n",
    "    df_params = pd.read_csv(df_params)\n",
    "    df_ret = pd.read_csv(df_ret)\n",
    "\n",
    "    aval_types_params = np.stack(df_params.apply(lambda row: type_vector(config_TW.AVAILABLE_TYPES_NUMBER,\n",
    "                                                                         row.param_aval_new_enc), axis=1), axis=0)\n",
    "    aval_types_ret = np.stack(df_ret.apply(lambda row: type_vector(config_TW.AVAILABLE_TYPES_NUMBER,\n",
    "                                                                   row.ret_aval_new_enc), axis=1), axis=0)\n",
    "\n",
    "    np.save(join(output_path, f'params_{set_type}_new_aval_types_dp'), aval_types_params)\n",
    "    np.save(join(output_path, f'ret_{set_type}_new_aval_types_dp'), aval_types_ret)\n",
    "\n",
    "    return aval_types_params, aval_types_ret"
   ]
  },
  {
   "cell_type": "code",
   "execution_count": 77,
   "metadata": {},
   "outputs": [
    {
     "data": {
      "text/plain": [
       "(array([[0., 0., 0., ..., 0., 0., 1.],\n",
       "        [0., 0., 0., ..., 0., 0., 1.],\n",
       "        [0., 0., 0., ..., 0., 0., 1.],\n",
       "        ...,\n",
       "        [0., 0., 0., ..., 0., 0., 0.],\n",
       "        [0., 0., 0., ..., 0., 0., 0.],\n",
       "        [0., 0., 0., ..., 0., 0., 0.]]),\n",
       " array([[0., 0., 0., ..., 0., 0., 1.],\n",
       "        [0., 0., 0., ..., 0., 0., 0.],\n",
       "        [0., 0., 0., ..., 0., 0., 0.],\n",
       "        ...,\n",
       "        [0., 0., 0., ..., 0., 0., 0.],\n",
       "        [0., 0., 0., ..., 0., 0., 1.],\n",
       "        [0., 0., 0., ..., 0., 0., 0.]]))"
      ]
     },
     "execution_count": 77,
     "metadata": {},
     "output_type": "execute_result"
    }
   ],
   "source": [
    "gen_new_aval_types_dp(ML_PARAM_TW_TRAIN, ML_RET_TW_TRAIN, 'train', VECTOR_OUTPUT_TRAIN)\n",
    "gen_new_aval_types_dp(ML_PARAM_TW_TEST, ML_RET_TW_TEST, 'test', VECTOR_OUTPUT_TEST)"
   ]
  },
  {
   "cell_type": "markdown",
   "metadata": {},
   "source": [
    "Generates type vectors."
   ]
  },
  {
   "cell_type": "code",
   "execution_count": 78,
   "metadata": {},
   "outputs": [],
   "source": [
    "from dltpy.input_preparation.df_to_vec import generate_labels"
   ]
  },
  {
   "cell_type": "code",
   "execution_count": 79,
   "metadata": {},
   "outputs": [],
   "source": [
    "params_y_train, ret_y_train = generate_labels(ML_PARAM_TW_TRAIN, ML_RET_TW_TRAIN,\n",
    "                                              'train', VECTOR_OUTPUT_TRAIN)"
   ]
  },
  {
   "cell_type": "code",
   "execution_count": 80,
   "metadata": {},
   "outputs": [],
   "source": [
    "params_y_test, ret_y_test = generate_labels(ML_PARAM_TW_TEST, ML_RET_TW_TEST,\n",
    "                                            'test', VECTOR_OUTPUT_TEST)"
   ]
  },
  {
   "cell_type": "markdown",
   "metadata": {},
   "source": [
    "### Step 5: Learning the neural model"
   ]
  },
  {
   "cell_type": "code",
   "execution_count": 6,
   "metadata": {},
   "outputs": [
    {
     "name": "stdout",
     "output_type": "stream",
     "text": [
      "-- Using cpu for training.\n"
     ]
    }
   ],
   "source": [
    "from typewriter.model import load_data_tensors_TW, TWModel, train_loop_TW, \\\n",
    "                             evaluate_TW, report_TW, load_label_tensors_TW, \\\n",
    "                             TWModelA, EnhancedTWModel, BaseLineModel\n",
    "from statistics import mean\n",
    "from torch.utils.data import DataLoader, TensorDataset\n",
    "from torch.utils.tensorboard import SummaryWriter\n",
    "import torch\n",
    "import time\n",
    "device = torch.device('cuda' if torch.cuda.is_available() else 'cpu')\n",
    "print(f\"-- Using {device} for training.\")"
   ]
  },
  {
   "cell_type": "markdown",
   "metadata": {},
   "source": [
    "A writer for the Tensorboard"
   ]
  },
  {
   "cell_type": "code",
   "execution_count": 83,
   "metadata": {},
   "outputs": [],
   "source": [
    "tb_writer = SummaryWriter(join(TB_WRITER_PATH, 'tw_enh_4'))"
   ]
  },
  {
   "cell_type": "code",
   "execution_count": 7,
   "metadata": {},
   "outputs": [
    {
     "data": {
      "text/plain": [
       "<module 'typewriter.model' from '/home/amir/projects/dl-type-python/typewriter/model.py'>"
      ]
     },
     "execution_count": 7,
     "metadata": {},
     "output_type": "execute_result"
    }
   ],
   "source": [
    "from typewriter import model as model_tw\n",
    "reload(model_tw)"
   ]
  },
  {
   "cell_type": "markdown",
   "metadata": {},
   "source": [
    "Loads parameters' data vectors"
   ]
  },
  {
   "cell_type": "code",
   "execution_count": null,
   "metadata": {},
   "outputs": [],
   "source": [
    "def load_param_train_data():\n",
    "    return load_data_tensors_TW(join(VECTOR_OUTPUT_TRAIN, 'identifiers_param_train_datapoints_x.npy')), \\\n",
    "           load_data_tensors_TW(join(VECTOR_OUTPUT_TRAIN, 'tokens_param_train_datapoints_x.npy')), \\\n",
    "           load_data_tensors_TW(join(VECTOR_OUTPUT_TRAIN, 'comments_param_train_datapoints_x.npy')), \\\n",
    "           load_data_tensors_TW(join(VECTOR_OUTPUT_TRAIN, 'params_train_aval_types_dp.npy')), \\\n",
    "           load_label_tensors_TW(join(VECTOR_OUTPUT_TRAIN, 'params_train_datapoints_y.npy'))\n",
    "\n",
    "def load_param_test_data():\n",
    "    return load_data_tensors_TW(join(VECTOR_OUTPUT_TEST, 'identifiers_param_test_datapoints_x.npy')), \\\n",
    "           load_data_tensors_TW(join(VECTOR_OUTPUT_TEST, 'tokens_param_test_datapoints_x.npy')), \\\n",
    "           load_data_tensors_TW(join(VECTOR_OUTPUT_TEST, 'comments_param_test_datapoints_x.npy')), \\\n",
    "           load_data_tensors_TW(join(VECTOR_OUTPUT_TEST, 'params_test_aval_types_dp.npy')), \\\n",
    "           load_label_tensors_TW(join(VECTOR_OUTPUT_TEST, 'params_test_datapoints_y.npy'))"
   ]
  },
  {
   "cell_type": "markdown",
   "metadata": {},
   "source": [
    "Loads return' data vectors"
   ]
  },
  {
   "cell_type": "code",
   "execution_count": null,
   "metadata": {},
   "outputs": [],
   "source": [
    "def load_ret_train_data():\n",
    "    return load_data_tensors_TW(join(VECTOR_OUTPUT_TRAIN, 'identifiers_ret_train_datapoints_x.npy')), \\\n",
    "           load_data_tensors_TW(join(VECTOR_OUTPUT_TRAIN, 'tokens_ret_train_datapoints_x.npy')), \\\n",
    "           load_data_tensors_TW(join(VECTOR_OUTPUT_TRAIN, 'comments_ret_train_datapoints_x.npy')), \\\n",
    "           load_data_tensors_TW(join(VECTOR_OUTPUT_TRAIN, 'ret_train_aval_types_dp.npy')), \\\n",
    "           load_label_tensors_TW(join(VECTOR_OUTPUT_TRAIN, 'ret_train_datapoints_y.npy'))\n",
    "\n",
    "def load_ret_test_data():\n",
    "    return load_data_tensors_TW(join(VECTOR_OUTPUT_TEST, 'identifiers_ret_test_datapoints_x.npy')), \\\n",
    "           load_data_tensors_TW(join(VECTOR_OUTPUT_TEST, 'tokens_ret_test_datapoints_x.npy')), \\\n",
    "           load_data_tensors_TW(join(VECTOR_OUTPUT_TEST, 'comments_ret_test_datapoints_x.npy')), \\\n",
    "           load_data_tensors_TW(join(VECTOR_OUTPUT_TEST, 'ret_test_aval_types_dp.npy')), \\\n",
    "           load_label_tensors_TW(join(VECTOR_OUTPUT_TEST, 'ret_test_datapoints_y.npy'))"
   ]
  },
  {
   "cell_type": "markdown",
   "metadata": {},
   "source": [
    "Concatanates parameters and return data vectors for combined prediction"
   ]
  },
  {
   "cell_type": "code",
   "execution_count": 6,
   "metadata": {},
   "outputs": [],
   "source": [
    "def load_combined_train_data():\n",
    "    return torch.cat((load_data_tensors_TW(join(VECTOR_OUTPUT_TRAIN, 'identifiers_param_train_datapoints_x.npy')),\n",
    "                      load_data_tensors_TW(join(VECTOR_OUTPUT_TRAIN, 'identifiers_ret_train_datapoints_x.npy')))), \\\n",
    "           torch.cat((load_data_tensors_TW(join(VECTOR_OUTPUT_TRAIN, 'tokens_param_train_datapoints_x.npy')),\n",
    "                      load_data_tensors_TW(join(VECTOR_OUTPUT_TRAIN, 'tokens_ret_train_datapoints_x.npy')))), \\\n",
    "           torch.cat((load_data_tensors_TW(join(VECTOR_OUTPUT_TRAIN, 'comments_param_train_datapoints_x.npy')),\n",
    "                      load_data_tensors_TW(join(VECTOR_OUTPUT_TRAIN, 'comments_ret_train_datapoints_x.npy')))), \\\n",
    "           torch.cat((load_label_tensors_TW(join(VECTOR_OUTPUT_TRAIN, 'params_train_datapoints_y.npy')),\n",
    "                      load_label_tensors_TW(join(VECTOR_OUTPUT_TRAIN, 'ret_train_datapoints_y.npy'))))\n",
    "\n",
    "def load_combined_test_data():\n",
    "    return torch.cat((load_data_tensors_TW(join(VECTOR_OUTPUT_TEST, 'identifiers_param_test_datapoints_x.npy')),\n",
    "                      load_data_tensors_TW(join(VECTOR_OUTPUT_TEST, 'identifiers_ret_test_datapoints_x.npy')))), \\\n",
    "           torch.cat((load_data_tensors_TW(join(VECTOR_OUTPUT_TEST, 'tokens_param_test_datapoints_x.npy')),\n",
    "                      load_data_tensors_TW(join(VECTOR_OUTPUT_TEST, 'tokens_ret_test_datapoints_x.npy')))), \\\n",
    "           torch.cat((load_data_tensors_TW(join(VECTOR_OUTPUT_TEST, 'comments_param_test_datapoints_x.npy')),\n",
    "                      load_data_tensors_TW(join(VECTOR_OUTPUT_TEST, 'comments_ret_test_datapoints_x.npy')))), \\\n",
    "           torch.cat((load_label_tensors_TW(join(VECTOR_OUTPUT_TEST, 'params_test_datapoints_y.npy')),\n",
    "                      load_label_tensors_TW(join(VECTOR_OUTPUT_TEST, 'ret_test_datapoints_y.npy'))))\n",
    "\n",
    "def load_aval_types_data():\n",
    "    return torch.cat((load_data_tensors_TW(join(VECTOR_OUTPUT_TRAIN, 'params_train_aval_types_dp.npy')),\n",
    "                      load_data_tensors_TW(join(VECTOR_OUTPUT_TRAIN, 'ret_train_aval_types_dp.npy')))), \\\n",
    "           torch.cat((load_data_tensors_TW(join(VECTOR_OUTPUT_TEST, 'params_test_aval_types_dp.npy')),\n",
    "                      load_data_tensors_TW(join(VECTOR_OUTPUT_TEST, 'ret_test_aval_types_dp.npy')))),\\\n",
    "           torch.cat((load_data_tensors_TW(join(VECTOR_OUTPUT_TRAIN, 'params_train_new_aval_types_dp.npy')),\n",
    "                      load_data_tensors_TW(join(VECTOR_OUTPUT_TRAIN, 'ret_train_new_aval_types_dp.npy')))), \\\n",
    "           torch.cat((load_data_tensors_TW(join(VECTOR_OUTPUT_TEST, 'params_test_new_aval_types_dp.npy')),\n",
    "                      load_data_tensors_TW(join(VECTOR_OUTPUT_TEST, 'ret_test_new_aval_types_dp.npy'))))"
   ]
  },
  {
   "cell_type": "code",
   "execution_count": 7,
   "metadata": {},
   "outputs": [],
   "source": [
    "def load_combined_train_data():\n",
    "    return torch.cat((load_data_tensors_TW(join(VECTOR_OUTPUT_TRAIN, 'identifiers_param_train_datapoints_x.npy')),\n",
    "                      load_data_tensors_TW(join(VECTOR_OUTPUT_TRAIN, 'identifiers_ret_train_datapoints_x.npy')))), \\\n",
    "           torch.cat((load_data_tensors_TW(join(VECTOR_OUTPUT_TRAIN, 'tokens_param_train_datapoints_x.npy')),\n",
    "                      load_data_tensors_TW(join(VECTOR_OUTPUT_TRAIN, 'tokens_ret_train_datapoints_x.npy')))), \\\n",
    "           torch.cat((load_data_tensors_TW(join(VECTOR_OUTPUT_TRAIN, 'comments_param_train_datapoints_x.npy')),\n",
    "                      load_data_tensors_TW(join(VECTOR_OUTPUT_TRAIN, 'comments_ret_train_datapoints_x.npy')))), \\\n",
    "           torch.cat((load_data_tensors_TW(join(VECTOR_OUTPUT_TRAIN, 'params_train_aval_types_dp.npy')),\n",
    "                      load_data_tensors_TW(join(VECTOR_OUTPUT_TRAIN, 'ret_train_aval_types_dp.npy')))), \\\n",
    "           torch.cat((load_label_tensors_TW(join(VECTOR_OUTPUT_TRAIN, 'params_train_datapoints_y.npy')),\n",
    "                      load_label_tensors_TW(join(VECTOR_OUTPUT_TRAIN, 'ret_train_datapoints_y.npy'))))\n",
    "\n",
    "def load_combined_test_data():\n",
    "    return torch.cat((load_data_tensors_TW(join(VECTOR_OUTPUT_TEST, 'identifiers_param_test_datapoints_x.npy')),\n",
    "                      load_data_tensors_TW(join(VECTOR_OUTPUT_TEST, 'identifiers_ret_test_datapoints_x.npy')))), \\\n",
    "           torch.cat((load_data_tensors_TW(join(VECTOR_OUTPUT_TEST, 'tokens_param_test_datapoints_x.npy')),\n",
    "                      load_data_tensors_TW(join(VECTOR_OUTPUT_TEST, 'tokens_ret_test_datapoints_x.npy')))), \\\n",
    "           torch.cat((load_data_tensors_TW(join(VECTOR_OUTPUT_TEST, 'comments_param_test_datapoints_x.npy')),\n",
    "                      load_data_tensors_TW(join(VECTOR_OUTPUT_TEST, 'comments_ret_test_datapoints_x.npy')))), \\\n",
    "           torch.cat((load_data_tensors_TW(join(VECTOR_OUTPUT_TEST, 'params_test_aval_types_dp.npy')),\n",
    "                      load_data_tensors_TW(join(VECTOR_OUTPUT_TEST, 'ret_test_aval_types_dp.npy')))), \\\n",
    "           torch.cat((load_label_tensors_TW(join(VECTOR_OUTPUT_TEST, 'params_test_datapoints_y.npy')),\n",
    "                      load_label_tensors_TW(join(VECTOR_OUTPUT_TEST, 'ret_test_datapoints_y.npy'))))"
   ]
  },
  {
   "cell_type": "markdown",
   "metadata": {},
   "source": [
    "Datasets"
   ]
  },
  {
   "cell_type": "code",
   "execution_count": null,
   "metadata": {},
   "outputs": [],
   "source": [
    "datasets_train = {'combined': load_combined_train_data,\n",
    "                  'return': load_ret_train_data,\n",
    "                  'argument': load_param_train_data}\n",
    "datasets_test = {'combined': load_combined_test_data,\n",
    "                 'return': load_ret_test_data,\n",
    "                 'argument': load_param_test_data}"
   ]
  },
  {
   "cell_type": "code",
   "execution_count": 7,
   "metadata": {},
   "outputs": [],
   "source": [
    "datasets_train = {'combined': load_combined_train_data}\n",
    "datasets_test = {'combined': load_combined_test_data}"
   ]
  },
  {
   "cell_type": "markdown",
   "metadata": {},
   "source": [
    "Learning parameters"
   ]
  },
  {
   "cell_type": "code",
   "execution_count": 27,
   "metadata": {},
   "outputs": [],
   "source": [
    "input_size = config_TW.W2V_VEC_LENGTH\n",
    "hidden_size = 512\n",
    "output_size = 1000\n",
    "num_layers = 1\n",
    "learning_rate = 0.002\n",
    "dropout_rate = 0.25\n",
    "epochs = 25\n",
    "top_n_pred = [1, 3, 5]\n",
    "n_rep = 1\n",
    "batch_size = 4098\n",
    "#train_split_size = 0.8\n",
    "data_loader_workers = 6"
   ]
  },
  {
   "cell_type": "code",
   "execution_count": 9,
   "metadata": {},
   "outputs": [],
   "source": [
    "params_dict = {'epochs': epochs, 'lr': learning_rate, 'dr': dropout_rate,\n",
    "               'batches': batch_size, 'layers': num_layers, 'hidden_size': hidden_size}"
   ]
  },
  {
   "cell_type": "markdown",
   "metadata": {},
   "source": [
    "Complete neural model of TypeWriter"
   ]
  },
  {
   "cell_type": "code",
   "execution_count": 21,
   "metadata": {},
   "outputs": [],
   "source": [
    "model = TWModel(input_size, hidden_size, config_TW.AVAILABLE_TYPES_NUMBER, num_layers,\n",
    "                output_size).to(device)"
   ]
  },
  {
   "cell_type": "markdown",
   "metadata": {},
   "source": [
    "The neural model of TypeWriter without available types"
   ]
  },
  {
   "cell_type": "code",
   "execution_count": null,
   "metadata": {},
   "outputs": [],
   "source": [
    "model = TWModelA(input_size, hidden_size, num_layers, output_size).to(device)"
   ]
  },
  {
   "cell_type": "markdown",
   "metadata": {},
   "source": [
    "The complete neurel model of TypeWriter with Dropout"
   ]
  },
  {
   "cell_type": "code",
   "execution_count": 28,
   "metadata": {},
   "outputs": [],
   "source": [
    "model = EnhancedTWModel(input_size, hidden_size, config_TW.AVAILABLE_TYPES_NUMBER, num_layers,\n",
    "                output_size, dropout_rate).to(device)"
   ]
  },
  {
   "cell_type": "markdown",
   "metadata": {},
   "source": [
    "Data parallesim for mutli-GPUs"
   ]
  },
  {
   "cell_type": "code",
   "execution_count": 29,
   "metadata": {},
   "outputs": [],
   "source": [
    "model = torch.nn.DataParallel(model)"
   ]
  },
  {
   "cell_type": "code",
   "execution_count": 12,
   "metadata": {},
   "outputs": [
    {
     "data": {
      "text/plain": [
       "'EnhancedTWModel'"
      ]
     },
     "execution_count": 12,
     "metadata": {},
     "output_type": "execute_result"
    }
   ],
   "source": [
    "model.module.__class__.__name__"
   ]
  },
  {
   "cell_type": "markdown",
   "metadata": {},
   "source": [
    "Loading data"
   ]
  },
  {
   "cell_type": "code",
   "execution_count": 13,
   "metadata": {},
   "outputs": [
    {
     "name": "stdout",
     "output_type": "stream",
     "text": [
      "Loaded train and test sets in 6.95 min\n"
     ]
    }
   ],
   "source": [
    "load_data_t = time.time()\n",
    "X_id_train, X_tok_train, X_cm_train, Y_train = load_combined_train_data()\n",
    "X_id_test, X_tok_test, X_cm_test, Y_test = load_combined_test_data()\n",
    "X_type_train, X_type_test, X_new_type_train, X_new_type_test = load_aval_types_data()\n",
    "print(\"Loaded train and test sets in %.2f min\" % ((time.time()-load_data_t) / 60))"
   ]
  },
  {
   "cell_type": "code",
   "execution_count": 14,
   "metadata": {},
   "outputs": [
    {
     "name": "stdout",
     "output_type": "stream",
     "text": [
      "Loaded train and test sets in 31.75 min\n"
     ]
    }
   ],
   "source": [
    "load_data_t = time.time()\n",
    "X_id_train, X_tok_train, X_cm_train, X_type_train, Y_train = load_combined_train_data()\n",
    "X_id_test, X_tok_test, X_cm_test, X_type_test, Y_test = load_combined_test_data()\n",
    "print(\"Loaded train and test sets in %.2f min\" % ((time.time()-load_data_t) / 60))"
   ]
  },
  {
   "cell_type": "code",
   "execution_count": 20,
   "metadata": {},
   "outputs": [],
   "source": [
    "train_loader = DataLoader(TensorDataset(X_id_train, X_tok_train, X_cm_train, X_type_train,\n",
    "                                        Y_train), batch_size=batch_size, shuffle=True,\n",
    "                                        pin_memory=True, num_workers=data_loader_workers)\n",
    "test_loader = DataLoader(TensorDataset(X_id_test, X_tok_test, X_cm_test, X_type_test,\n",
    "                                       Y_test), batch_size=batch_size)"
   ]
  },
  {
   "cell_type": "code",
   "execution_count": 30,
   "metadata": {},
   "outputs": [],
   "source": [
    "train_loader = DataLoader(TensorDataset(X_id_train, X_tok_train, X_cm_train, X_type_train,\n",
    "                                        Y_train), batch_size=batch_size,\n",
    "                                        pin_memory=True, num_workers=data_loader_workers)\n",
    "\n",
    "train_loader_new = DataLoader(TensorDataset(X_id_train, X_tok_train, X_cm_train, X_new_type_train,\n",
    "                                        Y_train), batch_size=batch_size,\n",
    "                                        pin_memory=True, num_workers=data_loader_workers)\n",
    "\n",
    "test_loader = DataLoader(TensorDataset(X_id_test, X_tok_test, X_cm_test, X_type_test,\n",
    "                                       Y_test), batch_size=batch_size)\n",
    "\n",
    "test_loader_new = DataLoader(TensorDataset(X_id_test, X_tok_test, X_cm_test, X_new_type_test,\n",
    "                                       Y_test), batch_size=batch_size)"
   ]
  },
  {
   "cell_type": "code",
   "execution_count": 17,
   "metadata": {},
   "outputs": [],
   "source": [
    "from datetime import datetime\n",
    "def eval_pred(y_true, y_pred, model_name, data_name, params):\n",
    "    # Ignore other type\n",
    "    idx_of_other = pickle.load(open(LABEL_ENCODER_PATH_TW, 'rb')).transform(['other'])[0]\n",
    "    idx = (y_true != idx_of_other) & (y_pred[:, 0] != idx_of_other)\n",
    "    f1_score_top_n = []\n",
    "    res_time = datetime.now().strftime(\"%b%d_%H-%M-%S\")\n",
    "    for top_n in top_n_pred:\n",
    "        filename = f\"{model_name}_{data_name}_1_{top_n}\"\n",
    "        report_TW(y_true, y_pred, top_n, f\"{filename}_unfiltered_{res_time}\", RESULTS_DIR, params)\n",
    "        report = report_TW(y_true[idx], y_pred[idx], top_n, f\"{filename}_filtered_{res_time}\",\n",
    "                           RESULTS_DIR, params)\n",
    "        f1_score_top_n.append(report['result']['macro avg']['f1-score'])\n",
    "    print(\"Mean f1_score:\", mean(f1_score_top_n))"
   ]
  },
  {
   "cell_type": "code",
   "execution_count": 14,
   "metadata": {},
   "outputs": [
    {
     "data": {
      "text/plain": [
       "0.002"
      ]
     },
     "execution_count": 14,
     "metadata": {},
     "output_type": "execute_result"
    }
   ],
   "source": [
    "learning_rate"
   ]
  },
  {
   "cell_type": "markdown",
   "metadata": {},
   "source": [
    "## TypeWriter model"
   ]
  },
  {
   "cell_type": "code",
   "execution_count": 31,
   "metadata": {},
   "outputs": [
    {
     "name": "stdout",
     "output_type": "stream",
     "text": [
      "epoch 1 loss: 344.2913110256195\n",
      "epoch 2 loss: 297.148939371109\n",
      "epoch 3 loss: 283.53598523139954\n",
      "epoch 4 loss: 266.65901947021484\n",
      "epoch 5 loss: 251.11460638046265\n",
      "epoch 6 loss: 241.32087349891663\n",
      "epoch 7 loss: 227.53599429130554\n",
      "epoch 8 loss: 215.9574567079544\n",
      "epoch 9 loss: 203.65626859664917\n",
      "epoch 10 loss: 191.64780074357986\n",
      "epoch 11 loss: 182.1109078526497\n",
      "epoch 12 loss: 171.0136041045189\n",
      "epoch 13 loss: 162.41219633817673\n",
      "epoch 14 loss: 154.49342113733292\n",
      "epoch 15 loss: 146.5005276799202\n",
      "epoch 16 loss: 138.68444299697876\n",
      "epoch 17 loss: 131.90047499537468\n",
      "epoch 18 loss: 127.65022179484367\n",
      "epoch 19 loss: 123.03492967039347\n",
      "epoch 20 loss: 117.33959572017193\n",
      "epoch 21 loss: 113.97307950258255\n",
      "epoch 22 loss: 109.919218942523\n",
      "epoch 23 loss: 106.28467565774918\n",
      "epoch 24 loss: 102.9214918538928\n",
      "epoch 25 loss: 101.05355986766517\n",
      "Training finished in 17.74 min\n",
      "Prediction finished in 0.11 min\n"
     ]
    }
   ],
   "source": [
    "train_t = time.time()\n",
    "train_loop_TW(model, train_loader, learning_rate, epochs, tb_writer)\n",
    "print(\"Training finished in %.2f min\" % ((time.time()-train_t) / 60))\n",
    "eval_t = time.time()\n",
    "y_true, y_pred = evaluate_TW(model, test_loader, top_n=max(top_n_pred))\n",
    "print(\"Prediction finished in %.2f min\" % ((time.time()-eval_t) / 60))"
   ]
  },
  {
   "cell_type": "code",
   "execution_count": 32,
   "metadata": {},
   "outputs": [
    {
     "name": "stdout",
     "output_type": "stream",
     "text": [
      "Accuracy:  {'precision': 0.45693826319007336, 'recall': 0.3440033116781255, 'f1-score': 0.34681962744592276, 'support': 83585}\n",
      "Accuracy:  {'precision': 0.5724107652623686, 'recall': 0.5400344168000438, 'f1-score': 0.518498913158393, 'support': 48987}\n",
      "Accuracy:  {'precision': 0.7118306027077589, 'recall': 0.49670997519369786, 'f1-score': 0.5410742930214743, 'support': 83585}\n",
      "Accuracy:  {'precision': 0.7048218716629935, 'recall': 0.649107957101764, 'f1-score': 0.6464979732822221, 'support': 48987}\n",
      "Accuracy:  {'precision': 0.7861201086066943, 'recall': 0.5593667711585908, 'f1-score': 0.6126003675463935, 'support': 83585}\n",
      "Accuracy:  {'precision': 0.7606753727131595, 'recall': 0.6995458532116107, 'f1-score': 0.704313275970709, 'support': 48987}\n",
      "Mean f1_score: 0.6231033874704414\n"
     ]
    }
   ],
   "source": [
    "eval_pred(y_true, y_pred, model.module.__class__.__name__, 'combined', params_dict)"
   ]
  },
  {
   "cell_type": "code",
   "execution_count": 33,
   "metadata": {},
   "outputs": [],
   "source": [
    "model.module.reset_model_parameters()"
   ]
  },
  {
   "cell_type": "markdown",
   "metadata": {},
   "source": [
    "## TypeWriter model with new visible types"
   ]
  },
  {
   "cell_type": "code",
   "execution_count": 34,
   "metadata": {},
   "outputs": [
    {
     "name": "stdout",
     "output_type": "stream",
     "text": [
      "epoch 1 loss: 344.17678213119507\n",
      "epoch 2 loss: 299.2484109401703\n",
      "epoch 3 loss: 278.3684136867523\n",
      "epoch 4 loss: 260.8315660953522\n",
      "epoch 5 loss: 247.14495658874512\n",
      "epoch 6 loss: 235.30976700782776\n",
      "epoch 7 loss: 222.40239799022675\n",
      "epoch 8 loss: 211.07673239707947\n",
      "epoch 9 loss: 200.12483990192413\n",
      "epoch 10 loss: 188.44157642126083\n",
      "epoch 11 loss: 176.77054154872894\n",
      "epoch 12 loss: 166.97948628664017\n",
      "epoch 13 loss: 158.0754212141037\n",
      "epoch 14 loss: 149.56696286797523\n",
      "epoch 15 loss: 141.426593542099\n",
      "epoch 16 loss: 135.65105465054512\n",
      "epoch 17 loss: 129.30242632329464\n",
      "epoch 18 loss: 122.95608769357204\n",
      "epoch 19 loss: 116.918755158782\n",
      "epoch 20 loss: 111.9315587580204\n",
      "epoch 21 loss: 113.71271162480116\n",
      "epoch 22 loss: 107.41396814584732\n",
      "epoch 23 loss: 103.54091040045023\n",
      "epoch 24 loss: 99.29997021332383\n",
      "epoch 25 loss: 96.12666046619415\n",
      "Training finished in 17.80 min\n",
      "Prediction finished in 0.11 min\n"
     ]
    }
   ],
   "source": [
    "train_t = time.time()\n",
    "train_loop_TW(model, train_loader_new, learning_rate, epochs)\n",
    "print(\"Training finished in %.2f min\" % ((time.time()-train_t) / 60))\n",
    "eval_t = time.time()\n",
    "y_true_new, y_pred_new = evaluate_TW(model, test_loader_new, top_n=max(top_n_pred))\n",
    "print(\"Prediction finished in %.2f min\" % ((time.time()-eval_t) / 60))"
   ]
  },
  {
   "cell_type": "code",
   "execution_count": 37,
   "metadata": {},
   "outputs": [
    {
     "name": "stderr",
     "output_type": "stream",
     "text": [
      "/home/amir/py_venv/py_36/lib/python3.6/site-packages/sklearn/metrics/_classification.py:1272: UndefinedMetricWarning: Precision and F-score are ill-defined and being set to 0.0 in labels with no predicted samples. Use `zero_division` parameter to control this behavior.\n",
      "  _warn_prf(average, modifier, msg_start, len(result))\n",
      "/home/amir/py_venv/py_36/lib/python3.6/site-packages/sklearn/metrics/_classification.py:1272: UndefinedMetricWarning: Recall and F-score are ill-defined and being set to 0.0 in labels with no true samples. Use `zero_division` parameter to control this behavior.\n",
      "  _warn_prf(average, modifier, msg_start, len(result))\n"
     ]
    },
    {
     "name": "stdout",
     "output_type": "stream",
     "text": [
      "Accuracy:  {'precision': 0.43926207844199594, 'recall': 0.3414524704253121, 'f1-score': 0.3401402676264634, 'support': 83585}\n",
      "Accuracy:  {'precision': 0.5712246045799666, 'recall': 0.56062705267454, 'f1-score': 0.5313804835653451, 'support': 49250}\n",
      "Accuracy:  {'precision': 0.7227509305549115, 'recall': 0.5066965887562926, 'f1-score': 0.5500344783436759, 'support': 83585}\n",
      "Accuracy:  {'precision': 0.703264381230345, 'recall': 0.6675870849639108, 'f1-score': 0.65897174635333, 'support': 49250}\n",
      "Accuracy:  {'precision': 0.7938273325060092, 'recall': 0.5742563149039566, 'f1-score': 0.6264156863010883, 'support': 83585}\n",
      "Accuracy:  {'precision': 0.7669350067446209, 'recall': 0.7275667302929301, 'f1-score': 0.7250292242463884, 'support': 49250}\n",
      "Mean f1_score: 0.6384604847216878\n"
     ]
    }
   ],
   "source": [
    "eval_pred(y_true_new, y_pred_new, model.module.__class__.__name__ + \"-new\", 'combined', params_dict)"
   ]
  },
  {
   "cell_type": "code",
   "execution_count": null,
   "metadata": {},
   "outputs": [],
   "source": [
    "tb_writer.close()"
   ]
  },
  {
   "cell_type": "markdown",
   "metadata": {},
   "source": [
    "### Naive Baseline Model"
   ]
  },
  {
   "cell_type": "code",
   "execution_count": null,
   "metadata": {},
   "outputs": [],
   "source": [
    "for i in range(1, n_rep+1):\n",
    "        \n",
    "    train_t = time.time()\n",
    "    train_loop_TW(model, train_loader, learning_rate, epochs)\n",
    "    print(\"Training finished in %.2f min\" % ((time.time()-train_t) / 60))\n",
    "    eval_t = time.time()\n",
    "    y_true, y_pred = evaluate_TW(model, test_loader, top_n=max(top_n_pred))\n",
    "    print(\"Prediction finished in %.2f min\" % ((time.time()-eval_t) / 60))\n",
    "\n",
    "    # Ignore other type\n",
    "    idx = (y_true != idx_of_other) & (y_pred[:, 0] != idx_of_other)\n",
    "    f1_score_top_n = []\n",
    "    for top_n in top_n_pred:\n",
    "        filename = f\"{model.module.__class__.__name__}_{d}_{i}_{top_n}\"\n",
    "        report_TW(y_true, y_pred, top_n, f\"{filename}_unfiltered\", RESULTS_DIR)\n",
    "        report = report_TW(y_true[idx], y_pred[idx], top_n, f\"{filename}_filtered\", RESULTS_DIR)\n",
    "        f1_score_top_n.append(report['macro avg']['f1-score'])\n",
    "    print(\"Mean f1_score:\", mean(f1_score_top_n))"
   ]
  },
  {
   "cell_type": "code",
   "execution_count": null,
   "metadata": {},
   "outputs": [],
   "source": [
    "torch.save(model.module, './tw_model_files/tw_pretrained_model.pt')"
   ]
  },
  {
   "cell_type": "markdown",
   "metadata": {},
   "source": [
    "# Results"
   ]
  },
  {
   "cell_type": "code",
   "execution_count": 38,
   "metadata": {},
   "outputs": [
    {
     "data": {
      "text/plain": [
       "<module 'result_proc' from '/home/amir/projects/dl-type-python/result_proc.py'>"
      ]
     },
     "execution_count": 38,
     "metadata": {},
     "output_type": "execute_result"
    }
   ],
   "source": [
    "import result_proc\n",
    "reload(result_proc)"
   ]
  },
  {
   "cell_type": "code",
   "execution_count": null,
   "metadata": {},
   "outputs": [],
   "source": [
    "res = result_proc.eval_result(RESULTS_DIR, 'EnhancedTWModel', 'May13_14-55-23', 'return',\n",
    "                              'filtered', True)\n",
    "print(res)"
   ]
  },
  {
   "cell_type": "markdown",
   "metadata": {},
   "source": [
    "Plotting the results"
   ]
  },
  {
   "cell_type": "code",
   "execution_count": 42,
   "metadata": {},
   "outputs": [
    {
     "data": {
      "image/png": "[encoded data removed]",
      "text/plain": [
       "<Figure size 432x288 with 1 Axes>"
      ]
     },
     "metadata": {
      "needs_background": "light"
     },
     "output_type": "display_data"
    },
    {
     "name": "stdout",
     "output_type": "stream",
     "text": [
      "['Top-5', 'Top-1', 'Top-3'] [72.75667302929301, 56.06270526745401, 66.75870849639108] [76.69350067446209, 57.12246045799666, 70.32643812303449] [72.50292242463884, 53.138048356534505, 65.897174635333]\n"
     ]
    }
   ],
   "source": [
    "result_proc.plot_result(result_proc.eval_result(RESULTS_DIR, 'EnhancedTWModel-new', 'May15_15-07-28', 'combined',\n",
    "                              'filtered', True), \"TypeWriter-Combined-new-types\")"
   ]
  },
  {
   "cell_type": "code",
   "execution_count": 22,
   "metadata": {},
   "outputs": [
    {
     "data": {
      "image/png": "[encoded data removed]",
      "text/plain": [
       "<Figure size 432x288 with 1 Axes>"
      ]
     },
     "metadata": {
      "needs_background": "light"
     },
     "output_type": "display_data"
    },
    {
     "name": "stdout",
     "output_type": "stream",
     "text": [
      "[] [] [] []\n"
     ]
    }
   ],
   "source": [
    "result_proc.plot_result(result_proc.eval_result(RESULTS_DIR, 'EnhancedTWModel', 'May13_14-55-23', 'argument',\n",
    "                              'filtered', True), \"TypeWriter-Argument-New\")"
   ]
  },
  {
   "cell_type": "code",
   "execution_count": 31,
   "metadata": {},
   "outputs": [
    {
     "data": {
      "image/png": "[encoded data removed]",
      "text/plain": [
       "<Figure size 432x288 with 1 Axes>"
      ]
     },
     "metadata": {
      "needs_background": "light"
     },
     "output_type": "display_data"
    },
    {
     "name": "stdout",
     "output_type": "stream",
     "text": [
      "['Top-5', 'Top-3', 'Top-1'] [83.07651591831498, 79.7475677000394, 73.73461026652069] [87.9976097623528, 84.6184749135855, 77.80797060243285] [84.2408048784758, 80.64904080036537, 73.88029873801545]\n"
     ]
    }
   ],
   "source": [
    "result_proc.plot_result(result_proc.eval_result(RESULTS_DIR, 'EnhancedTWModel', 'May09_14-12-08', 'return',\n",
    "                              'filtered', True), \"TypeWriter-Return\")"
   ]
  },
  {
   "cell_type": "markdown",
   "metadata": {},
   "source": [
    "Unfiltered results"
   ]
  },
  {
   "cell_type": "code",
   "execution_count": 35,
   "metadata": {},
   "outputs": [
    {
     "data": {
      "image/png": "[encoded data removed]",
      "text/plain": [
       "<Figure size 432x288 with 1 Axes>"
      ]
     },
     "metadata": {
      "needs_background": "light"
     },
     "output_type": "display_data"
    },
    {
     "name": "stdout",
     "output_type": "stream",
     "text": [
      "['Top-1', 'Top-5', 'Top-3'] [53.92213767377916, 68.43081345262915, 64.3510694386008] [64.74774872954619, 82.08665573397649, 78.32595054566593] [55.7994941250677, 72.5779463794482, 68.1350160157454]\n"
     ]
    }
   ],
   "source": [
    "result_proc.plot_result(result_proc.eval_result(RESULTS_DIR, 'EnhancedTWModel', 'May09_14-12-08', 'return',\n",
    "                              'unfiltered', True), \"TypeWriter-combined\")"
   ]
  },
  {
   "cell_type": "markdown",
   "metadata": {},
   "source": [
    "## RayTune"
   ]
  },
  {
   "cell_type": "code",
   "execution_count": null,
   "metadata": {},
   "outputs": [],
   "source": [
    "from ray import tune\n",
    "import ray\n",
    "ray.init(memory=16 * 1024 * 1024 * 1024,\n",
    "         object_store_memory=8 * 1024 * 1024 * 1024)"
   ]
  },
  {
   "cell_type": "code",
   "execution_count": null,
   "metadata": {},
   "outputs": [],
   "source": [
    "train_loader, test_loader = tune.utils.pin_in_object_store(train_loader), tune.utils.pin_in_object_store(test_loader)"
   ]
  },
  {
   "cell_type": "code",
   "execution_count": null,
   "metadata": {},
   "outputs": [],
   "source": [
    "idx_of_other = tune.utils.pin_in_object_store(idx_of_other)"
   ]
  },
  {
   "cell_type": "code",
   "execution_count": null,
   "metadata": {},
   "outputs": [],
   "source": [
    "#@ray.remote\n",
    "def train_TW(config):\n",
    "    top_n_pred = [1, 3, 5]\n",
    "    model = learn.TWModel(input_size, config['hidden_size'], X_types_param.shape[1],\n",
    "                          config['num_layers'], output_size, True).to(device)\n",
    "\n",
    "    #for i in range(1, n_rep+1):\n",
    "    i=1\n",
    "\n",
    "    learn.train_loop_TW(model, config['train_loader'], config['learning_rate'], config['epochs'])\n",
    "    y_true, y_pred = learn.evaluate_TW(model, config['test_loader'], top_n=max(top_n_pred))\n",
    "#     learn.train_loop_TW(model, train_loader, config['learning_rate'], config['epochs'])\n",
    "#     y_true, y_pred = learn.evaluate_TW(model, test_loader, top_n=max(top_n_pred))\n",
    "\n",
    "    # Ignore other type\n",
    "    #idx_of_other = pickle.load(open(f'./output/ml_inputs/label_encoder.pkl', 'rb')).transform(['other'])[0]\n",
    "    idx = (y_true != tune.utils.get_pinned_object(idx_of_other)) & (y_pred[:, 0] != tune.utils.get_pinned_object(idx_of_other))\n",
    "    f1_score_top_n = []\n",
    "    for top_n in top_n_pred:\n",
    "        filename = f\"{learn.TWModel.__name__}_complete_{i}_{top_n}\"\n",
    "        #learn.report_TW(y_true, y_pred, top_n, f\"{filename}_unfiltered\")\n",
    "        report = learn.report_TW(y_true[idx], y_pred[idx], top_n, y_true.shape[0], f\"{filename}_filtered\")\n",
    "        f1_score_top_n.append(report['weighted avg']['f1-score'])\n",
    "    print(\"Mean f1_score:\", mean(f1_score_top_n))\n",
    "    ray.tune.track.log(mean_f1_score=mean(f1_score_top_n))"
   ]
  },
  {
   "cell_type": "code",
   "execution_count": null,
   "metadata": {},
   "outputs": [],
   "source": [
    "analysis = tune.run(train_TW,\n",
    "           config={'hidden_size': tune.grid_search([32, 64, 128]),\n",
    "                   'num_layers': tune.grid_search([1]),\n",
    "                   'learning_rate': tune.grid_search([0.002]),\n",
    "                   'epochs': tune.grid_search([5]),\n",
    "                   'train_loader': train_loader,\n",
    "                   'test_loader': test_loader},\n",
    "                   name=\"TypeWriter_model\",\n",
    "                   resources_per_trial={\"cpu\": 2,\n",
    "                                        \"gpu\": 2},\n",
    "                   verbose=1)\n",
    "print(\"Best config: \", analysis.get_best_config(metric=\"mean_f1_score\"))"
   ]
  },
  {
   "cell_type": "code",
   "execution_count": null,
   "metadata": {},
   "outputs": [],
   "source": [
    "ray.shutdown()"
   ]
  },
  {
   "cell_type": "code",
   "execution_count": null,
   "metadata": {},
   "outputs": [],
   "source": []
  }
 ],
 "metadata": {
  "kernelspec": {
   "display_name": "Python 3",
   "language": "python",
   "name": "python3"
  },
  "language_info": {
   "codemirror_mode": {
    "name": "ipython",
    "version": 3
   },
   "file_extension": ".py",
   "mimetype": "text/x-python",
   "name": "python",
   "nbconvert_exporter": "python",
   "pygments_lexer": "ipython3",
   "version": "3.6.9"
  }
 },
 "nbformat": 4,
 "nbformat_minor": 2
}
